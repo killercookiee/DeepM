{
 "cells": [
  {
   "cell_type": "code",
   "execution_count": null,
   "metadata": {},
   "outputs": [],
   "source": [
    "# Step 1: Clone the repository without checking out files\n",
    "!git clone --no-checkout https://github.com/AMIN-HASSAIRI/medical-image-segmentation.git\n",
    "\n",
    "# Step 2: Change directory to the cloned repository\n",
    "import os\n",
    "os.chdir('medical-image-segmentation')\n",
    "\n",
    "# Step 3: Enable sparse checkout\n",
    "!git sparse-checkout init --cone\n",
    "\n",
    "# Step 4: Set the specific folder you want to download (e.g., 'MIS-working-database')\n",
    "!git sparse-checkout set MIS-working-database\n",
    "\n",
    "# Step 5: Pull only the 'MIS-working-database' folder from the repository\n",
    "!git pull origin main"
   ]
  },
  {
   "cell_type": "code",
   "execution_count": null,
   "metadata": {},
   "outputs": [],
   "source": []
  }
 ],
 "metadata": {
  "kernelspec": {
   "display_name": "Python 3",
   "language": "python",
   "name": "python3"
  },
  "language_info": {
   "codemirror_mode": {
    "name": "ipython",
    "version": 3
   },
   "file_extension": ".py",
   "mimetype": "text/x-python",
   "name": "python",
   "nbconvert_exporter": "python",
   "pygments_lexer": "ipython3",
   "version": "3.11.5"
  }
 },
 "nbformat": 4,
 "nbformat_minor": 2
}
