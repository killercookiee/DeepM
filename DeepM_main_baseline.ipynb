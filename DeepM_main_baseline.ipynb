{
 "cells": [
  {
   "cell_type": "code",
   "execution_count": null,
   "metadata": {
    "vscode": {
     "languageId": "plaintext"
    }
   },
   "outputs": [],
   "source": [
    "# Step 1: Clone the repository without checking out files\n",
    "!git clone --no-checkout https://github.com/AMIN-HASSAIRI/medical-image-segmentation.git\n",
    "\n",
    "# Step 2: Change directory to the cloned repository\n",
    "import os\n",
    "os.chdir('medical-image-segmentation')\n",
    "\n",
    "# Step 3: Enable sparse checkout\n",
    "!git sparse-checkout init --cone\n",
    "\n",
    "# Step 4: Set the specific folder you want to download (e.g., 'MIS-working-database')\n",
    "!git sparse-checkout set MIS-working-database\n",
    "\n",
    "# Step 5: Pull only the 'MIS-working-database' folder from the repository\n",
    "!git pull origin main"
   ]
  }
 ],
 "metadata": {
  "language_info": {
   "name": "python"
  }
 },
 "nbformat": 4,
 "nbformat_minor": 2
}
