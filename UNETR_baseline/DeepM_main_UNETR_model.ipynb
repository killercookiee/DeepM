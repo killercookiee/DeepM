{
 "cells": [
  {
   "cell_type": "markdown",
   "metadata": {},
   "source": [
    "# Section 1: Description"
   ]
  },
  {
   "cell_type": "markdown",
   "metadata": {},
   "source": [
    "In this notebook, the following implementation was made to train the UNETR model (UNETR: Transformers for 3D Medical Image Segmentation https://arxiv.org/abs/2103.10504)using the dataset from this website https://www.synapse.org/#!Synapse:syn3193805/wiki/89480 . For the base line UNETR model the training was made using the following settings\n",
    "\n",
    "\n",
    "    img_size=(96, 96, 96),\n",
    "    feature_size=16,\n",
    "    hidden_size=768,\n",
    "    mlp_dim=3072,\n",
    "    num_heads=12,\n",
    "    norm_name=\"instance\",  # Removed proj_type\n",
    "    res_block=True,\n",
    "    dropout_rate=0.0,\n",
    "\n",
    "max_iterations = 25000\n",
    "\n",
    "For the result of the training, the base line model achieved this result: \"train completed, best_metric(dice value): 0.8027 at iteration: 25000\"    \n",
    "\n",
    "With the lack of computational resources available we couldn't run the training with that setup, so we had to adjust the parameters accordingly, shrinking the size of the training network as well as reducing the resolution of images to be (64,64,64).\n",
    "\n",
    "    img_size=(64, 64, 64),\n",
    "    feature_size=8,\n",
    "    hidden_size=256,\n",
    "    mlp_dim=1024,\n",
    "    num_heads=8,\n",
    "    norm_name=\"instance\",  # Removed proj_type\n",
    "    res_block=True,\n",
    "    dropout_rate=0.0,\n",
    "\n",
    "max_iterations = 10000\n",
    "\n",
    "For the reults of the training with this setup, we achieved the following results: \"Best Avg. Dice: 0.5090838074684143\"\n",
    "\n",
    "For the structure of this notebook is as follows: at the beginning we setup our environment, doing some imports, setup transforms for training and validation. Then we download our dataset and format our folders as mentioned later in the code. Checking out the shape and visualizing our data. Then we created our UNETR model and setting up its parameters. Running the training (it was made on a local machine, as we run out of resources from Google Colab). Checking the loss and dice metrics for the training. We tested the best performed model, through the visualization of an image, its label, and the output of the best performed model. Finally, we evaluated the model by the calculation of different metrics such as the F1 score, MSE and RMSE scores.\n",
    "\n",
    "But first let's look at the UNETR model overview."
   ]
  },
  {
   "cell_type": "markdown",
   "metadata": {},
   "source": [
    "# UNETR Overview"
   ]
  },
  {
   "cell_type": "markdown",
   "metadata": {},
   "source": [
    "The UNETR architecture combines the principles of U-Net with the power of transformers to process 3D volumetric data. In the traditional U-Net, a convolutional neural network (CNN) is used for encoding and decoding the features, but in UNETR, the encoder part is replaced with a Transformer-based architecture.\n",
    "\n",
    "Here’s how the architecture is structured:\n",
    "\n",
    "## 1. Encoder:\n",
    "The encoder consists of a stack of Transformer blocks.\n",
    "Unlike the standard U-Net which uses convolutional layers for feature extraction, UNETR uses 3D convolutional layers at the input level to transform the input volumetric data (such as a CT or MRI scan) into patches that the Transformer can process.\n",
    "These patches are then passed through a transformer encoder to learn contextual representations of the input data in a global context.\n",
    "The transformer encoder is composed of:\n",
    "Patch Embedding Layer: The input is first divided into patches (like in Vision Transformers). These patches are then embedded into a high-dimensional space.\n",
    "Multi-head Self-Attention Layers: These allow the model to capture long-range dependencies between different parts of the input data.\n",
    "Feedforward Neural Networks: After self-attention, the output is passed through feedforward networks (typically with a layer normalization step).\n",
    "Positional Encoding: Since transformers don’t inherently capture positional information, a positional encoding is added to give the model information about the relative position of patches within the volume.\n",
    "## 2. Decoder:\n",
    "The decoder is more akin to the U-Net architecture, where the output of the encoder is progressively upsampled to restore the original input dimensions.\n",
    "It uses deconvolution (transpose convolution) and skip connections to combine the fine-grained features from the encoder and recover spatial resolution, which is important for segmentation tasks.\n",
    "The final output layer typically consists of a softmax or sigmoid activation (depending on whether the task is multi-class or binary segmentation) to produce a voxel-wise segmentation map.\n",
    "## 3. Skip Connections:\n",
    "UNETR uses skip connections between the encoder and decoder, much like the original U-Net, to preserve high-resolution information from earlier layers. These connections help with more precise boundary detection in the segmented output.\n",
    "Skip connections are important because they allow the network to maintain low-level feature maps from earlier encoder layers, which are useful for fine segmentation.\n",
    "## 4. Output Layer:\n",
    "For segmentation, the output is typically a voxel-wise classification, where each voxel in the input volume is assigned a class label (e.g., tumor vs. background).\n",
    "For binary segmentation (e.g., brain tumor vs. background), a sigmoid activation is used in the final layer.\n",
    "For multi-class segmentation (e.g., different types of tumors or tissues), a softmax activation function is used."
   ]
  },
  {
   "cell_type": "markdown",
   "metadata": {},
   "source": [
    "# Section 2: Implementation"
   ]
  },
  {
   "cell_type": "markdown",
   "metadata": {},
   "source": [
    "## Setup environment"
   ]
  },
  {
   "cell_type": "code",
   "execution_count": null,
   "metadata": {},
   "outputs": [],
   "source": [
    "# Install MONAI version 0.9.1\n",
    "! pip install -q \"monai==0.9.1\"\n",
    "\n",
    "# Install additional optional dependencies\n",
    "! pip install -q nibabel tqdm einops\n",
    "\n",
    "# Check if matplotlib is available and install it if needed\n",
    "try:\n",
    "    import matplotlib\n",
    "except ImportError:\n",
    "    print(\"Matplotlib not found. Installing...\")\n",
    "    ! pip install -q matplotlib\n",
    "\n",
    "# Use inline plotting in Jupyter\n",
    "%matplotlib inline"
   ]
  },
  {
   "cell_type": "markdown",
   "metadata": {},
   "source": [
    "## Setup imports"
   ]
  },
  {
   "cell_type": "code",
   "execution_count": 1,
   "metadata": {},
   "outputs": [
    {
     "name": "stdout",
     "output_type": "stream",
     "text": [
      "MONAI version: 0.9.1\n",
      "Numpy version: 1.26.4\n",
      "Pytorch version: 2.5.1+cpu\n",
      "MONAI flags: HAS_EXT = False, USE_COMPILED = False, USE_META_DICT = False\n",
      "MONAI rev id: 356d2d2f41b473f588899d705bbc682308cee52c\n",
      "MONAI __file__: d:\\master\\1st_semester\\Deep_Learning\\project\\DeepM\\.venv\\lib\\site-packages\\monai\\__init__.py\n",
      "\n",
      "Optional dependencies:\n",
      "Pytorch Ignite version: NOT INSTALLED or UNKNOWN VERSION.\n",
      "Nibabel version: 5.3.2\n",
      "scikit-image version: NOT INSTALLED or UNKNOWN VERSION.\n",
      "Pillow version: 11.0.0\n",
      "Tensorboard version: NOT INSTALLED or UNKNOWN VERSION.\n",
      "gdown version: NOT INSTALLED or UNKNOWN VERSION.\n",
      "TorchVision version: NOT INSTALLED or UNKNOWN VERSION.\n",
      "tqdm version: 4.67.0\n",
      "lmdb version: NOT INSTALLED or UNKNOWN VERSION.\n",
      "psutil version: 5.9.8\n",
      "pandas version: NOT INSTALLED or UNKNOWN VERSION.\n",
      "einops version: 0.8.0\n",
      "transformers version: NOT INSTALLED or UNKNOWN VERSION.\n",
      "mlflow version: NOT INSTALLED or UNKNOWN VERSION.\n",
      "pynrrd version: NOT INSTALLED or UNKNOWN VERSION.\n",
      "\n",
      "For details about installing the optional dependencies, please visit:\n",
      "    https://docs.monai.io/en/latest/installation.html#installing-the-recommended-dependencies\n",
      "\n"
     ]
    }
   ],
   "source": [
    "import os\n",
    "import shutil\n",
    "import tempfile\n",
    "\n",
    "import matplotlib.pyplot as plt\n",
    "from tqdm import tqdm\n",
    "\n",
    "from monai.losses import DiceCELoss\n",
    "from monai.inferers import sliding_window_inference\n",
    "from monai.transforms import (\n",
    "    AsDiscrete,\n",
    "    EnsureChannelFirstd,\n",
    "    Compose,\n",
    "    CropForegroundd,\n",
    "    LoadImaged,\n",
    "    Orientationd,\n",
    "    RandFlipd,\n",
    "    RandCropByPosNegLabeld,\n",
    "    RandShiftIntensityd,\n",
    "    ScaleIntensityRanged,\n",
    "    Spacingd,\n",
    "    RandRotate90d,\n",
    "    Resized,\n",
    ")\n",
    "\n",
    "from monai.config import print_config\n",
    "from monai.metrics import DiceMetric\n",
    "from monai.networks.nets import UNETR\n",
    "\n",
    "from monai.data import (\n",
    "    DataLoader,\n",
    "    CacheDataset,\n",
    "    load_decathlon_datalist,\n",
    "    decollate_batch,\n",
    ")\n",
    "\n",
    "\n",
    "import torch\n",
    "\n",
    "print_config()"
   ]
  },
  {
   "cell_type": "markdown",
   "metadata": {},
   "source": [
    "## Setup data directory"
   ]
  },
  {
   "cell_type": "code",
   "execution_count": 4,
   "metadata": {},
   "outputs": [
    {
     "name": "stdout",
     "output_type": "stream",
     "text": [
      "C:\\Users\\Amin-\\AppData\\Local\\Temp\\tmpol4zjpsk\n"
     ]
    }
   ],
   "source": [
    "directory = os.environ.get(\"MONAI_DATA_DIRECTORY\")\n",
    "if directory is not None:\n",
    "    os.makedirs(directory, exist_ok=True)\n",
    "root_dir = tempfile.mkdtemp() if directory is None else directory\n",
    "print(root_dir)"
   ]
  },
  {
   "cell_type": "markdown",
   "metadata": {},
   "source": [
    "## Setup transforms for training and validation"
   ]
  },
  {
   "cell_type": "code",
   "execution_count": 11,
   "metadata": {},
   "outputs": [],
   "source": [
    "train_transforms = Compose(\n",
    "    [\n",
    "        LoadImaged(keys=[\"image\", \"label\"]),\n",
    "        EnsureChannelFirstd(keys=[\"image\", \"label\"]),\n",
    "        Orientationd(keys=[\"image\", \"label\"], axcodes=\"RAS\"),\n",
    "        Spacingd(\n",
    "            keys=[\"image\", \"label\"],\n",
    "            pixdim=(1.5, 1.5, 2.0),\n",
    "            mode=(\"bilinear\", \"nearest\"),\n",
    "        ),\n",
    "        ScaleIntensityRanged(\n",
    "            keys=[\"image\"],\n",
    "            a_min=-175,\n",
    "            a_max=250,\n",
    "            b_min=0.0,\n",
    "            b_max=1.0,\n",
    "            clip=True,\n",
    "        ),\n",
    "        CropForegroundd(keys=[\"image\", \"label\"], source_key=\"image\"),\n",
    "        Resized(keys=[\"image\", \"label\"], spatial_size=(64, 64, 64), mode=\"nearest\"),\n",
    "        RandCropByPosNegLabeld(\n",
    "            keys=[\"image\", \"label\"],\n",
    "            label_key=\"label\",\n",
    "            spatial_size=(64, 64, 64),\n",
    "            pos=1,\n",
    "            neg=1,\n",
    "            num_samples=4,\n",
    "            image_key=\"image\",\n",
    "            image_threshold=0,\n",
    "        ),\n",
    "        RandFlipd(\n",
    "            keys=[\"image\", \"label\"],\n",
    "            spatial_axis=[0],\n",
    "            prob=0.10,\n",
    "        ),\n",
    "        RandFlipd(\n",
    "            keys=[\"image\", \"label\"],\n",
    "            spatial_axis=[1],\n",
    "            prob=0.10,\n",
    "        ),\n",
    "        RandFlipd(\n",
    "            keys=[\"image\", \"label\"],\n",
    "            spatial_axis=[2],\n",
    "            prob=0.10,\n",
    "        ),\n",
    "        RandRotate90d(\n",
    "            keys=[\"image\", \"label\"],\n",
    "            prob=0.10,\n",
    "            max_k=3,\n",
    "        ),\n",
    "        RandShiftIntensityd(\n",
    "            keys=[\"image\"],\n",
    "            offsets=0.10,\n",
    "            prob=0.50,\n",
    "        ),\n",
    "    ]\n",
    ")\n",
    "val_transforms = Compose(\n",
    "    [\n",
    "        LoadImaged(keys=[\"image\", \"label\"]),\n",
    "        EnsureChannelFirstd(keys=[\"image\", \"label\"]),\n",
    "        Orientationd(keys=[\"image\", \"label\"], axcodes=\"RAS\"),\n",
    "        Spacingd(\n",
    "            keys=[\"image\", \"label\"],\n",
    "            pixdim=(1.5, 1.5, 2.0),\n",
    "            mode=(\"bilinear\", \"nearest\"),\n",
    "        ),\n",
    "        ScaleIntensityRanged(keys=[\"image\"], a_min=-175, a_max=250, b_min=0.0, b_max=1.0, clip=True),\n",
    "        CropForegroundd(keys=[\"image\", \"label\"], source_key=\"image\"),\n",
    "        Resized(keys=[\"image\", \"label\"], spatial_size=(64, 64, 64), mode=\"nearest\"),\n",
    "    ]\n",
    ")"
   ]
  },
  {
   "cell_type": "code",
   "execution_count": 5,
   "metadata": {},
   "outputs": [
    {
     "name": "stdout",
     "output_type": "stream",
     "text": [
      "Requirement already satisfied: synapseclient in d:\\master\\1st_semester\\deep_learning\\project\\deepm\\.venv\\lib\\site-packages (4.6.0)\n",
      "Requirement already satisfied: requests<3.0,>=2.22.0 in d:\\master\\1st_semester\\deep_learning\\project\\deepm\\.venv\\lib\\site-packages (from synapseclient) (2.32.3)\n",
      "Requirement already satisfied: urllib3<2,>=1.26.18 in d:\\master\\1st_semester\\deep_learning\\project\\deepm\\.venv\\lib\\site-packages (from synapseclient) (1.26.20)\n",
      "Requirement already satisfied: deprecated<2.0,>=1.2.4 in d:\\master\\1st_semester\\deep_learning\\project\\deepm\\.venv\\lib\\site-packages (from synapseclient) (1.2.15)\n",
      "Requirement already satisfied: opentelemetry-api>=1.21.0 in d:\\master\\1st_semester\\deep_learning\\project\\deepm\\.venv\\lib\\site-packages (from synapseclient) (1.28.1)\n",
      "Requirement already satisfied: opentelemetry-sdk>=1.21.0 in d:\\master\\1st_semester\\deep_learning\\project\\deepm\\.venv\\lib\\site-packages (from synapseclient) (1.28.1)\n",
      "Requirement already satisfied: opentelemetry-exporter-otlp-proto-http>=1.21.0 in d:\\master\\1st_semester\\deep_learning\\project\\deepm\\.venv\\lib\\site-packages (from synapseclient) (1.28.1)\n",
      "Requirement already satisfied: opentelemetry-instrumentation-httpx>=0.48b0 in d:\\master\\1st_semester\\deep_learning\\project\\deepm\\.venv\\lib\\site-packages (from synapseclient) (0.49b1)\n",
      "Requirement already satisfied: opentelemetry-instrumentation-requests>=0.48b0 in d:\\master\\1st_semester\\deep_learning\\project\\deepm\\.venv\\lib\\site-packages (from synapseclient) (0.49b1)\n",
      "Requirement already satisfied: opentelemetry-instrumentation-threading>=0.48b0 in d:\\master\\1st_semester\\deep_learning\\project\\deepm\\.venv\\lib\\site-packages (from synapseclient) (0.49b1)\n",
      "Requirement already satisfied: opentelemetry-instrumentation-urllib>=0.48b0 in d:\\master\\1st_semester\\deep_learning\\project\\deepm\\.venv\\lib\\site-packages (from synapseclient) (0.49b1)\n",
      "Requirement already satisfied: nest-asyncio~=1.6.0 in d:\\master\\1st_semester\\deep_learning\\project\\deepm\\.venv\\lib\\site-packages (from synapseclient) (1.6.0)\n",
      "Requirement already satisfied: asyncio-atexit~=1.0.1 in d:\\master\\1st_semester\\deep_learning\\project\\deepm\\.venv\\lib\\site-packages (from synapseclient) (1.0.1)\n",
      "Requirement already satisfied: httpx~=0.27.0 in d:\\master\\1st_semester\\deep_learning\\project\\deepm\\.venv\\lib\\site-packages (from synapseclient) (0.27.2)\n",
      "Requirement already satisfied: tqdm<5.0,>=4.66.2 in d:\\master\\1st_semester\\deep_learning\\project\\deepm\\.venv\\lib\\site-packages (from synapseclient) (4.67.0)\n",
      "Requirement already satisfied: async-lru~=2.0.4 in d:\\master\\1st_semester\\deep_learning\\project\\deepm\\.venv\\lib\\site-packages (from synapseclient) (2.0.4)\n",
      "Requirement already satisfied: psutil~=5.9.8 in d:\\master\\1st_semester\\deep_learning\\project\\deepm\\.venv\\lib\\site-packages (from synapseclient) (5.9.8)\n",
      "Requirement already satisfied: typing-extensions>=4.0.0 in d:\\master\\1st_semester\\deep_learning\\project\\deepm\\.venv\\lib\\site-packages (from async-lru~=2.0.4->synapseclient) (4.12.2)\n",
      "Requirement already satisfied: wrapt<2,>=1.10 in d:\\master\\1st_semester\\deep_learning\\project\\deepm\\.venv\\lib\\site-packages (from deprecated<2.0,>=1.2.4->synapseclient) (1.16.0)\n",
      "Requirement already satisfied: anyio in d:\\master\\1st_semester\\deep_learning\\project\\deepm\\.venv\\lib\\site-packages (from httpx~=0.27.0->synapseclient) (4.6.2.post1)\n",
      "Requirement already satisfied: certifi in d:\\master\\1st_semester\\deep_learning\\project\\deepm\\.venv\\lib\\site-packages (from httpx~=0.27.0->synapseclient) (2024.8.30)\n",
      "Requirement already satisfied: httpcore==1.* in d:\\master\\1st_semester\\deep_learning\\project\\deepm\\.venv\\lib\\site-packages (from httpx~=0.27.0->synapseclient) (1.0.7)\n",
      "Requirement already satisfied: idna in d:\\master\\1st_semester\\deep_learning\\project\\deepm\\.venv\\lib\\site-packages (from httpx~=0.27.0->synapseclient) (3.10)\n",
      "Requirement already satisfied: sniffio in d:\\master\\1st_semester\\deep_learning\\project\\deepm\\.venv\\lib\\site-packages (from httpx~=0.27.0->synapseclient) (1.3.1)\n",
      "Requirement already satisfied: h11<0.15,>=0.13 in d:\\master\\1st_semester\\deep_learning\\project\\deepm\\.venv\\lib\\site-packages (from httpcore==1.*->httpx~=0.27.0->synapseclient) (0.14.0)\n",
      "Requirement already satisfied: importlib-metadata<=8.5.0,>=6.0 in d:\\master\\1st_semester\\deep_learning\\project\\deepm\\.venv\\lib\\site-packages (from opentelemetry-api>=1.21.0->synapseclient) (8.5.0)\n",
      "Requirement already satisfied: googleapis-common-protos~=1.52 in d:\\master\\1st_semester\\deep_learning\\project\\deepm\\.venv\\lib\\site-packages (from opentelemetry-exporter-otlp-proto-http>=1.21.0->synapseclient) (1.66.0)\n",
      "Requirement already satisfied: opentelemetry-exporter-otlp-proto-common==1.28.1 in d:\\master\\1st_semester\\deep_learning\\project\\deepm\\.venv\\lib\\site-packages (from opentelemetry-exporter-otlp-proto-http>=1.21.0->synapseclient) (1.28.1)\n",
      "Requirement already satisfied: opentelemetry-proto==1.28.1 in d:\\master\\1st_semester\\deep_learning\\project\\deepm\\.venv\\lib\\site-packages (from opentelemetry-exporter-otlp-proto-http>=1.21.0->synapseclient) (1.28.1)\n",
      "Requirement already satisfied: protobuf<6.0,>=5.0 in d:\\master\\1st_semester\\deep_learning\\project\\deepm\\.venv\\lib\\site-packages (from opentelemetry-proto==1.28.1->opentelemetry-exporter-otlp-proto-http>=1.21.0->synapseclient) (5.28.3)\n",
      "Requirement already satisfied: opentelemetry-instrumentation==0.49b1 in d:\\master\\1st_semester\\deep_learning\\project\\deepm\\.venv\\lib\\site-packages (from opentelemetry-instrumentation-httpx>=0.48b0->synapseclient) (0.49b1)\n",
      "Requirement already satisfied: opentelemetry-semantic-conventions==0.49b1 in d:\\master\\1st_semester\\deep_learning\\project\\deepm\\.venv\\lib\\site-packages (from opentelemetry-instrumentation-httpx>=0.48b0->synapseclient) (0.49b1)\n",
      "Requirement already satisfied: opentelemetry-util-http==0.49b1 in d:\\master\\1st_semester\\deep_learning\\project\\deepm\\.venv\\lib\\site-packages (from opentelemetry-instrumentation-httpx>=0.48b0->synapseclient) (0.49b1)\n",
      "Requirement already satisfied: packaging>=18.0 in d:\\master\\1st_semester\\deep_learning\\project\\deepm\\.venv\\lib\\site-packages (from opentelemetry-instrumentation==0.49b1->opentelemetry-instrumentation-httpx>=0.48b0->synapseclient) (24.2)\n",
      "Requirement already satisfied: charset-normalizer<4,>=2 in d:\\master\\1st_semester\\deep_learning\\project\\deepm\\.venv\\lib\\site-packages (from requests<3.0,>=2.22.0->synapseclient) (3.4.0)\n",
      "Requirement already satisfied: colorama in d:\\master\\1st_semester\\deep_learning\\project\\deepm\\.venv\\lib\\site-packages (from tqdm<5.0,>=4.66.2->synapseclient) (0.4.6)\n",
      "Requirement already satisfied: zipp>=3.20 in d:\\master\\1st_semester\\deep_learning\\project\\deepm\\.venv\\lib\\site-packages (from importlib-metadata<=8.5.0,>=6.0->opentelemetry-api>=1.21.0->synapseclient) (3.21.0)\n",
      "Requirement already satisfied: exceptiongroup>=1.0.2 in d:\\master\\1st_semester\\deep_learning\\project\\deepm\\.venv\\lib\\site-packages (from anyio->httpx~=0.27.0->synapseclient) (1.2.2)\n"
     ]
    }
   ],
   "source": [
    "! pip install synapseclient"
   ]
  },
  {
   "cell_type": "markdown",
   "metadata": {},
   "source": [
    "## Download dataset and format in the folder"
   ]
  },
  {
   "cell_type": "code",
   "execution_count": null,
   "metadata": {},
   "outputs": [
    {
     "name": "stdout",
     "output_type": "stream",
     "text": [
      "Welcome, AminHassairi!\n",
      "\n"
     ]
    },
    {
     "name": "stderr",
     "output_type": "stream",
     "text": [
      "Downloading files:   0%|          | 0.00/1.00 [00:00<?, ?B/s]"
     ]
    },
    {
     "name": "stdout",
     "output_type": "stream",
     "text": [
      "Syncing Folder (syn10285054:averaged-training-images) from Synapse.\n"
     ]
    },
    {
     "name": "stderr",
     "output_type": "stream",
     "text": [
      "Downloading files:  30%|███       | 256k/848k [00:03<00:06, 84.8kB/s]"
     ]
    },
    {
     "name": "stdout",
     "output_type": "stream",
     "text": [
      "Downloaded syn10285152 to d:\\master\\1st_semester\\deep_learning\\project\\deepm\\imagestr\\det0000101_avg.nii.gz\n"
     ]
    },
    {
     "name": "stderr",
     "output_type": "stream",
     "text": [
      "Downloading files:   8%|▊         | 616k/7.81M [00:03<00:43, 166kB/s] "
     ]
    },
    {
     "name": "stdout",
     "output_type": "stream",
     "text": [
      "Downloaded syn10285147 to d:\\master\\1st_semester\\deep_learning\\project\\deepm\\imagestr\\det0000801_avg.nii.gz\n"
     ]
    },
    {
     "name": "stderr",
     "output_type": "stream",
     "text": [
      "Downloading files:   8%|▊         | 616k/7.81M [00:03<00:43, 166kB/s]"
     ]
    },
    {
     "name": "stdout",
     "output_type": "stream",
     "text": [
      "Downloaded syn10285177 to d:\\master\\1st_semester\\deep_learning\\project\\deepm\\imagestr\\det0003801_avg.nii.gz\n"
     ]
    },
    {
     "name": "stderr",
     "output_type": "stream",
     "text": [
      "Downloading files:  11%|█▏        | 881k/7.81M [00:04<00:32, 215kB/s]"
     ]
    },
    {
     "name": "stdout",
     "output_type": "stream",
     "text": [
      "Downloaded syn10285165 to d:\\master\\1st_semester\\deep_learning\\project\\deepm\\imagestr\\det0001601_avg.nii.gz\n"
     ]
    },
    {
     "name": "stderr",
     "output_type": "stream",
     "text": [
      "Downloading files:  14%|█▍        | 1.23M/8.64M [00:04<00:26, 281kB/s]"
     ]
    },
    {
     "name": "stdout",
     "output_type": "stream",
     "text": [
      "Downloaded syn10285162 to d:\\master\\1st_semester\\deep_learning\\project\\deepm\\imagestr\\det0001701_avg.nii.gz\n"
     ]
    },
    {
     "name": "stderr",
     "output_type": "stream",
     "text": [
      "Downloading files:  18%|█▊        | 1.60M/8.83M [00:04<00:21, 339kB/s]"
     ]
    },
    {
     "name": "stdout",
     "output_type": "stream",
     "text": [
      "Downloaded syn10285139 to d:\\master\\1st_semester\\deep_learning\\project\\deepm\\imagestr\\det0002401_avg.nii.gz\n"
     ]
    },
    {
     "name": "stderr",
     "output_type": "stream",
     "text": [
      "Downloading files:  22%|██▏       | 1.98M/8.83M [00:04<00:16, 415kB/s]"
     ]
    },
    {
     "name": "stdout",
     "output_type": "stream",
     "text": [
      "Downloaded syn10285154 to d:\\master\\1st_semester\\deep_learning\\project\\deepm\\imagestr\\det0000201_avg.nii.gz\n"
     ]
    },
    {
     "name": "stderr",
     "output_type": "stream",
     "text": [
      "Downloading files:  32%|███▏      | 2.84M/8.83M [00:04<00:10, 585kB/s]"
     ]
    },
    {
     "name": "stdout",
     "output_type": "stream",
     "text": [
      "Downloaded syn10285183 to d:\\master\\1st_semester\\deep_learning\\project\\deepm\\imagestr\\det0001101_avg.nii.gz\n"
     ]
    },
    {
     "name": "stderr",
     "output_type": "stream",
     "text": [
      "Downloading files:  32%|███▏      | 2.84M/8.83M [00:04<00:10, 584kB/s]"
     ]
    },
    {
     "name": "stdout",
     "output_type": "stream",
     "text": [
      "Downloaded syn10285143 to d:\\master\\1st_semester\\deep_learning\\project\\deepm\\imagestr\\det0002701_avg.nii.gz\n"
     ]
    },
    {
     "name": "stderr",
     "output_type": "stream",
     "text": [
      "Downloading files:  41%|████▏     | 3.66M/8.83M [00:04<00:06, 749kB/s]"
     ]
    },
    {
     "name": "stdout",
     "output_type": "stream",
     "text": [
      "Downloaded syn10285173 to d:\\master\\1st_semester\\deep_learning\\project\\deepm\\imagestr\\det0001201_avg.nii.gz\n"
     ]
    },
    {
     "name": "stderr",
     "output_type": "stream",
     "text": [
      "Downloading files:  41%|████▏     | 3.66M/8.83M [00:04<00:06, 746kB/s]"
     ]
    },
    {
     "name": "stdout",
     "output_type": "stream",
     "text": [
      "Downloaded syn10285192 to d:\\master\\1st_semester\\deep_learning\\project\\deepm\\imagestr\\det0001801_avg.nii.gz\n"
     ]
    },
    {
     "name": "stderr",
     "output_type": "stream",
     "text": [
      "Downloading files:  40%|████      | 4.05M/10.0M [00:04<00:07, 813kB/s]"
     ]
    },
    {
     "name": "stdout",
     "output_type": "stream",
     "text": [
      "Downloaded syn10285194 to d:\\master\\1st_semester\\deep_learning\\project\\deepm\\imagestr\\det0003601_avg.nii.gz\n"
     ]
    },
    {
     "name": "stderr",
     "output_type": "stream",
     "text": [
      "Downloading files:  46%|████▋     | 4.64M/10.0M [00:05<00:05, 927kB/s]"
     ]
    },
    {
     "name": "stdout",
     "output_type": "stream",
     "text": [
      "Downloaded syn10285160 to d:\\master\\1st_semester\\deep_learning\\project\\deepm\\imagestr\\det0001501_avg.nii.gz\n"
     ]
    },
    {
     "name": "stderr",
     "output_type": "stream",
     "text": [
      "Downloading files:  46%|████▌     | 5.08M/11.0M [00:05<00:05, 996kB/s]"
     ]
    },
    {
     "name": "stdout",
     "output_type": "stream",
     "text": [
      "Downloaded syn10285169 to d:\\master\\1st_semester\\deep_learning\\project\\deepm\\imagestr\\det0001301_avg.nii.gz\n"
     ]
    },
    {
     "name": "stderr",
     "output_type": "stream",
     "text": [
      "Downloading files:  48%|████▊     | 5.27M/11.0M [00:05<00:05, 1.02MB/s]"
     ]
    },
    {
     "name": "stdout",
     "output_type": "stream",
     "text": [
      "Downloaded syn10285145 to d:\\master\\1st_semester\\deep_learning\\project\\deepm\\imagestr\\det0002601_avg.nii.gz\n"
     ]
    },
    {
     "name": "stderr",
     "output_type": "stream",
     "text": [
      "Downloading files:  51%|█████     | 5.65M/11.0M [00:05<00:04, 1.09MB/s]"
     ]
    },
    {
     "name": "stdout",
     "output_type": "stream",
     "text": [
      "Downloaded syn10285175 to d:\\master\\1st_semester\\deep_learning\\project\\deepm\\imagestr\\det0004101_avg.nii.gz\n"
     ]
    },
    {
     "name": "stderr",
     "output_type": "stream",
     "text": [
      "Downloading files:  55%|█████▍    | 6.05M/11.0M [00:05<00:04, 1.16MB/s]"
     ]
    },
    {
     "name": "stdout",
     "output_type": "stream",
     "text": [
      "Downloaded syn10285141 to d:\\master\\1st_semester\\deep_learning\\project\\deepm\\imagestr\\det0002501_avg.nii.gz\n"
     ]
    },
    {
     "name": "stderr",
     "output_type": "stream",
     "text": [
      "Downloading files:  66%|██████▌   | 7.24M/11.0M [00:05<00:02, 1.38MB/s]"
     ]
    },
    {
     "name": "stdout",
     "output_type": "stream",
     "text": [
      "Downloaded syn10285156 to d:\\master\\1st_semester\\deep_learning\\project\\deepm\\imagestr\\det0002801_avg.nii.gz\n"
     ]
    },
    {
     "name": "stderr",
     "output_type": "stream",
     "text": [
      "Downloading files:  66%|██████▌   | 7.24M/11.0M [00:05<00:02, 1.37MB/s]"
     ]
    },
    {
     "name": "stdout",
     "output_type": "stream",
     "text": [
      "Downloaded syn10285167 to d:\\master\\1st_semester\\deep_learning\\project\\deepm\\imagestr\\det0003901_avg.nii.gz\n"
     ]
    },
    {
     "name": "stderr",
     "output_type": "stream",
     "text": [
      "Downloading files:  54%|█████▎    | 7.74M/14.4M [00:05<00:04, 1.39MB/s]"
     ]
    },
    {
     "name": "stdout",
     "output_type": "stream",
     "text": [
      "Downloaded syn10285181 to d:\\master\\1st_semester\\deep_learning\\project\\deepm\\imagestr\\det0004201_avg.nii.gz\n"
     ]
    },
    {
     "name": "stderr",
     "output_type": "stream",
     "text": [
      "Downloading files:  53%|█████▎    | 8.35M/15.7M [00:05<00:05, 1.45MB/s]"
     ]
    },
    {
     "name": "stdout",
     "output_type": "stream",
     "text": [
      "Downloaded syn10285085 to d:\\master\\1st_semester\\deep_learning\\project\\deepm\\imagestr\\det0004401_avg.nii.gz\n"
     ]
    },
    {
     "name": "stderr",
     "output_type": "stream",
     "text": [
      "Downloading files:  53%|█████▎    | 8.88M/16.9M [00:05<00:05, 1.51MB/s]"
     ]
    },
    {
     "name": "stdout",
     "output_type": "stream",
     "text": [
      "Downloaded syn10285179 to d:\\master\\1st_semester\\deep_learning\\project\\deepm\\imagestr\\det0004301_avg.nii.gz\n"
     ]
    },
    {
     "name": "stderr",
     "output_type": "stream",
     "text": [
      "Downloading files:  56%|█████▌    | 9.46M/16.9M [00:05<00:04, 1.59MB/s]"
     ]
    },
    {
     "name": "stdout",
     "output_type": "stream",
     "text": [
      "Downloaded syn10285171 to d:\\master\\1st_semester\\deep_learning\\project\\deepm\\imagestr\\det0004001_avg.nii.gz\n"
     ]
    },
    {
     "name": "stderr",
     "output_type": "stream",
     "text": [
      "Downloading files:  57%|█████▋    | 9.69M/16.9M [00:05<00:04, 1.62MB/s]"
     ]
    },
    {
     "name": "stdout",
     "output_type": "stream",
     "text": [
      "Downloaded syn10285129 to d:\\master\\1st_semester\\deep_learning\\project\\deepm\\imagestr\\det0009001_avg.nii.gz\n"
     ]
    },
    {
     "name": "stderr",
     "output_type": "stream",
     "text": [
      "Downloading files:  67%|██████▋   | 11.3M/16.9M [00:06<00:03, 1.85MB/s]"
     ]
    },
    {
     "name": "stdout",
     "output_type": "stream",
     "text": [
      "Downloaded syn10285200 to d:\\master\\1st_semester\\deep_learning\\project\\deepm\\imagestr\\det0003501_avg.nii.gz\n"
     ]
    },
    {
     "name": "stderr",
     "output_type": "stream",
     "text": [
      "Downloading files:  66%|██████▌   | 11.8M/18.0M [00:06<00:03, 1.84MB/s]"
     ]
    },
    {
     "name": "stdout",
     "output_type": "stream",
     "text": [
      "Downloaded syn10285083 to d:\\master\\1st_semester\\deep_learning\\project\\deepm\\imagestr\\det0004601_avg.nii.gz\n"
     ]
    },
    {
     "name": "stderr",
     "output_type": "stream",
     "text": [
      "Downloading files:  66%|██████▌   | 12.1M/18.4M [00:06<00:03, 1.87MB/s]"
     ]
    },
    {
     "name": "stdout",
     "output_type": "stream",
     "text": [
      "Downloaded syn10285066 to d:\\master\\1st_semester\\deep_learning\\project\\deepm\\imagestr\\det0005101_avg.nii.gz\n"
     ]
    },
    {
     "name": "stderr",
     "output_type": "stream",
     "text": [
      "Downloading files:  70%|██████▉   | 13.4M/19.2M [00:06<00:02, 2.02MB/s]"
     ]
    },
    {
     "name": "stdout",
     "output_type": "stream",
     "text": [
      "Downloaded syn10285078 to d:\\master\\1st_semester\\deep_learning\\project\\deepm\\imagestr\\det0008901_avg.nii.gz\n"
     ]
    },
    {
     "name": "stderr",
     "output_type": "stream",
     "text": [
      "Downloading files:  70%|██████▉   | 13.4M/19.2M [00:06<00:02, 2.02MB/s]"
     ]
    },
    {
     "name": "stdout",
     "output_type": "stream",
     "text": [
      "Downloaded syn10285065 to d:\\master\\1st_semester\\deep_learning\\project\\deepm\\imagestr\\det0005001_avg.nii.gz\n"
     ]
    },
    {
     "name": "stderr",
     "output_type": "stream",
     "text": [
      "Downloading files:  72%|███████▏  | 13.8M/19.2M [00:06<00:02, 2.08MB/s]"
     ]
    },
    {
     "name": "stdout",
     "output_type": "stream",
     "text": [
      "Downloaded syn10285109 to d:\\master\\1st_semester\\deep_learning\\project\\deepm\\imagestr\\det0004801_avg.nii.gz\n"
     ]
    },
    {
     "name": "stderr",
     "output_type": "stream",
     "text": [
      "Downloading files:  72%|███████▏  | 13.8M/19.2M [00:06<00:02, 2.08MB/s]"
     ]
    },
    {
     "name": "stdout",
     "output_type": "stream",
     "text": [
      "Downloaded syn10285133 to d:\\master\\1st_semester\\deep_learning\\project\\deepm\\imagestr\\det0006501_avg.nii.gz\n"
     ]
    },
    {
     "name": "stderr",
     "output_type": "stream",
     "text": [
      "Downloading files:  73%|███████▎  | 14.3M/19.6M [00:06<00:02, 2.12MB/s]"
     ]
    },
    {
     "name": "stdout",
     "output_type": "stream",
     "text": [
      "Downloaded syn10285107 to d:\\master\\1st_semester\\deep_learning\\project\\deepm\\imagestr\\det0004901_avg.nii.gz\n"
     ]
    },
    {
     "name": "stderr",
     "output_type": "stream",
     "text": [
      "Downloading files:  75%|███████▍  | 14.7M/19.6M [00:06<00:02, 2.16MB/s]"
     ]
    },
    {
     "name": "stdout",
     "output_type": "stream",
     "text": [
      "Downloaded syn10285064 to d:\\master\\1st_semester\\deep_learning\\project\\deepm\\imagestr\\det0005201_avg.nii.gz\n"
     ]
    },
    {
     "name": "stderr",
     "output_type": "stream",
     "text": [
      "Downloading files:  77%|███████▋  | 15.2M/19.6M [00:06<00:02, 2.18MB/s]"
     ]
    },
    {
     "name": "stdout",
     "output_type": "stream",
     "text": [
      "Downloaded syn10285081 to d:\\master\\1st_semester\\deep_learning\\project\\deepm\\imagestr\\det0004701_avg.nii.gz\n"
     ]
    },
    {
     "name": "stderr",
     "output_type": "stream",
     "text": [
      "Downloading files:  80%|████████  | 15.7M/19.6M [00:07<00:01, 2.20MB/s]"
     ]
    },
    {
     "name": "stdout",
     "output_type": "stream",
     "text": [
      "Downloaded syn10285075 to d:\\master\\1st_semester\\deep_learning\\project\\deepm\\imagestr\\det0005701_avg.nii.gz\n"
     ]
    },
    {
     "name": "stderr",
     "output_type": "stream",
     "text": [
      "Downloading files:  83%|████████▎ | 16.2M/19.6M [00:07<00:01, 2.27MB/s]"
     ]
    },
    {
     "name": "stdout",
     "output_type": "stream",
     "text": [
      "Downloaded syn10285103 to d:\\master\\1st_semester\\deep_learning\\project\\deepm\\imagestr\\det0006301_avg.nii.gz\n"
     ]
    },
    {
     "name": "stderr",
     "output_type": "stream",
     "text": [
      "Downloading files:  85%|████████▌ | 16.7M/19.6M [00:07<00:01, 2.32MB/s]"
     ]
    },
    {
     "name": "stdout",
     "output_type": "stream",
     "text": [
      "Downloaded syn10285111 to d:\\master\\1st_semester\\deep_learning\\project\\deepm\\imagestr\\det0006201_avg.nii.gz\n"
     ]
    },
    {
     "name": "stderr",
     "output_type": "stream",
     "text": [
      "Downloading files:  89%|████████▊ | 17.4M/19.6M [00:07<00:00, 2.41MB/s]"
     ]
    },
    {
     "name": "stdout",
     "output_type": "stream",
     "text": [
      "Downloaded syn10285060 to d:\\master\\1st_semester\\deep_learning\\project\\deepm\\imagestr\\det0005901_avg.nii.gz\n"
     ]
    },
    {
     "name": "stderr",
     "output_type": "stream",
     "text": [
      "Downloading files:  89%|████████▊ | 17.4M/19.6M [00:07<00:00, 2.40MB/s]"
     ]
    },
    {
     "name": "stdout",
     "output_type": "stream",
     "text": [
      "Downloaded syn10285058 to d:\\master\\1st_semester\\deep_learning\\project\\deepm\\imagestr\\det0007101_avg.nii.gz\n"
     ]
    },
    {
     "name": "stderr",
     "output_type": "stream",
     "text": [
      "Downloading files:  91%|█████████ | 17.8M/19.6M [00:07<00:00, 2.45MB/s]"
     ]
    },
    {
     "name": "stdout",
     "output_type": "stream",
     "text": [
      "Downloaded syn10285077 to d:\\master\\1st_semester\\deep_learning\\project\\deepm\\imagestr\\det0005601_avg.nii.gz\n"
     ]
    },
    {
     "name": "stderr",
     "output_type": "stream",
     "text": [
      "Downloading files: 100%|█████████▉| 19.6M/19.6M [00:07<00:00, 2.51MB/s]"
     ]
    },
    {
     "name": "stdout",
     "output_type": "stream",
     "text": [
      "Downloaded syn10285197 to d:\\master\\1st_semester\\deep_learning\\project\\deepm\\imagestr\\det0003401_avg.nii.gz\n"
     ]
    },
    {
     "name": "stderr",
     "output_type": "stream",
     "text": [
      "Downloading files: 100%|█████████▉| 20.5M/20.5M [00:08<00:00, 2.41MB/s]"
     ]
    },
    {
     "name": "stdout",
     "output_type": "stream",
     "text": [
      "Downloaded syn10285063 to d:\\master\\1st_semester\\deep_learning\\project\\deepm\\imagestr\\det0014101_avg.nii.gz\n"
     ]
    },
    {
     "name": "stderr",
     "output_type": "stream",
     "text": [
      "Downloading files: 100%|█████████▉| 20.6M/20.6M [00:09<00:00, 2.11MB/s]"
     ]
    },
    {
     "name": "stdout",
     "output_type": "stream",
     "text": [
      "Downloaded syn10285067 to d:\\master\\1st_semester\\deep_learning\\project\\deepm\\imagestr\\det0028301_avg.nii.gz\n"
     ]
    },
    {
     "name": "stderr",
     "output_type": "stream",
     "text": [
      "Downloading files: 100%|█████████▉| 21.1M/21.1M [00:53<00:00, 398kB/s] "
     ]
    },
    {
     "name": "stdout",
     "output_type": "stream",
     "text": [
      "Downloaded syn10285074 to d:\\master\\1st_semester\\deep_learning\\project\\deepm\\imagestr\\det0008801_avg.nii.gz\n"
     ]
    },
    {
     "name": "stderr",
     "output_type": "stream",
     "text": [
      "Downloading files:  84%|████████▍ | 21.3M/25.3M [00:54<00:10, 391kB/s]"
     ]
    },
    {
     "name": "stdout",
     "output_type": "stream",
     "text": [
      "Downloaded syn10285105 to d:\\master\\1st_semester\\deep_learning\\project\\deepm\\imagestr\\det0024401_avg.nii.gz\n"
     ]
    },
    {
     "name": "stderr",
     "output_type": "stream",
     "text": [
      "Downloading files:  81%|████████  | 21.8M/27.0M [00:55<00:13, 396kB/s]"
     ]
    },
    {
     "name": "stdout",
     "output_type": "stream",
     "text": [
      "Downloaded syn10285069 to d:\\master\\1st_semester\\deep_learning\\project\\deepm\\imagestr\\det0039501_avg.nii.gz\n"
     ]
    },
    {
     "name": "stderr",
     "output_type": "stream",
     "text": [
      "Downloading files:  80%|████████  | 22.1M/27.6M [00:55<00:13, 401kB/s]"
     ]
    },
    {
     "name": "stdout",
     "output_type": "stream",
     "text": [
      "Downloaded syn10285137 to d:\\master\\1st_semester\\deep_learning\\project\\deepm\\imagestr\\det0009301_avg.nii.gz\n"
     ]
    },
    {
     "name": "stderr",
     "output_type": "stream",
     "text": [
      "Downloading files:  81%|████████  | 22.4M/27.6M [00:55<00:12, 406kB/s]"
     ]
    },
    {
     "name": "stdout",
     "output_type": "stream",
     "text": [
      "Downloaded syn10285114 to d:\\master\\1st_semester\\deep_learning\\project\\deepm\\imagestr\\det0006001_avg.nii.gz\n"
     ]
    },
    {
     "name": "stderr",
     "output_type": "stream",
     "text": [
      "Downloading files:  84%|████████▍ | 23.2M/27.6M [00:55<00:10, 419kB/s]"
     ]
    },
    {
     "name": "stdout",
     "output_type": "stream",
     "text": [
      "Downloaded syn10285084 to d:\\master\\1st_semester\\deep_learning\\project\\deepm\\imagestr\\det0010601_avg.nii.gz\n"
     ]
    },
    {
     "name": "stderr",
     "output_type": "stream",
     "text": [
      "Downloading files:  84%|████████▍ | 23.2M/27.6M [00:55<00:10, 419kB/s]"
     ]
    },
    {
     "name": "stdout",
     "output_type": "stream",
     "text": [
      "Downloaded syn10285126 to d:\\master\\1st_semester\\deep_learning\\project\\deepm\\imagestr\\det0040001_avg.nii.gz\n"
     ]
    },
    {
     "name": "stderr",
     "output_type": "stream",
     "text": [
      "Downloading files:  85%|████████▌ | 23.6M/27.6M [00:55<00:09, 426kB/s]"
     ]
    },
    {
     "name": "stdout",
     "output_type": "stream",
     "text": [
      "Downloaded syn10285090 to d:\\master\\1st_semester\\deep_learning\\project\\deepm\\imagestr\\det0037101_avg.nii.gz\n"
     ]
    },
    {
     "name": "stderr",
     "output_type": "stream",
     "text": [
      "Downloading files:  86%|████████▌ | 23.8M/27.6M [00:55<00:08, 429kB/s]"
     ]
    },
    {
     "name": "stdout",
     "output_type": "stream",
     "text": [
      "Downloaded syn10285057 to d:\\master\\1st_semester\\deep_learning\\project\\deepm\\imagestr\\det0028801_avg.nii.gz\n"
     ]
    },
    {
     "name": "stderr",
     "output_type": "stream",
     "text": [
      "Downloading files:  88%|████████▊ | 24.2M/27.6M [00:55<00:07, 437kB/s]"
     ]
    },
    {
     "name": "stdout",
     "output_type": "stream",
     "text": [
      "Downloaded syn10285118 to d:\\master\\1st_semester\\deep_learning\\project\\deepm\\imagestr\\det0021501_avg.nii.gz\n"
     ]
    },
    {
     "name": "stderr",
     "output_type": "stream",
     "text": [
      "Downloading files:  90%|████████▉ | 24.9M/27.6M [00:55<00:06, 448kB/s]"
     ]
    },
    {
     "name": "stdout",
     "output_type": "stream",
     "text": [
      "Downloaded syn10285070 to d:\\master\\1st_semester\\deep_learning\\project\\deepm\\imagestr\\det0005401_avg.nii.gz\n"
     ]
    },
    {
     "name": "stderr",
     "output_type": "stream",
     "text": [
      "Downloading files:  90%|████████▉ | 24.9M/27.6M [00:55<00:06, 447kB/s]"
     ]
    },
    {
     "name": "stdout",
     "output_type": "stream",
     "text": [
      "Downloaded syn10285095 to d:\\master\\1st_semester\\deep_learning\\project\\deepm\\imagestr\\det0042501_avg.nii.gz\n"
     ]
    },
    {
     "name": "stderr",
     "output_type": "stream",
     "text": [
      "Downloading files:  90%|█████████ | 25.4M/28.1M [00:55<00:05, 457kB/s]"
     ]
    },
    {
     "name": "stdout",
     "output_type": "stream",
     "text": [
      "Downloaded syn10285061 to d:\\master\\1st_semester\\deep_learning\\project\\deepm\\imagestr\\det0005801_avg.nii.gz\n"
     ]
    },
    {
     "name": "stderr",
     "output_type": "stream",
     "text": [
      "Downloading files:  93%|█████████▎| 26.1M/28.1M [00:55<00:04, 469kB/s]"
     ]
    },
    {
     "name": "stdout",
     "output_type": "stream",
     "text": [
      "Downloaded syn10285089 to d:\\master\\1st_semester\\deep_learning\\project\\deepm\\imagestr\\det0015601_avg.nii.gz\n"
     ]
    },
    {
     "name": "stderr",
     "output_type": "stream",
     "text": [
      "Downloading files:  94%|█████████▍| 26.4M/28.1M [00:55<00:03, 475kB/s]"
     ]
    },
    {
     "name": "stdout",
     "output_type": "stream",
     "text": [
      "Downloaded syn10285062 to d:\\master\\1st_semester\\deep_learning\\project\\deepm\\imagestr\\det0016101_avg.nii.gz\n"
     ]
    },
    {
     "name": "stderr",
     "output_type": "stream",
     "text": [
      "Downloading files:  94%|█████████▍| 26.4M/28.1M [00:55<00:03, 475kB/s]"
     ]
    },
    {
     "name": "stdout",
     "output_type": "stream",
     "text": [
      "Downloaded syn10285080 to d:\\master\\1st_semester\\deep_learning\\project\\deepm\\imagestr\\det0015401_avg.nii.gz\n"
     ]
    },
    {
     "name": "stderr",
     "output_type": "stream",
     "text": [
      "Downloading files:  80%|████████  | 27.0M/33.6M [00:56<00:13, 479kB/s]"
     ]
    },
    {
     "name": "stdout",
     "output_type": "stream",
     "text": [
      "Downloaded syn10285120 to d:\\master\\1st_semester\\deep_learning\\project\\deepm\\imagestr\\det0035501_avg.nii.gz\n"
     ]
    },
    {
     "name": "stderr",
     "output_type": "stream",
     "text": [
      "Downloading files:  80%|████████  | 27.1M/33.8M [00:56<00:13, 481kB/s]"
     ]
    },
    {
     "name": "stdout",
     "output_type": "stream",
     "text": [
      "Downloaded syn10285101 to d:\\master\\1st_semester\\deep_learning\\project\\deepm\\imagestr\\det0021701_avg.nii.gz\n"
     ]
    },
    {
     "name": "stderr",
     "output_type": "stream",
     "text": [
      "Downloading files:  82%|████████▏ | 27.8M/33.8M [00:56<00:12, 493kB/s]"
     ]
    },
    {
     "name": "stdout",
     "output_type": "stream",
     "text": [
      "Downloaded syn10285131 to d:\\master\\1st_semester\\deep_learning\\project\\deepm\\imagestr\\det0040101_avg.nii.gz\n"
     ]
    },
    {
     "name": "stderr",
     "output_type": "stream",
     "text": [
      "Downloading files:  83%|████████▎ | 28.0M/33.8M [00:56<00:11, 496kB/s]"
     ]
    },
    {
     "name": "stdout",
     "output_type": "stream",
     "text": [
      "Downloaded syn10285099 to d:\\master\\1st_semester\\deep_learning\\project\\deepm\\imagestr\\det0029001_avg.nii.gz\n"
     ]
    },
    {
     "name": "stderr",
     "output_type": "stream",
     "text": [
      "Downloading files:  84%|████████▍ | 28.4M/33.8M [00:56<00:10, 503kB/s]"
     ]
    },
    {
     "name": "stdout",
     "output_type": "stream",
     "text": [
      "Downloaded syn10285087 to d:\\master\\1st_semester\\deep_learning\\project\\deepm\\imagestr\\det0030901_avg.nii.gz\n"
     ]
    },
    {
     "name": "stderr",
     "output_type": "stream",
     "text": [
      "Downloading files:  82%|████████▏ | 28.6M/34.7M [00:56<00:12, 504kB/s]"
     ]
    },
    {
     "name": "stdout",
     "output_type": "stream",
     "text": [
      "Downloaded syn10285092 to d:\\master\\1st_semester\\deep_learning\\project\\deepm\\imagestr\\det0042401_avg.nii.gz\n"
     ]
    },
    {
     "name": "stderr",
     "output_type": "stream",
     "text": [
      "Downloading files:  82%|████████▏ | 28.9M/35.0M [00:56<00:12, 508kB/s]"
     ]
    },
    {
     "name": "stdout",
     "output_type": "stream",
     "text": [
      "Downloaded syn10285088 to d:\\master\\1st_semester\\deep_learning\\project\\deepm\\imagestr\\det0042001_avg.nii.gz\n"
     ]
    },
    {
     "name": "stderr",
     "output_type": "stream",
     "text": [
      "Downloading files:  83%|████████▎ | 29.1M/35.0M [00:56<00:11, 512kB/s]"
     ]
    },
    {
     "name": "stdout",
     "output_type": "stream",
     "text": [
      "Downloaded syn10285071 to d:\\master\\1st_semester\\deep_learning\\project\\deepm\\imagestr\\det0028601_avg.nii.gz\n"
     ]
    },
    {
     "name": "stderr",
     "output_type": "stream",
     "text": [
      "Downloading files:  84%|████████▍ | 29.4M/35.0M [00:56<00:10, 516kB/s]"
     ]
    },
    {
     "name": "stdout",
     "output_type": "stream",
     "text": [
      "Downloaded syn10285097 to d:\\master\\1st_semester\\deep_learning\\project\\deepm\\imagestr\\det0042601_avg.nii.gz\n"
     ]
    },
    {
     "name": "stderr",
     "output_type": "stream",
     "text": [
      "Downloading files:  85%|████████▌ | 29.8M/35.0M [00:56<00:09, 523kB/s]"
     ]
    },
    {
     "name": "stdout",
     "output_type": "stream",
     "text": [
      "Downloaded syn10285124 to d:\\master\\1st_semester\\deep_learning\\project\\deepm\\imagestr\\det0026901_avg.nii.gz\n"
     ]
    },
    {
     "name": "stderr",
     "output_type": "stream",
     "text": [
      "Downloading files:  82%|████████▏ | 30.3M/37.0M [00:57<00:12, 532kB/s]"
     ]
    },
    {
     "name": "stdout",
     "output_type": "stream",
     "text": [
      "Downloaded syn10285116 to d:\\master\\1st_semester\\deep_learning\\project\\deepm\\imagestr\\det0006101_avg.nii.gz\n"
     ]
    },
    {
     "name": "stderr",
     "output_type": "stream",
     "text": [
      "Downloading files:  83%|████████▎ | 30.6M/37.0M [00:57<00:11, 535kB/s]"
     ]
    },
    {
     "name": "stdout",
     "output_type": "stream",
     "text": [
      "Downloaded syn10285072 to d:\\master\\1st_semester\\deep_learning\\project\\deepm\\imagestr\\det0043101_avg.nii.gz\n"
     ]
    },
    {
     "name": "stderr",
     "output_type": "stream",
     "text": [
      "Downloading files:  85%|████████▌ | 31.4M/37.0M [00:57<00:10, 550kB/s]"
     ]
    },
    {
     "name": "stdout",
     "output_type": "stream",
     "text": [
      "Downloaded syn10285059 to d:\\master\\1st_semester\\deep_learning\\project\\deepm\\imagestr\\det0044601_avg.nii.gz\n"
     ]
    },
    {
     "name": "stderr",
     "output_type": "stream",
     "text": [
      "Downloading files:  85%|████████▌ | 31.4M/37.0M [00:57<00:10, 550kB/s]"
     ]
    },
    {
     "name": "stdout",
     "output_type": "stream",
     "text": [
      "Downloaded syn10285122 to d:\\master\\1st_semester\\deep_learning\\project\\deepm\\imagestr\\det0006401_avg.nii.gz\n"
     ]
    },
    {
     "name": "stderr",
     "output_type": "stream",
     "text": [
      "Downloading files:  86%|████████▋ | 31.9M/37.0M [00:57<00:09, 558kB/s]"
     ]
    },
    {
     "name": "stdout",
     "output_type": "stream",
     "text": [
      "Downloaded syn10285068 to d:\\master\\1st_semester\\deep_learning\\project\\deepm\\imagestr\\det0014201_avg.nii.gz\n"
     ]
    },
    {
     "name": "stderr",
     "output_type": "stream",
     "text": [
      "Downloading files:  82%|████████▏ | 32.5M/39.6M [00:57<00:12, 567kB/s]"
     ]
    },
    {
     "name": "stdout",
     "output_type": "stream",
     "text": [
      "Downloaded syn10285135 to d:\\master\\1st_semester\\deep_learning\\project\\deepm\\imagestr\\det0040201_avg.nii.gz\n"
     ]
    },
    {
     "name": "stderr",
     "output_type": "stream",
     "text": [
      "Downloading files:  83%|████████▎ | 32.9M/39.8M [00:57<00:12, 573kB/s]"
     ]
    },
    {
     "name": "stdout",
     "output_type": "stream",
     "text": [
      "Downloaded syn10285158 to d:\\master\\1st_semester\\deep_learning\\project\\deepm\\imagestr\\det0001401_avg.nii.gz\n"
     ]
    },
    {
     "name": "stderr",
     "output_type": "stream",
     "text": [
      "Downloading files:  83%|████████▎ | 33.2M/39.8M [00:57<00:11, 577kB/s]"
     ]
    },
    {
     "name": "stdout",
     "output_type": "stream",
     "text": [
      "Downloaded syn10285093 to d:\\master\\1st_semester\\deep_learning\\project\\deepm\\imagestr\\det0015201_avg.nii.gz\n"
     ]
    },
    {
     "name": "stderr",
     "output_type": "stream",
     "text": [
      "Downloading files:  85%|████████▌ | 33.9M/39.8M [00:57<00:10, 589kB/s]"
     ]
    },
    {
     "name": "stdout",
     "output_type": "stream",
     "text": [
      "Downloaded syn10285073 to d:\\master\\1st_semester\\deep_learning\\project\\deepm\\imagestr\\det0039401_avg.nii.gz\n"
     ]
    },
    {
     "name": "stderr",
     "output_type": "stream",
     "text": [
      "Downloading files:  86%|████████▌ | 34.2M/39.8M [00:57<00:09, 590kB/s]"
     ]
    },
    {
     "name": "stdout",
     "output_type": "stream",
     "text": [
      "Downloaded syn10285079 to d:\\master\\1st_semester\\deep_learning\\project\\deepm\\imagestr\\det0043201_avg.nii.gz\n"
     ]
    },
    {
     "name": "stderr",
     "output_type": "stream",
     "text": [
      "Downloading files:  87%|████████▋ | 34.7M/39.8M [00:57<00:08, 599kB/s]"
     ]
    },
    {
     "name": "stdout",
     "output_type": "stream",
     "text": [
      "Downloaded syn10285149 to d:\\master\\1st_semester\\deep_learning\\project\\deepm\\imagestr\\det0002001_avg.nii.gz\n"
     ]
    },
    {
     "name": "stderr",
     "output_type": "stream",
     "text": [
      "Downloading files:  91%|█████████ | 36.2M/39.8M [00:57<00:05, 624kB/s]"
     ]
    },
    {
     "name": "stdout",
     "output_type": "stream",
     "text": [
      "Downloaded syn10285186 to d:\\master\\1st_semester\\deep_learning\\project\\deepm\\imagestr\\det0003101_avg.nii.gz\n"
     ]
    },
    {
     "name": "stderr",
     "output_type": "stream",
     "text": [
      "Downloading files:  95%|█████████▍| 37.7M/39.8M [00:58<00:03, 648kB/s]"
     ]
    },
    {
     "name": "stdout",
     "output_type": "stream",
     "text": [
      "Downloaded syn10285188 to d:\\master\\1st_semester\\deep_learning\\project\\deepm\\imagestr\\det0003301_avg.nii.gz\n"
     ]
    },
    {
     "name": "stderr",
     "output_type": "stream",
     "text": [
      "Downloading files: 100%|█████████▉| 39.8M/39.8M [00:58<00:00, 680kB/s]"
     ]
    },
    {
     "name": "stdout",
     "output_type": "stream",
     "text": [
      "Downloaded syn10285190 to d:\\master\\1st_semester\\deep_learning\\project\\deepm\\imagestr\\det0003201_avg.nii.gz\n"
     ]
    },
    {
     "name": "stderr",
     "output_type": "stream",
     "text": [
      "Downloading files: 100%|█████████▉| 39.8M/39.8M [00:58<00:00, 678kB/s]\n",
      "Downloading files:   0%|          | 0.00/1.00 [00:00<?, ?B/s]"
     ]
    },
    {
     "name": "stdout",
     "output_type": "stream",
     "text": [
      "Syncing Folder (syn10285076:averaged-training-labels) from Synapse.\n"
     ]
    },
    {
     "name": "stderr",
     "output_type": "stream",
     "text": [
      "Downloading files: 100%|██████████| 2.30k/2.30k [00:01<00:00, 1.18kB/s]"
     ]
    },
    {
     "name": "stdout",
     "output_type": "stream",
     "text": [
      "Downloaded syn10285185 to d:\\master\\1st_semester\\deep_learning\\project\\deepm\\labelstr\\det0001301_avg_seg.nii.gz\n"
     ]
    },
    {
     "name": "stderr",
     "output_type": "stream",
     "text": [
      "Downloading files: 100%|█████████▉| 4.59k/4.59k [00:02<00:00, 1.80kB/s]"
     ]
    },
    {
     "name": "stdout",
     "output_type": "stream",
     "text": [
      "Downloaded syn10285191 to d:\\master\\1st_semester\\deep_learning\\project\\deepm\\labelstr\\det0003801_avg_seg.nii.gz\n"
     ]
    },
    {
     "name": "stderr",
     "output_type": "stream",
     "text": [
      "Downloading files: 100%|█████████▉| 6.94k/6.94k [00:06<00:00, 1.08kB/s]"
     ]
    },
    {
     "name": "stdout",
     "output_type": "stream",
     "text": [
      "Downloaded syn10285172 to d:\\master\\1st_semester\\deep_learning\\project\\deepm\\labelstr\\det0001201_avg_seg.nii.gz\n"
     ]
    },
    {
     "name": "stderr",
     "output_type": "stream",
     "text": [
      "Downloading files: 100%|█████████▉| 9.77k/9.77k [00:07<00:00, 1.27kB/s]"
     ]
    },
    {
     "name": "stdout",
     "output_type": "stream",
     "text": [
      "Downloaded syn10285166 to d:\\master\\1st_semester\\deep_learning\\project\\deepm\\labelstr\\det0004301_avg_seg.nii.gz\n"
     ]
    },
    {
     "name": "stderr",
     "output_type": "stream",
     "text": [
      "Downloading files: 100%|█████████▉| 13.1k/13.1k [00:08<00:00, 1.49kB/s]"
     ]
    },
    {
     "name": "stdout",
     "output_type": "stream",
     "text": [
      "Downloaded syn10285106 to d:\\master\\1st_semester\\deep_learning\\project\\deepm\\labelstr\\det0004401_avg_seg.nii.gz\n"
     ]
    },
    {
     "name": "stderr",
     "output_type": "stream",
     "text": [
      "Downloading files: 100%|█████████▉| 14.5k/14.5k [00:08<00:00, 1.63kB/s]"
     ]
    },
    {
     "name": "stdout",
     "output_type": "stream",
     "text": [
      "Downloaded syn10285138 to d:\\master\\1st_semester\\deep_learning\\project\\deepm\\labelstr\\det0000801_avg_seg.nii.gz\n"
     ]
    },
    {
     "name": "stderr",
     "output_type": "stream",
     "text": [
      "Downloading files: 100%|█████████▉| 16.8k/16.8k [00:10<00:00, 1.63kB/s]"
     ]
    },
    {
     "name": "stdout",
     "output_type": "stream",
     "text": [
      "Downloaded syn10285146 to d:\\master\\1st_semester\\deep_learning\\project\\deepm\\labelstr\\det0005401_avg_seg.nii.gz\n"
     ]
    },
    {
     "name": "stderr",
     "output_type": "stream",
     "text": [
      "Downloading files: 100%|█████████▉| 19.9k/19.9k [00:10<00:00, 1.92kB/s]"
     ]
    },
    {
     "name": "stdout",
     "output_type": "stream",
     "text": [
      "Downloaded syn10285127 to d:\\master\\1st_semester\\deep_learning\\project\\deepm\\labelstr\\det0004601_avg_seg.nii.gz\n"
     ]
    },
    {
     "name": "stderr",
     "output_type": "stream",
     "text": [
      "Downloading files: 100%|█████████▉| 29.7k/29.8k [00:10<00:00, 2.79kB/s]"
     ]
    },
    {
     "name": "stdout",
     "output_type": "stream",
     "text": [
      "Downloaded syn10285163 to d:\\master\\1st_semester\\deep_learning\\project\\deepm\\labelstr\\det0003501_avg_seg.nii.gz\n"
     ]
    },
    {
     "name": "stderr",
     "output_type": "stream",
     "text": [
      "Downloading files: 100%|█████████▉| 33.2k/33.2k [00:10<00:00, 3.10kB/s]"
     ]
    },
    {
     "name": "stdout",
     "output_type": "stream",
     "text": [
      "Downloaded syn10285132 to d:\\master\\1st_semester\\deep_learning\\project\\deepm\\labelstr\\det0004001_avg_seg.nii.gz\n"
     ]
    },
    {
     "name": "stderr",
     "output_type": "stream",
     "text": [
      "Downloading files: 100%|█████████▉| 36.4k/36.4k [00:10<00:00, 3.38kB/s]"
     ]
    },
    {
     "name": "stdout",
     "output_type": "stream",
     "text": [
      "Downloaded syn10285100 to d:\\master\\1st_semester\\deep_learning\\project\\deepm\\labelstr\\det0005001_avg_seg.nii.gz\n"
     ]
    },
    {
     "name": "stderr",
     "output_type": "stream",
     "text": [
      "Downloading files: 100%|█████████▉| 39.9k/39.9k [00:12<00:00, 3.24kB/s]"
     ]
    },
    {
     "name": "stdout",
     "output_type": "stream",
     "text": [
      "Downloaded syn10285159 to d:\\master\\1st_semester\\deep_learning\\project\\deepm\\labelstr\\det0005601_avg_seg.nii.gz\n"
     ]
    },
    {
     "name": "stderr",
     "output_type": "stream",
     "text": [
      "Downloading files: 100%|█████████▉| 43.4k/43.4k [00:12<00:00, 3.44kB/s]"
     ]
    },
    {
     "name": "stdout",
     "output_type": "stream",
     "text": [
      "Downloaded syn10285220 to d:\\master\\1st_semester\\deep_learning\\project\\deepm\\labelstr\\det0004801_avg_seg.nii.gz\n"
     ]
    },
    {
     "name": "stderr",
     "output_type": "stream",
     "text": [
      "Downloading files: 100%|█████████▉| 46.6k/46.6k [00:12<00:00, 3.62kB/s]"
     ]
    },
    {
     "name": "stdout",
     "output_type": "stream",
     "text": [
      "Downloaded syn10285113 to d:\\master\\1st_semester\\deep_learning\\project\\deepm\\labelstr\\det0005201_avg_seg.nii.gz\n"
     ]
    },
    {
     "name": "stderr",
     "output_type": "stream",
     "text": [
      "Downloading files: 100%|█████████▉| 49.6k/49.6k [00:13<00:00, 3.57kB/s]"
     ]
    },
    {
     "name": "stdout",
     "output_type": "stream",
     "text": [
      "Downloaded syn10285148 to d:\\master\\1st_semester\\deep_learning\\project\\deepm\\labelstr\\det0005701_avg_seg.nii.gz\n"
     ]
    },
    {
     "name": "stderr",
     "output_type": "stream",
     "text": [
      "Downloading files: 100%|█████████▉| 52.1k/52.1k [00:13<00:00, 3.73kB/s]"
     ]
    },
    {
     "name": "stdout",
     "output_type": "stream",
     "text": [
      "Downloaded syn10285198 to d:\\master\\1st_semester\\deep_learning\\project\\deepm\\labelstr\\det0005801_avg_seg.nii.gz\n"
     ]
    },
    {
     "name": "stderr",
     "output_type": "stream",
     "text": [
      "Downloading files: 100%|█████████▉| 54.5k/54.6k [00:14<00:00, 3.85kB/s]"
     ]
    },
    {
     "name": "stdout",
     "output_type": "stream",
     "text": [
      "Downloaded syn10285226 to d:\\master\\1st_semester\\deep_learning\\project\\deepm\\labelstr\\det0004901_avg_seg.nii.gz\n"
     ]
    },
    {
     "name": "stderr",
     "output_type": "stream",
     "text": [
      "Downloading files: 100%|█████████▉| 58.2k/58.2k [00:14<00:00, 4.03kB/s]"
     ]
    },
    {
     "name": "stdout",
     "output_type": "stream",
     "text": [
      "Downloaded syn10285203 to d:\\master\\1st_semester\\deep_learning\\project\\deepm\\labelstr\\det0005901_avg_seg.nii.gz\n"
     ]
    },
    {
     "name": "stderr",
     "output_type": "stream",
     "text": [
      "Downloading files: 100%|█████████▉| 60.9k/61.0k [00:14<00:00, 4.20kB/s]"
     ]
    },
    {
     "name": "stdout",
     "output_type": "stream",
     "text": [
      "Downloaded syn10285108 to d:\\master\\1st_semester\\deep_learning\\project\\deepm\\labelstr\\det0005101_avg_seg.nii.gz\n"
     ]
    },
    {
     "name": "stderr",
     "output_type": "stream",
     "text": [
      "Downloading files: 100%|█████████▉| 63.8k/63.8k [00:14<00:00, 4.26kB/s]"
     ]
    },
    {
     "name": "stdout",
     "output_type": "stream",
     "text": [
      "Downloaded syn10285213 to d:\\master\\1st_semester\\deep_learning\\project\\deepm\\labelstr\\det0006101_avg_seg.nii.gz\n"
     ]
    },
    {
     "name": "stderr",
     "output_type": "stream",
     "text": [
      "Downloading files: 100%|█████████▉| 66.7k/66.7k [00:15<00:00, 4.31kB/s]"
     ]
    },
    {
     "name": "stdout",
     "output_type": "stream",
     "text": [
      "Downloaded syn10285217 to d:\\master\\1st_semester\\deep_learning\\project\\deepm\\labelstr\\det0006001_avg_seg.nii.gz\n"
     ]
    },
    {
     "name": "stderr",
     "output_type": "stream",
     "text": [
      "Downloading files: 100%|█████████▉| 69.3k/69.4k [00:17<00:00, 4.01kB/s]"
     ]
    },
    {
     "name": "stdout",
     "output_type": "stream",
     "text": [
      "Downloaded syn10285218 to d:\\master\\1st_semester\\deep_learning\\project\\deepm\\labelstr\\det0006301_avg_seg.nii.gz\n"
     ]
    },
    {
     "name": "stderr",
     "output_type": "stream",
     "text": [
      "Downloading files: 100%|█████████▉| 77.5k/77.6k [00:17<00:00, 4.45kB/s]"
     ]
    },
    {
     "name": "stdout",
     "output_type": "stream",
     "text": [
      "Downloaded syn10285112 to d:\\master\\1st_semester\\deep_learning\\project\\deepm\\labelstr\\det0003101_avg_seg.nii.gz\n"
     ]
    },
    {
     "name": "stderr",
     "output_type": "stream",
     "text": [
      "Downloading files: 100%|█████████▉| 79.7k/79.7k [00:17<00:00, 4.56kB/s]"
     ]
    },
    {
     "name": "stdout",
     "output_type": "stream",
     "text": [
      "Downloaded syn10285211 to d:\\master\\1st_semester\\deep_learning\\project\\deepm\\labelstr\\det0000201_avg_seg.nii.gz\n"
     ]
    },
    {
     "name": "stderr",
     "output_type": "stream",
     "text": [
      "Downloading files: 100%|█████████▉| 82.4k/82.4k [00:17<00:00, 4.61kB/s]"
     ]
    },
    {
     "name": "stdout",
     "output_type": "stream",
     "text": [
      "Downloaded syn10285123 to d:\\master\\1st_semester\\deep_learning\\project\\deepm\\labelstr\\det0002401_avg_seg.nii.gz\n"
     ]
    },
    {
     "name": "stderr",
     "output_type": "stream",
     "text": [
      "Downloading files: 100%|█████████▉| 85.0k/85.0k [00:18<00:00, 4.64kB/s]"
     ]
    },
    {
     "name": "stdout",
     "output_type": "stream",
     "text": [
      "Downloaded syn10285180 to d:\\master\\1st_semester\\deep_learning\\project\\deepm\\labelstr\\det0006401_avg_seg.nii.gz\n"
     ]
    },
    {
     "name": "stderr",
     "output_type": "stream",
     "text": [
      "Downloading files: 100%|█████████▉| 88.0k/88.0k [00:18<00:00, 4.80kB/s]"
     ]
    },
    {
     "name": "stdout",
     "output_type": "stream",
     "text": [
      "Downloaded syn10285176 to d:\\master\\1st_semester\\deep_learning\\project\\deepm\\labelstr\\det0007101_avg_seg.nii.gz\n"
     ]
    },
    {
     "name": "stderr",
     "output_type": "stream",
     "text": [
      "Downloading files: 100%|█████████▉| 90.6k/90.6k [00:18<00:00, 4.90kB/s]"
     ]
    },
    {
     "name": "stdout",
     "output_type": "stream",
     "text": [
      "Downloaded syn10285119 to d:\\master\\1st_semester\\deep_learning\\project\\deepm\\labelstr\\det0004701_avg_seg.nii.gz\n"
     ]
    },
    {
     "name": "stderr",
     "output_type": "stream",
     "text": [
      "Downloading files: 100%|█████████▉| 92.4k/92.5k [00:20<00:00, 4.52kB/s]"
     ]
    },
    {
     "name": "stdout",
     "output_type": "stream",
     "text": [
      "Downloaded syn10285136 to d:\\master\\1st_semester\\deep_learning\\project\\deepm\\labelstr\\det0009301_avg_seg.nii.gz\n"
     ]
    },
    {
     "name": "stderr",
     "output_type": "stream",
     "text": [
      "Downloading files: 100%|█████████▉| 95.2k/95.2k [00:20<00:00, 4.57kB/s]"
     ]
    },
    {
     "name": "stdout",
     "output_type": "stream",
     "text": [
      "Downloaded syn10285178 to d:\\master\\1st_semester\\deep_learning\\project\\deepm\\labelstr\\det0014201_avg_seg.nii.gz\n"
     ]
    },
    {
     "name": "stderr",
     "output_type": "stream",
     "text": [
      "Downloading files: 100%|█████████▉| 97.7k/97.7k [00:20<00:00, 4.68kB/s]"
     ]
    },
    {
     "name": "stdout",
     "output_type": "stream",
     "text": [
      "Downloaded syn10285161 to d:\\master\\1st_semester\\deep_learning\\project\\deepm\\labelstr\\det0010601_avg_seg.nii.gz\n"
     ]
    },
    {
     "name": "stderr",
     "output_type": "stream",
     "text": [
      "Downloading files: 100%|█████████▉| 103k/103k [00:21<00:00, 4.72kB/s]  "
     ]
    },
    {
     "name": "stdout",
     "output_type": "stream",
     "text": [
      "Downloaded syn10285174 to d:\\master\\1st_semester\\deep_learning\\project\\deepm\\labelstr\\det0008901_avg_seg.nii.gz\n"
     ]
    },
    {
     "name": "stderr",
     "output_type": "stream",
     "text": [
      "Downloading files: 100%|█████████▉| 103k/103k [00:21<00:00, 4.72kB/s]"
     ]
    },
    {
     "name": "stdout",
     "output_type": "stream",
     "text": [
      "Downloaded syn10285212 to d:\\master\\1st_semester\\deep_learning\\project\\deepm\\labelstr\\det0015201_avg_seg.nii.gz\n"
     ]
    },
    {
     "name": "stderr",
     "output_type": "stream",
     "text": [
      "Downloading files: 100%|█████████▉| 106k/106k [00:21<00:00, 4.86kB/s]"
     ]
    },
    {
     "name": "stdout",
     "output_type": "stream",
     "text": [
      "Downloaded syn10285205 to d:\\master\\1st_semester\\deep_learning\\project\\deepm\\labelstr\\det0014101_avg_seg.nii.gz\n"
     ]
    },
    {
     "name": "stderr",
     "output_type": "stream",
     "text": [
      "Downloading files: 100%|█████████▉| 108k/108k [00:22<00:00, 4.91kB/s]"
     ]
    },
    {
     "name": "stdout",
     "output_type": "stream",
     "text": [
      "Downloaded syn10285157 to d:\\master\\1st_semester\\deep_learning\\project\\deepm\\labelstr\\det0009001_avg_seg.nii.gz\n"
     ]
    },
    {
     "name": "stderr",
     "output_type": "stream",
     "text": [
      "Downloading files: 100%|█████████▉| 111k/111k [00:23<00:00, 4.82kB/s]"
     ]
    },
    {
     "name": "stdout",
     "output_type": "stream",
     "text": [
      "Downloaded syn10285223 to d:\\master\\1st_semester\\deep_learning\\project\\deepm\\labelstr\\det0006201_avg_seg.nii.gz\n"
     ]
    },
    {
     "name": "stderr",
     "output_type": "stream",
     "text": [
      "Downloading files: 100%|█████████▉| 113k/113k [00:23<00:00, 4.88kB/s]"
     ]
    },
    {
     "name": "stdout",
     "output_type": "stream",
     "text": [
      "Downloaded syn10285115 to d:\\master\\1st_semester\\deep_learning\\project\\deepm\\labelstr\\det0016101_avg_seg.nii.gz\n"
     ]
    },
    {
     "name": "stderr",
     "output_type": "stream",
     "text": [
      "Downloading files: 100%|█████████▉| 115k/115k [00:23<00:00, 4.95kB/s]"
     ]
    },
    {
     "name": "stdout",
     "output_type": "stream",
     "text": [
      "Downloaded syn10285204 to d:\\master\\1st_semester\\deep_learning\\project\\deepm\\labelstr\\det0015401_avg_seg.nii.gz\n"
     ]
    },
    {
     "name": "stderr",
     "output_type": "stream",
     "text": [
      "Downloading files: 100%|█████████▉| 117k/117k [00:23<00:00, 4.97kB/s]"
     ]
    },
    {
     "name": "stdout",
     "output_type": "stream",
     "text": [
      "Downloaded syn10285170 to d:\\master\\1st_semester\\deep_learning\\project\\deepm\\labelstr\\det0021701_avg_seg.nii.gz\n"
     ]
    },
    {
     "name": "stderr",
     "output_type": "stream",
     "text": [
      "Downloading files: 100%|█████████▉| 119k/119k [00:24<00:00, 4.94kB/s]"
     ]
    },
    {
     "name": "stdout",
     "output_type": "stream",
     "text": [
      "Downloaded syn10285202 to d:\\master\\1st_semester\\deep_learning\\project\\deepm\\labelstr\\det0021501_avg_seg.nii.gz\n"
     ]
    },
    {
     "name": "stderr",
     "output_type": "stream",
     "text": [
      "Downloading files: 100%|█████████▉| 120k/120k [00:24<00:00, 4.99kB/s]"
     ]
    },
    {
     "name": "stdout",
     "output_type": "stream",
     "text": [
      "Downloaded syn10285144 to d:\\master\\1st_semester\\deep_learning\\project\\deepm\\labelstr\\det0024401_avg_seg.nii.gz\n"
     ]
    },
    {
     "name": "stderr",
     "output_type": "stream",
     "text": [
      "Downloading files: 100%|█████████▉| 123k/123k [00:24<00:00, 5.05kB/s]"
     ]
    },
    {
     "name": "stdout",
     "output_type": "stream",
     "text": [
      "Downloaded syn10285196 to d:\\master\\1st_semester\\deep_learning\\project\\deepm\\labelstr\\det0006501_avg_seg.nii.gz\n"
     ]
    },
    {
     "name": "stderr",
     "output_type": "stream",
     "text": [
      "Downloading files: 100%|█████████▉| 126k/126k [00:24<00:00, 5.16kB/s]"
     ]
    },
    {
     "name": "stdout",
     "output_type": "stream",
     "text": [
      "Downloaded syn10285187 to d:\\master\\1st_semester\\deep_learning\\project\\deepm\\labelstr\\det0008801_avg_seg.nii.gz\n"
     ]
    },
    {
     "name": "stderr",
     "output_type": "stream",
     "text": [
      "Downloading files: 100%|█████████▉| 129k/129k [00:24<00:00, 5.20kB/s]"
     ]
    },
    {
     "name": "stdout",
     "output_type": "stream",
     "text": [
      "Downloaded syn10285221 to d:\\master\\1st_semester\\deep_learning\\project\\deepm\\labelstr\\det0001501_avg_seg.nii.gz\n"
     ]
    },
    {
     "name": "stderr",
     "output_type": "stream",
     "text": [
      "Downloading files: 100%|█████████▉| 130k/130k [00:25<00:00, 5.11kB/s]"
     ]
    },
    {
     "name": "stdout",
     "output_type": "stream",
     "text": [
      "Downloaded syn10285094 to d:\\master\\1st_semester\\deep_learning\\project\\deepm\\labelstr\\det0028601_avg_seg.nii.gz\n"
     ]
    },
    {
     "name": "stderr",
     "output_type": "stream",
     "text": [
      "Downloading files: 100%|█████████▉| 133k/133k [00:25<00:00, 5.15kB/s]"
     ]
    },
    {
     "name": "stdout",
     "output_type": "stream",
     "text": [
      "Downloaded syn10285209 to d:\\master\\1st_semester\\deep_learning\\project\\deepm\\labelstr\\det0001701_avg_seg.nii.gz\n"
     ]
    },
    {
     "name": "stderr",
     "output_type": "stream",
     "text": [
      "Downloading files: 100%|█████████▉| 135k/135k [00:26<00:00, 5.19kB/s]"
     ]
    },
    {
     "name": "stdout",
     "output_type": "stream",
     "text": [
      "Downloaded syn10285098 to d:\\master\\1st_semester\\deep_learning\\project\\deepm\\labelstr\\det0002601_avg_seg.nii.gz\n"
     ]
    },
    {
     "name": "stderr",
     "output_type": "stream",
     "text": [
      "Downloading files: 100%|█████████▉| 138k/138k [00:26<00:00, 5.22kB/s]"
     ]
    },
    {
     "name": "stdout",
     "output_type": "stream",
     "text": [
      "Downloaded syn10285206 to d:\\master\\1st_semester\\deep_learning\\project\\deepm\\labelstr\\det0001101_avg_seg.nii.gz\n"
     ]
    },
    {
     "name": "stderr",
     "output_type": "stream",
     "text": [
      "Downloading files: 100%|█████████▉| 140k/140k [00:26<00:00, 5.32kB/s]"
     ]
    },
    {
     "name": "stdout",
     "output_type": "stream",
     "text": [
      "Downloaded syn10285164 to d:\\master\\1st_semester\\deep_learning\\project\\deepm\\labelstr\\det0002001_avg_seg.nii.gz\n"
     ]
    },
    {
     "name": "stderr",
     "output_type": "stream",
     "text": [
      "Downloading files:  98%|█████████▊| 142k/144k [00:26<00:00, 5.33kB/s]"
     ]
    },
    {
     "name": "stdout",
     "output_type": "stream",
     "text": [
      "Downloaded syn10285130 to d:\\master\\1st_semester\\deep_learning\\project\\deepm\\labelstr\\det0028301_avg_seg.nii.gz\n"
     ]
    },
    {
     "name": "stderr",
     "output_type": "stream",
     "text": [
      "Downloading files: 100%|█████████▉| 144k/144k [00:26<00:00, 5.42kB/s]"
     ]
    },
    {
     "name": "stdout",
     "output_type": "stream",
     "text": [
      "Downloaded syn10285128 to d:\\master\\1st_semester\\deep_learning\\project\\deepm\\labelstr\\det0002501_avg_seg.nii.gz\n"
     ]
    },
    {
     "name": "stderr",
     "output_type": "stream",
     "text": [
      "Downloading files: 100%|█████████▉| 151k/151k [00:26<00:00, 5.67kB/s]"
     ]
    },
    {
     "name": "stdout",
     "output_type": "stream",
     "text": [
      "Downloaded syn10285102 to d:\\master\\1st_semester\\deep_learning\\project\\deepm\\labelstr\\det0003301_avg_seg.nii.gz\n"
     ]
    },
    {
     "name": "stderr",
     "output_type": "stream",
     "text": [
      "Downloading files: 100%|█████████▉| 153k/153k [00:27<00:00, 5.65kB/s]"
     ]
    },
    {
     "name": "stdout",
     "output_type": "stream",
     "text": [
      "Downloaded syn10285214 to d:\\master\\1st_semester\\deep_learning\\project\\deepm\\labelstr\\det0028801_avg_seg.nii.gz\n"
     ]
    },
    {
     "name": "stderr",
     "output_type": "stream",
     "text": [
      "Downloading files: 100%|█████████▉| 156k/156k [00:27<00:00, 5.74kB/s]"
     ]
    },
    {
     "name": "stdout",
     "output_type": "stream",
     "text": [
      "Downloaded syn10285208 to d:\\master\\1st_semester\\deep_learning\\project\\deepm\\labelstr\\det0044601_avg_seg.nii.gz\n"
     ]
    },
    {
     "name": "stderr",
     "output_type": "stream",
     "text": [
      "Downloading files: 100%|█████████▉| 159k/159k [00:27<00:00, 5.83kB/s]"
     ]
    },
    {
     "name": "stdout",
     "output_type": "stream",
     "text": [
      "Downloaded syn10285155 to d:\\master\\1st_semester\\deep_learning\\project\\deepm\\labelstr\\det0040101_avg_seg.nii.gz\n"
     ]
    },
    {
     "name": "stderr",
     "output_type": "stream",
     "text": [
      "Downloading files: 100%|█████████▉| 164k/164k [00:27<00:00, 6.01kB/s]"
     ]
    },
    {
     "name": "stdout",
     "output_type": "stream",
     "text": [
      "Downloaded syn10285142 to d:\\master\\1st_semester\\deep_learning\\project\\deepm\\labelstr\\det0004101_avg_seg.nii.gz\n"
     ]
    },
    {
     "name": "stderr",
     "output_type": "stream",
     "text": [
      "Downloading files: 100%|█████████▉| 164k/164k [00:27<00:00, 6.01kB/s]"
     ]
    },
    {
     "name": "stdout",
     "output_type": "stream",
     "text": [
      "Downloaded syn10285151 to d:\\master\\1st_semester\\deep_learning\\project\\deepm\\labelstr\\det0040001_avg_seg.nii.gz\n"
     ]
    },
    {
     "name": "stderr",
     "output_type": "stream",
     "text": [
      "Downloading files: 100%|█████████▉| 167k/167k [00:27<00:00, 6.06kB/s]"
     ]
    },
    {
     "name": "stdout",
     "output_type": "stream",
     "text": [
      "Downloaded syn10285121 to d:\\master\\1st_semester\\deep_learning\\project\\deepm\\labelstr\\det0037101_avg_seg.nii.gz\n"
     ]
    },
    {
     "name": "stderr",
     "output_type": "stream",
     "text": [
      "Downloading files:  98%|█████████▊| 169k/173k [00:27<00:00, 6.14kB/s]"
     ]
    },
    {
     "name": "stdout",
     "output_type": "stream",
     "text": [
      "Downloaded syn10285222 to d:\\master\\1st_semester\\deep_learning\\project\\deepm\\labelstr\\det0030901_avg_seg.nii.gz\n"
     ]
    },
    {
     "name": "stderr",
     "output_type": "stream",
     "text": [
      "Downloading files: 100%|█████████▉| 172k/173k [00:27<00:00, 6.26kB/s]"
     ]
    },
    {
     "name": "stdout",
     "output_type": "stream",
     "text": [
      "Downloaded syn10285219 to d:\\master\\1st_semester\\deep_learning\\project\\deepm\\labelstr\\det0035501_avg_seg.nii.gz\n"
     ]
    },
    {
     "name": "stderr",
     "output_type": "stream",
     "text": [
      "Downloading files: 100%|█████████▉| 176k/176k [00:27<00:00, 6.36kB/s]"
     ]
    },
    {
     "name": "stdout",
     "output_type": "stream",
     "text": [
      "Downloaded syn10285153 to d:\\master\\1st_semester\\deep_learning\\project\\deepm\\labelstr\\det0004201_avg_seg.nii.gz\n"
     ]
    },
    {
     "name": "stderr",
     "output_type": "stream",
     "text": [
      "Downloading files: 100%|█████████▉| 179k/179k [00:27<00:00, 6.48kB/s]"
     ]
    },
    {
     "name": "stdout",
     "output_type": "stream",
     "text": [
      "Downloaded syn10285182 to d:\\master\\1st_semester\\deep_learning\\project\\deepm\\labelstr\\det0003901_avg_seg.nii.gz\n"
     ]
    },
    {
     "name": "stderr",
     "output_type": "stream",
     "text": [
      "Downloading files: 100%|█████████▉| 181k/181k [00:27<00:00, 6.49kB/s]"
     ]
    },
    {
     "name": "stdout",
     "output_type": "stream",
     "text": [
      "Downloaded syn10285125 to d:\\master\\1st_semester\\deep_learning\\project\\deepm\\labelstr\\det0029001_avg_seg.nii.gz\n"
     ]
    },
    {
     "name": "stderr",
     "output_type": "stream",
     "text": [
      "Downloading files: 100%|█████████▉| 182k/182k [00:27<00:00, 6.51kB/s]"
     ]
    },
    {
     "name": "stdout",
     "output_type": "stream",
     "text": [
      "Downloaded syn10285168 to d:\\master\\1st_semester\\deep_learning\\project\\deepm\\labelstr\\det0042601_avg_seg.nii.gz\n"
     ]
    },
    {
     "name": "stderr",
     "output_type": "stream",
     "text": [
      "Downloading files: 100%|█████████▉| 185k/185k [00:28<00:00, 6.60kB/s]"
     ]
    },
    {
     "name": "stdout",
     "output_type": "stream",
     "text": [
      "Downloaded syn10285140 to d:\\master\\1st_semester\\deep_learning\\project\\deepm\\labelstr\\det0040201_avg_seg.nii.gz\n"
     ]
    },
    {
     "name": "stderr",
     "output_type": "stream",
     "text": [
      "Downloading files: 100%|█████████▉| 188k/188k [00:28<00:00, 6.61kB/s]"
     ]
    },
    {
     "name": "stdout",
     "output_type": "stream",
     "text": [
      "Downloaded syn10285225 to d:\\master\\1st_semester\\deep_learning\\project\\deepm\\labelstr\\det0001401_avg_seg.nii.gz\n"
     ]
    },
    {
     "name": "stderr",
     "output_type": "stream",
     "text": [
      "Downloading files: 100%|█████████▉| 191k/191k [00:28<00:00, 6.70kB/s]"
     ]
    },
    {
     "name": "stdout",
     "output_type": "stream",
     "text": [
      "Downloaded syn10285104 to d:\\master\\1st_semester\\deep_learning\\project\\deepm\\labelstr\\det0002701_avg_seg.nii.gz\n"
     ]
    },
    {
     "name": "stderr",
     "output_type": "stream",
     "text": [
      "Downloading files: 100%|█████████▉| 194k/194k [00:28<00:00, 6.79kB/s]"
     ]
    },
    {
     "name": "stdout",
     "output_type": "stream",
     "text": [
      "Downloaded syn10285134 to d:\\master\\1st_semester\\deep_learning\\project\\deepm\\labelstr\\det0003601_avg_seg.nii.gz\n"
     ]
    },
    {
     "name": "stderr",
     "output_type": "stream",
     "text": [
      "Downloading files: 100%|█████████▉| 196k/196k [00:28<00:00, 6.86kB/s]"
     ]
    },
    {
     "name": "stdout",
     "output_type": "stream",
     "text": [
      "Downloaded syn10285195 to d:\\master\\1st_semester\\deep_learning\\project\\deepm\\labelstr\\det0015601_avg_seg.nii.gz\n"
     ]
    },
    {
     "name": "stderr",
     "output_type": "stream",
     "text": [
      "Downloading files: 100%|█████████▉| 198k/198k [00:28<00:00, 6.86kB/s]"
     ]
    },
    {
     "name": "stdout",
     "output_type": "stream",
     "text": [
      "Downloaded syn10285215 to d:\\master\\1st_semester\\deep_learning\\project\\deepm\\labelstr\\det0001601_avg_seg.nii.gz\n"
     ]
    },
    {
     "name": "stderr",
     "output_type": "stream",
     "text": [
      "Downloading files: 100%|█████████▉| 200k/200k [00:29<00:00, 6.90kB/s]"
     ]
    },
    {
     "name": "stdout",
     "output_type": "stream",
     "text": [
      "Downloaded syn10285193 to d:\\master\\1st_semester\\deep_learning\\project\\deepm\\labelstr\\det0039501_avg_seg.nii.gz\n"
     ]
    },
    {
     "name": "stderr",
     "output_type": "stream",
     "text": [
      "Downloading files: 100%|█████████▉| 210k/210k [00:29<00:00, 7.20kB/s]"
     ]
    },
    {
     "name": "stdout",
     "output_type": "stream",
     "text": [
      "Downloaded syn10285150 to d:\\master\\1st_semester\\deep_learning\\project\\deepm\\labelstr\\det0003401_avg_seg.nii.gz\n"
     ]
    },
    {
     "name": "stderr",
     "output_type": "stream",
     "text": [
      "Downloading files: 100%|█████████▉| 213k/213k [00:29<00:00, 7.30kB/s]"
     ]
    },
    {
     "name": "stdout",
     "output_type": "stream",
     "text": [
      "Downloaded syn10285184 to d:\\master\\1st_semester\\deep_learning\\project\\deepm\\labelstr\\det0039401_avg_seg.nii.gz\n"
     ]
    },
    {
     "name": "stderr",
     "output_type": "stream",
     "text": [
      "Downloading files: 100%|█████████▉| 218k/218k [00:29<00:00, 7.45kB/s]"
     ]
    },
    {
     "name": "stdout",
     "output_type": "stream",
     "text": [
      "Downloaded syn10285096 to d:\\master\\1st_semester\\deep_learning\\project\\deepm\\labelstr\\det0001801_avg_seg.nii.gz\n"
     ]
    },
    {
     "name": "stderr",
     "output_type": "stream",
     "text": [
      "Downloading files: 100%|█████████▉| 218k/218k [00:29<00:00, 7.45kB/s]"
     ]
    },
    {
     "name": "stdout",
     "output_type": "stream",
     "text": [
      "Downloaded syn10285224 to d:\\master\\1st_semester\\deep_learning\\project\\deepm\\labelstr\\det0000101_avg_seg.nii.gz\n"
     ]
    },
    {
     "name": "stderr",
     "output_type": "stream",
     "text": [
      "Downloading files: 100%|█████████▉| 227k/227k [00:29<00:00, 7.73kB/s]"
     ]
    },
    {
     "name": "stdout",
     "output_type": "stream",
     "text": [
      "Downloaded syn10285110 to d:\\master\\1st_semester\\deep_learning\\project\\deepm\\labelstr\\det0003201_avg_seg.nii.gz\n"
     ]
    },
    {
     "name": "stderr",
     "output_type": "stream",
     "text": [
      "Downloading files: 100%|█████████▉| 230k/230k [00:29<00:00, 7.72kB/s]"
     ]
    },
    {
     "name": "stdout",
     "output_type": "stream",
     "text": [
      "Downloaded syn10285216 to d:\\master\\1st_semester\\deep_learning\\project\\deepm\\labelstr\\det0002801_avg_seg.nii.gz\n"
     ]
    },
    {
     "name": "stderr",
     "output_type": "stream",
     "text": [
      "Downloading files: 100%|█████████▉| 233k/233k [00:31<00:00, 7.37kB/s]"
     ]
    },
    {
     "name": "stdout",
     "output_type": "stream",
     "text": [
      "Downloaded syn10285117 to d:\\master\\1st_semester\\deep_learning\\project\\deepm\\labelstr\\det0026901_avg_seg.nii.gz\n"
     ]
    },
    {
     "name": "stderr",
     "output_type": "stream",
     "text": [
      "Downloading files: 100%|█████████▉| 235k/235k [00:31<00:00, 7.36kB/s]"
     ]
    },
    {
     "name": "stdout",
     "output_type": "stream",
     "text": [
      "Downloaded syn10285199 to d:\\master\\1st_semester\\deep_learning\\project\\deepm\\labelstr\\det0043101_avg_seg.nii.gz\n"
     ]
    },
    {
     "name": "stderr",
     "output_type": "stream",
     "text": [
      "Downloading files: 100%|█████████▉| 237k/237k [00:31<00:00, 7.41kB/s]"
     ]
    },
    {
     "name": "stdout",
     "output_type": "stream",
     "text": [
      "Downloaded syn10285189 to d:\\master\\1st_semester\\deep_learning\\project\\deepm\\labelstr\\det0043201_avg_seg.nii.gz\n"
     ]
    },
    {
     "name": "stderr",
     "output_type": "stream",
     "text": [
      "Downloading files: 100%|█████████▉| 238k/238k [00:31<00:00, 7.45kB/s]"
     ]
    },
    {
     "name": "stdout",
     "output_type": "stream",
     "text": [
      "Downloaded syn10285201 to d:\\master\\1st_semester\\deep_learning\\project\\deepm\\labelstr\\det0042401_avg_seg.nii.gz\n"
     ]
    },
    {
     "name": "stderr",
     "output_type": "stream",
     "text": [
      "Downloading files: 100%|█████████▉| 240k/240k [00:32<00:00, 7.49kB/s]"
     ]
    },
    {
     "name": "stdout",
     "output_type": "stream",
     "text": [
      "Downloaded syn10285227 to d:\\master\\1st_semester\\deep_learning\\project\\deepm\\labelstr\\det0042001_avg_seg.nii.gz\n"
     ]
    },
    {
     "name": "stderr",
     "output_type": "stream",
     "text": [
      "Downloading files: 100%|█████████▉| 242k/242k [00:32<00:00, 7.51kB/s]"
     ]
    },
    {
     "name": "stdout",
     "output_type": "stream",
     "text": [
      "Downloaded syn10285207 to d:\\master\\1st_semester\\deep_learning\\project\\deepm\\labelstr\\det0042501_avg_seg.nii.gz\n"
     ]
    },
    {
     "name": "stderr",
     "output_type": "stream",
     "text": [
      "Downloading files: 100%|█████████▉| 242k/242k [00:32<00:00, 7.48kB/s]\n",
      "Downloading files:   0%|          | 0.00/1.00 [00:00<?, ?B/s]"
     ]
    },
    {
     "name": "stdout",
     "output_type": "stream",
     "text": [
      "Syncing Folder (syn10284975:averaged-testing-images) from Synapse.\n"
     ]
    },
    {
     "name": "stderr",
     "output_type": "stream",
     "text": [
      "Downloading files:  35%|███▍      | 271k/781k [00:02<00:03, 130kB/s]"
     ]
    },
    {
     "name": "stdout",
     "output_type": "stream",
     "text": [
      "Downloaded syn10285045 to d:\\master\\1st_semester\\deep_learning\\project\\deepm\\imagests\\det0007501_avg.nii.gz\n"
     ]
    },
    {
     "name": "stderr",
     "output_type": "stream",
     "text": [
      "Downloading files:  22%|██▏       | 471k/2.15M [00:02<00:08, 197kB/s]"
     ]
    },
    {
     "name": "stdout",
     "output_type": "stream",
     "text": [
      "Downloaded syn10285042 to d:\\master\\1st_semester\\deep_learning\\project\\deepm\\imagests\\det0000701_avg.nii.gz\n"
     ]
    },
    {
     "name": "stderr",
     "output_type": "stream",
     "text": [
      "Downloading files:  36%|███▋      | 781k/2.15M [00:02<00:04, 309kB/s]"
     ]
    },
    {
     "name": "stdout",
     "output_type": "stream",
     "text": [
      "Downloaded syn10285040 to d:\\master\\1st_semester\\deep_learning\\project\\deepm\\imagests\\det0008301_avg.nii.gz\n"
     ]
    },
    {
     "name": "stderr",
     "output_type": "stream",
     "text": [
      "Downloading files:  39%|███▉      | 1.03M/2.64M [00:02<00:04, 375kB/s]"
     ]
    },
    {
     "name": "stdout",
     "output_type": "stream",
     "text": [
      "Downloaded syn10285044 to d:\\master\\1st_semester\\deep_learning\\project\\deepm\\imagests\\det0007301_avg.nii.gz\n"
     ]
    },
    {
     "name": "stderr",
     "output_type": "stream",
     "text": [
      "Downloading files:  58%|█████▊    | 1.52M/2.64M [00:02<00:02, 534kB/s]"
     ]
    },
    {
     "name": "stdout",
     "output_type": "stream",
     "text": [
      "Downloaded syn10285030 to d:\\master\\1st_semester\\deep_learning\\project\\deepm\\imagests\\det0011601_avg.nii.gz\n"
     ]
    },
    {
     "name": "stderr",
     "output_type": "stream",
     "text": [
      "Downloading files:  69%|██████▉   | 2.64M/3.82M [00:03<00:01, 853kB/s]"
     ]
    },
    {
     "name": "stdout",
     "output_type": "stream",
     "text": [
      "Downloaded syn10285028 to d:\\master\\1st_semester\\deep_learning\\project\\deepm\\imagests\\det0010401_avg.nii.gz\n"
     ]
    },
    {
     "name": "stderr",
     "output_type": "stream",
     "text": [
      "Downloading files:  79%|███████▉  | 3.01M/3.82M [00:03<00:00, 882kB/s]"
     ]
    },
    {
     "name": "stdout",
     "output_type": "stream",
     "text": [
      "Downloaded syn10285032 to d:\\master\\1st_semester\\deep_learning\\project\\deepm\\imagests\\det0011501_avg.nii.gz\n"
     ]
    },
    {
     "name": "stderr",
     "output_type": "stream",
     "text": [
      "Downloading files:  88%|████████▊ | 3.37M/3.82M [00:03<00:00, 981kB/s]"
     ]
    },
    {
     "name": "stdout",
     "output_type": "stream",
     "text": [
      "Downloaded syn10285024 to d:\\master\\1st_semester\\deep_learning\\project\\deepm\\imagests\\det0010901_avg.nii.gz\n"
     ]
    },
    {
     "name": "stderr",
     "output_type": "stream",
     "text": [
      "Downloading files: 100%|█████████▉| 3.82M/3.82M [00:03<00:00, 1.09MB/s]"
     ]
    },
    {
     "name": "stdout",
     "output_type": "stream",
     "text": [
      "Downloaded syn10285043 to d:\\master\\1st_semester\\deep_learning\\project\\deepm\\imagests\\det0000301_avg.nii.gz\n"
     ]
    },
    {
     "name": "stderr",
     "output_type": "stream",
     "text": [
      "Downloading files:  94%|█████████▍| 5.10M/5.42M [00:04<00:00, 1.17MB/s]"
     ]
    },
    {
     "name": "stdout",
     "output_type": "stream",
     "text": [
      "Downloaded syn10285025 to d:\\master\\1st_semester\\deep_learning\\project\\deepm\\imagests\\det0010201_avg.nii.gz\n"
     ]
    },
    {
     "name": "stderr",
     "output_type": "stream",
     "text": [
      "Downloading files:  90%|████████▉ | 5.42M/6.04M [00:04<00:00, 1.17MB/s]"
     ]
    },
    {
     "name": "stdout",
     "output_type": "stream",
     "text": [
      "Downloaded syn10285016 to d:\\master\\1st_semester\\deep_learning\\project\\deepm\\imagests\\det0009101_avg.nii.gz\n"
     ]
    },
    {
     "name": "stderr",
     "output_type": "stream",
     "text": [
      "Downloading files:  93%|█████████▎| 5.65M/6.04M [00:04<00:00, 1.18MB/s]"
     ]
    },
    {
     "name": "stdout",
     "output_type": "stream",
     "text": [
      "Downloaded syn10285047 to d:\\master\\1st_semester\\deep_learning\\project\\deepm\\imagests\\det0007601_avg.nii.gz\n"
     ]
    },
    {
     "name": "stderr",
     "output_type": "stream",
     "text": [
      "Downloading files: 100%|█████████▉| 6.04M/6.04M [00:04<00:00, 1.24MB/s]"
     ]
    },
    {
     "name": "stdout",
     "output_type": "stream",
     "text": [
      "Downloaded syn10285022 to d:\\master\\1st_semester\\deep_learning\\project\\deepm\\imagests\\det0009701_avg.nii.gz\n"
     ]
    },
    {
     "name": "stderr",
     "output_type": "stream",
     "text": [
      "Downloading files:  91%|█████████ | 6.51M/7.15M [00:05<00:00, 1.19MB/s]"
     ]
    },
    {
     "name": "stdout",
     "output_type": "stream",
     "text": [
      "Downloaded syn10285035 to d:\\master\\1st_semester\\deep_learning\\project\\deepm\\imagests\\det0007801_avg.nii.gz\n"
     ]
    },
    {
     "name": "stderr",
     "output_type": "stream",
     "text": [
      "Downloading files:  81%|████████  | 7.15M/8.85M [00:05<00:01, 1.21MB/s]"
     ]
    },
    {
     "name": "stdout",
     "output_type": "stream",
     "text": [
      "Downloaded syn10285034 to d:\\master\\1st_semester\\deep_learning\\project\\deepm\\imagests\\det0011201_avg.nii.gz\n"
     ]
    },
    {
     "name": "stderr",
     "output_type": "stream",
     "text": [
      "Downloading files:  80%|████████  | 7.45M/9.28M [00:06<00:01, 1.19MB/s]"
     ]
    },
    {
     "name": "stdout",
     "output_type": "stream",
     "text": [
      "Downloaded syn10285046 to d:\\master\\1st_semester\\deep_learning\\project\\deepm\\imagests\\det0007401_avg.nii.gz\n"
     ]
    },
    {
     "name": "stderr",
     "output_type": "stream",
     "text": [
      "Downloading files:  85%|████████▌ | 7.90M/9.28M [00:06<00:01, 1.26MB/s]"
     ]
    },
    {
     "name": "stdout",
     "output_type": "stream",
     "text": [
      "Downloaded syn10285018 to d:\\master\\1st_semester\\deep_learning\\project\\deepm\\imagests\\det0009401_avg.nii.gz\n"
     ]
    },
    {
     "name": "stderr",
     "output_type": "stream",
     "text": [
      "Downloading files:  90%|████████▉ | 8.35M/9.28M [00:06<00:00, 1.32MB/s]"
     ]
    },
    {
     "name": "stdout",
     "output_type": "stream",
     "text": [
      "Downloaded syn10285023 to d:\\master\\1st_semester\\deep_learning\\project\\deepm\\imagests\\det0012201_avg.nii.gz\n"
     ]
    },
    {
     "name": "stderr",
     "output_type": "stream",
     "text": [
      "Downloading files:  95%|█████████▌| 8.85M/9.28M [00:06<00:00, 1.40MB/s]"
     ]
    },
    {
     "name": "stdout",
     "output_type": "stream",
     "text": [
      "Downloaded syn10285012 to d:\\master\\1st_semester\\deep_learning\\project\\deepm\\imagests\\det0013401_avg.nii.gz\n"
     ]
    },
    {
     "name": "stderr",
     "output_type": "stream",
     "text": [
      "Downloading files: 100%|█████████▉| 9.28M/9.28M [00:06<00:00, 1.42MB/s]"
     ]
    },
    {
     "name": "stdout",
     "output_type": "stream",
     "text": [
      "Downloaded syn10285037 to d:\\master\\1st_semester\\deep_learning\\project\\deepm\\imagests\\det0008701_avg.nii.gz\n"
     ]
    },
    {
     "name": "stderr",
     "output_type": "stream",
     "text": [
      "Downloading files: 100%|█████████▉| 9.70M/9.70M [00:07<00:00, 1.23MB/s]"
     ]
    },
    {
     "name": "stdout",
     "output_type": "stream",
     "text": [
      "Downloaded syn10284997 to d:\\master\\1st_semester\\deep_learning\\project\\deepm\\imagests\\det0014501_avg.nii.gz\n"
     ]
    },
    {
     "name": "stderr",
     "output_type": "stream",
     "text": [
      "Downloading files:  97%|█████████▋| 9.91M/10.2M [00:08<00:00, 1.17MB/s]"
     ]
    },
    {
     "name": "stdout",
     "output_type": "stream",
     "text": [
      "Downloaded syn10284981 to d:\\master\\1st_semester\\deep_learning\\project\\deepm\\imagests\\det0024301_avg.nii.gz\n"
     ]
    },
    {
     "name": "stderr",
     "output_type": "stream",
     "text": [
      "Downloading files:  95%|█████████▌| 10.2M/10.7M [00:08<00:00, 1.16MB/s]"
     ]
    },
    {
     "name": "stdout",
     "output_type": "stream",
     "text": [
      "Downloaded syn10284998 to d:\\master\\1st_semester\\deep_learning\\project\\deepm\\imagests\\det0014401_avg.nii.gz\n"
     ]
    },
    {
     "name": "stderr",
     "output_type": "stream",
     "text": [
      "Downloading files: 100%|█████████▉| 10.7M/10.7M [00:09<00:00, 1.18MB/s]"
     ]
    },
    {
     "name": "stdout",
     "output_type": "stream",
     "text": [
      "Downloaded syn10285009 to d:\\master\\1st_semester\\deep_learning\\project\\deepm\\imagests\\det0014801_avg.nii.gz\n"
     ]
    },
    {
     "name": "stderr",
     "output_type": "stream",
     "text": [
      "Downloading files:  93%|█████████▎| 11.1M/12.0M [00:09<00:00, 1.16MB/s]"
     ]
    },
    {
     "name": "stdout",
     "output_type": "stream",
     "text": [
      "Downloaded syn10284978 to d:\\master\\1st_semester\\deep_learning\\project\\deepm\\imagests\\det0012501_avg.nii.gz\n"
     ]
    },
    {
     "name": "stderr",
     "output_type": "stream",
     "text": [
      "Downloading files:  96%|█████████▌| 11.7M/12.2M [00:09<00:00, 1.18MB/s]"
     ]
    },
    {
     "name": "stdout",
     "output_type": "stream",
     "text": [
      "Downloaded syn10285038 to d:\\master\\1st_semester\\deep_learning\\project\\deepm\\imagests\\det0008601_avg.nii.gz\n"
     ]
    },
    {
     "name": "stderr",
     "output_type": "stream",
     "text": [
      "Downloading files:  97%|█████████▋| 11.8M/12.2M [00:09<00:00, 1.20MB/s]"
     ]
    },
    {
     "name": "stdout",
     "output_type": "stream",
     "text": [
      "Downloaded syn10285041 to d:\\master\\1st_semester\\deep_learning\\project\\deepm\\imagests\\det0000601_avg.nii.gz\n"
     ]
    },
    {
     "name": "stderr",
     "output_type": "stream",
     "text": [
      "Downloading files:  97%|█████████▋| 12.2M/12.5M [00:09<00:00, 1.22MB/s]"
     ]
    },
    {
     "name": "stdout",
     "output_type": "stream",
     "text": [
      "Downloaded syn10284987 to d:\\master\\1st_semester\\deep_learning\\project\\deepm\\imagests\\det0012901_avg.nii.gz\n"
     ]
    },
    {
     "name": "stderr",
     "output_type": "stream",
     "text": [
      "Downloading files: 100%|█████████▉| 12.5M/12.5M [00:10<00:00, 1.21MB/s]"
     ]
    },
    {
     "name": "stdout",
     "output_type": "stream",
     "text": [
      "Downloaded syn10284986 to d:\\master\\1st_semester\\deep_learning\\project\\deepm\\imagests\\det0015001_avg.nii.gz\n"
     ]
    },
    {
     "name": "stderr",
     "output_type": "stream",
     "text": [
      "Downloading files:  97%|█████████▋| 12.9M/13.3M [00:12<00:00, 1.07MB/s]"
     ]
    },
    {
     "name": "stdout",
     "output_type": "stream",
     "text": [
      "Downloaded syn10285000 to d:\\master\\1st_semester\\deep_learning\\project\\deepm\\imagests\\det0014601_avg.nii.gz\n"
     ]
    },
    {
     "name": "stderr",
     "output_type": "stream",
     "text": [
      "Downloading files: 100%|█████████▉| 13.3M/13.3M [00:12<00:00, 1.10MB/s]"
     ]
    },
    {
     "name": "stdout",
     "output_type": "stream",
     "text": [
      "Downloaded syn10285026 to d:\\master\\1st_semester\\deep_learning\\project\\deepm\\imagests\\det0010001_avg.nii.gz\n"
     ]
    },
    {
     "name": "stderr",
     "output_type": "stream",
     "text": [
      "Downloading files:  87%|████████▋ | 13.6M/15.7M [00:13<00:01, 1.04MB/s]"
     ]
    },
    {
     "name": "stdout",
     "output_type": "stream",
     "text": [
      "Downloaded syn10284983 to d:\\master\\1st_semester\\deep_learning\\project\\deepm\\imagests\\det0021401_avg.nii.gz\n"
     ]
    },
    {
     "name": "stderr",
     "output_type": "stream",
     "text": [
      "Downloading files:  97%|█████████▋| 15.2M/15.7M [00:13<00:00, 1.16MB/s]"
     ]
    },
    {
     "name": "stdout",
     "output_type": "stream",
     "text": [
      "Downloaded syn10285013 to d:\\master\\1st_semester\\deep_learning\\project\\deepm\\imagests\\det0020201_avg.nii.gz\n"
     ]
    },
    {
     "name": "stderr",
     "output_type": "stream",
     "text": [
      "Downloading files: 100%|█████████▉| 15.7M/15.7M [00:13<00:00, 1.17MB/s]"
     ]
    },
    {
     "name": "stdout",
     "output_type": "stream",
     "text": [
      "Downloaded syn10284994 to d:\\master\\1st_semester\\deep_learning\\project\\deepm\\imagests\\det0015501_avg.nii.gz\n"
     ]
    },
    {
     "name": "stderr",
     "output_type": "stream",
     "text": [
      "Downloading files: 100%|█████████▉| 16.2M/16.2M [00:14<00:00, 1.12MB/s]"
     ]
    },
    {
     "name": "stdout",
     "output_type": "stream",
     "text": [
      "Downloaded syn10285004 to d:\\master\\1st_semester\\deep_learning\\project\\deepm\\imagests\\det0013801_avg.nii.gz\n"
     ]
    },
    {
     "name": "stderr",
     "output_type": "stream",
     "text": [
      "Downloading files:  98%|█████████▊| 16.6M/17.0M [00:14<00:00, 1.12MB/s]"
     ]
    },
    {
     "name": "stdout",
     "output_type": "stream",
     "text": [
      "Downloaded syn10285006 to d:\\master\\1st_semester\\deep_learning\\project\\deepm\\imagests\\det0019401_avg.nii.gz\n"
     ]
    },
    {
     "name": "stderr",
     "output_type": "stream",
     "text": [
      "Downloading files:  98%|█████████▊| 16.8M/17.2M [00:14<00:00, 1.12MB/s]"
     ]
    },
    {
     "name": "stdout",
     "output_type": "stream",
     "text": [
      "Downloaded syn10285003 to d:\\master\\1st_semester\\deep_learning\\project\\deepm\\imagests\\det0027601_avg.nii.gz\n"
     ]
    },
    {
     "name": "stderr",
     "output_type": "stream",
     "text": [
      "Downloading files:  99%|█████████▊| 17.0M/17.2M [00:15<00:00, 1.13MB/s]"
     ]
    },
    {
     "name": "stdout",
     "output_type": "stream",
     "text": [
      "Downloaded syn10284993 to d:\\master\\1st_semester\\deep_learning\\project\\deepm\\imagests\\det0029601_avg.nii.gz\n"
     ]
    },
    {
     "name": "stderr",
     "output_type": "stream",
     "text": [
      "Downloading files: 100%|█████████▉| 17.2M/17.2M [00:15<00:00, 1.12MB/s]"
     ]
    },
    {
     "name": "stdout",
     "output_type": "stream",
     "text": [
      "Downloaded syn10284990 to d:\\master\\1st_semester\\deep_learning\\project\\deepm\\imagests\\det0026701_avg.nii.gz\n"
     ]
    },
    {
     "name": "stderr",
     "output_type": "stream",
     "text": [
      "Downloading files:  87%|████████▋ | 18.9M/21.8M [00:17<00:02, 1.11MB/s]"
     ]
    },
    {
     "name": "stdout",
     "output_type": "stream",
     "text": [
      "Downloaded syn10284977 to d:\\master\\1st_semester\\deep_learning\\project\\deepm\\imagests\\det0035301_avg.nii.gz\n"
     ]
    },
    {
     "name": "stderr",
     "output_type": "stream",
     "text": [
      "Downloading files:  95%|█████████▍| 20.7M/21.8M [00:17<00:00, 1.21MB/s]"
     ]
    },
    {
     "name": "stdout",
     "output_type": "stream",
     "text": [
      "Downloaded syn10285036 to d:\\master\\1st_semester\\deep_learning\\project\\deepm\\imagests\\det0011301_avg.nii.gz\n"
     ]
    },
    {
     "name": "stderr",
     "output_type": "stream",
     "text": [
      "Downloading files:  96%|█████████▌| 20.9M/21.8M [00:17<00:00, 1.21MB/s]"
     ]
    },
    {
     "name": "stdout",
     "output_type": "stream",
     "text": [
      "Downloaded syn10284985 to d:\\master\\1st_semester\\deep_learning\\project\\deepm\\imagests\\det0042701_avg.nii.gz\n"
     ]
    },
    {
     "name": "stderr",
     "output_type": "stream",
     "text": [
      "Downloading files:  99%|█████████▉| 21.6M/21.8M [00:17<00:00, 1.25MB/s]"
     ]
    },
    {
     "name": "stdout",
     "output_type": "stream",
     "text": [
      "Downloaded syn10284984 to d:\\master\\1st_semester\\deep_learning\\project\\deepm\\imagests\\det0015101_avg.nii.gz\n"
     ]
    },
    {
     "name": "stderr",
     "output_type": "stream",
     "text": [
      "Downloading files: 100%|█████████▉| 21.8M/21.8M [00:17<00:00, 1.26MB/s]"
     ]
    },
    {
     "name": "stdout",
     "output_type": "stream",
     "text": [
      "Downloaded syn10284988 to d:\\master\\1st_semester\\deep_learning\\project\\deepm\\imagests\\det0029301_avg.nii.gz\n"
     ]
    },
    {
     "name": "stderr",
     "output_type": "stream",
     "text": [
      "Downloading files:  95%|█████████▌| 22.5M/23.7M [00:17<00:00, 1.26MB/s]"
     ]
    },
    {
     "name": "stdout",
     "output_type": "stream",
     "text": [
      "Downloaded syn10284996 to d:\\master\\1st_semester\\deep_learning\\project\\deepm\\imagests\\det0042301_avg.nii.gz\n"
     ]
    },
    {
     "name": "stderr",
     "output_type": "stream",
     "text": [
      "Downloading files:  95%|█████████▌| 22.5M/23.7M [00:17<00:00, 1.26MB/s]"
     ]
    },
    {
     "name": "stdout",
     "output_type": "stream",
     "text": [
      "Downloaded syn10285010 to d:\\master\\1st_semester\\deep_learning\\project\\deepm\\imagests\\det0014901_avg.nii.gz\n"
     ]
    },
    {
     "name": "stderr",
     "output_type": "stream",
     "text": [
      "Downloading files:  96%|█████████▌| 22.7M/23.7M [00:17<00:00, 1.27MB/s]"
     ]
    },
    {
     "name": "stdout",
     "output_type": "stream",
     "text": [
      "Downloaded syn10284980 to d:\\master\\1st_semester\\deep_learning\\project\\deepm\\imagests\\det0030301_avg.nii.gz\n"
     ]
    },
    {
     "name": "stderr",
     "output_type": "stream",
     "text": [
      "Downloading files:  97%|█████████▋| 22.9M/23.7M [00:18<00:00, 1.27MB/s]"
     ]
    },
    {
     "name": "stdout",
     "output_type": "stream",
     "text": [
      "Downloaded syn10284991 to d:\\master\\1st_semester\\deep_learning\\project\\deepm\\imagests\\det0029201_avg.nii.gz\n"
     ]
    },
    {
     "name": "stderr",
     "output_type": "stream",
     "text": [
      "Downloading files:  98%|█████████▊| 23.2M/23.7M [00:18<00:00, 1.27MB/s]"
     ]
    },
    {
     "name": "stdout",
     "output_type": "stream",
     "text": [
      "Downloaded syn10285001 to d:\\master\\1st_semester\\deep_learning\\project\\deepm\\imagests\\det0043001_avg.nii.gz\n"
     ]
    },
    {
     "name": "stderr",
     "output_type": "stream",
     "text": [
      "Downloading files: 100%|█████████▉| 23.7M/23.7M [00:18<00:00, 1.29MB/s]"
     ]
    },
    {
     "name": "stdout",
     "output_type": "stream",
     "text": [
      "Downloaded syn10285039 to d:\\master\\1st_semester\\deep_learning\\project\\deepm\\imagests\\det0008501_avg.nii.gz\n"
     ]
    },
    {
     "name": "stderr",
     "output_type": "stream",
     "text": [
      "Downloading files:  99%|█████████▉| 23.9M/24.1M [00:18<00:00, 1.29MB/s]"
     ]
    },
    {
     "name": "stdout",
     "output_type": "stream",
     "text": [
      "Downloaded syn10285019 to d:\\master\\1st_semester\\deep_learning\\project\\deepm\\imagests\\det0012001_avg.nii.gz\n"
     ]
    },
    {
     "name": "stderr",
     "output_type": "stream",
     "text": [
      "Downloading files:  98%|█████████▊| 24.1M/24.7M [00:18<00:00, 1.28MB/s]"
     ]
    },
    {
     "name": "stdout",
     "output_type": "stream",
     "text": [
      "Downloaded syn10284982 to d:\\master\\1st_semester\\deep_learning\\project\\deepm\\imagests\\det0029901_avg.nii.gz\n"
     ]
    },
    {
     "name": "stderr",
     "output_type": "stream",
     "text": [
      "Downloading files:  95%|█████████▌| 24.3M/25.5M [00:19<00:00, 1.28MB/s]"
     ]
    },
    {
     "name": "stdout",
     "output_type": "stream",
     "text": [
      "Downloaded syn10284999 to d:\\master\\1st_semester\\deep_learning\\project\\deepm\\imagests\\det0043301_avg.nii.gz\n"
     ]
    },
    {
     "name": "stderr",
     "output_type": "stream",
     "text": [
      "Downloading files:  95%|█████████▌| 24.9M/26.2M [00:19<00:01, 1.29MB/s]"
     ]
    },
    {
     "name": "stdout",
     "output_type": "stream",
     "text": [
      "Downloaded syn10284979 to d:\\master\\1st_semester\\deep_learning\\project\\deepm\\imagests\\det0012401_avg.nii.gz\n"
     ]
    },
    {
     "name": "stderr",
     "output_type": "stream",
     "text": [
      "Downloading files:  95%|█████████▌| 24.9M/26.2M [00:19<00:01, 1.29MB/s]"
     ]
    },
    {
     "name": "stdout",
     "output_type": "stream",
     "text": [
      "Downloaded syn10285031 to d:\\master\\1st_semester\\deep_learning\\project\\deepm\\imagests\\det0011701_avg.nii.gz\n"
     ]
    },
    {
     "name": "stderr",
     "output_type": "stream",
     "text": [
      "Downloading files:  90%|████████▉ | 25.3M/28.1M [00:19<00:02, 1.29MB/s]"
     ]
    },
    {
     "name": "stdout",
     "output_type": "stream",
     "text": [
      "Downloaded syn10285020 to d:\\master\\1st_semester\\deep_learning\\project\\deepm\\imagests\\det0009501_avg.nii.gz\n"
     ]
    },
    {
     "name": "stderr",
     "output_type": "stream",
     "text": [
      "Downloading files:  92%|█████████▏| 25.8M/28.1M [00:19<00:01, 1.32MB/s]"
     ]
    },
    {
     "name": "stdout",
     "output_type": "stream",
     "text": [
      "Downloaded syn10285017 to d:\\master\\1st_semester\\deep_learning\\project\\deepm\\imagests\\det0012101_avg.nii.gz\n"
     ]
    },
    {
     "name": "stderr",
     "output_type": "stream",
     "text": [
      "Downloading files:  93%|█████████▎| 26.0M/28.1M [00:19<00:01, 1.32MB/s]"
     ]
    },
    {
     "name": "stdout",
     "output_type": "stream",
     "text": [
      "Downloaded syn10284995 to d:\\master\\1st_semester\\deep_learning\\project\\deepm\\imagests\\det0042201_avg.nii.gz\n"
     ]
    },
    {
     "name": "stderr",
     "output_type": "stream",
     "text": [
      "Downloading files:  94%|█████████▍| 26.4M/28.1M [00:19<00:01, 1.33MB/s]"
     ]
    },
    {
     "name": "stdout",
     "output_type": "stream",
     "text": [
      "Downloaded syn10285015 to d:\\master\\1st_semester\\deep_learning\\project\\deepm\\imagests\\det0044001_avg.nii.gz\n"
     ]
    },
    {
     "name": "stderr",
     "output_type": "stream",
     "text": [
      "Downloading files: 100%|█████████▉| 28.1M/28.1M [00:20<00:00, 1.39MB/s]"
     ]
    },
    {
     "name": "stdout",
     "output_type": "stream",
     "text": [
      "Downloaded syn10285033 to d:\\master\\1st_semester\\deep_learning\\project\\deepm\\imagests\\det0011401_avg.nii.gz\n"
     ]
    },
    {
     "name": "stderr",
     "output_type": "stream",
     "text": [
      "Downloading files:  97%|█████████▋| 28.5M/29.3M [00:20<00:00, 1.37MB/s]"
     ]
    },
    {
     "name": "stdout",
     "output_type": "stream",
     "text": [
      "Downloaded syn10285007 to d:\\master\\1st_semester\\deep_learning\\project\\deepm\\imagests\\det0013301_avg.nii.gz\n"
     ]
    },
    {
     "name": "stderr",
     "output_type": "stream",
     "text": [
      "Downloading files:  99%|█████████▊| 29.3M/29.7M [00:20<00:00, 1.40MB/s]"
     ]
    },
    {
     "name": "stdout",
     "output_type": "stream",
     "text": [
      "Downloaded syn10285029 to d:\\master\\1st_semester\\deep_learning\\project\\deepm\\imagests\\det0010701_avg.nii.gz\n"
     ]
    },
    {
     "name": "stderr",
     "output_type": "stream",
     "text": [
      "Downloading files:  99%|█████████▉| 29.7M/30.0M [00:21<00:00, 1.39MB/s]"
     ]
    },
    {
     "name": "stdout",
     "output_type": "stream",
     "text": [
      "Downloaded syn10284976 to d:\\master\\1st_semester\\deep_learning\\project\\deepm\\imagests\\det0044901_avg.nii.gz\n"
     ]
    },
    {
     "name": "stderr",
     "output_type": "stream",
     "text": [
      "Downloading files:  98%|█████████▊| 30.0M/30.6M [00:21<00:00, 1.38MB/s]"
     ]
    },
    {
     "name": "stdout",
     "output_type": "stream",
     "text": [
      "Downloaded syn10285005 to d:\\master\\1st_semester\\deep_learning\\project\\deepm\\imagests\\det0014001_avg.nii.gz\n"
     ]
    },
    {
     "name": "stderr",
     "output_type": "stream",
     "text": [
      "Downloading files: 100%|█████████▉| 30.6M/30.6M [00:21<00:00, 1.40MB/s]"
     ]
    },
    {
     "name": "stdout",
     "output_type": "stream",
     "text": [
      "Downloaded syn10285008 to d:\\master\\1st_semester\\deep_learning\\project\\deepm\\imagests\\det0013101_avg.nii.gz\n"
     ]
    },
    {
     "name": "stderr",
     "output_type": "stream",
     "text": [
      "Downloading files:  99%|█████████▉| 31.0M/31.2M [00:24<00:00, 1.25MB/s]"
     ]
    },
    {
     "name": "stdout",
     "output_type": "stream",
     "text": [
      "Downloaded syn10285027 to d:\\master\\1st_semester\\deep_learning\\project\\deepm\\imagests\\det0010501_avg.nii.gz\n"
     ]
    },
    {
     "name": "stderr",
     "output_type": "stream",
     "text": [
      "Downloading files: 100%|█████████▉| 31.2M/31.2M [00:25<00:00, 1.24MB/s]"
     ]
    },
    {
     "name": "stdout",
     "output_type": "stream",
     "text": [
      "Downloaded syn10285014 to d:\\master\\1st_semester\\deep_learning\\project\\deepm\\imagests\\det0025001_avg.nii.gz\n"
     ]
    },
    {
     "name": "stderr",
     "output_type": "stream",
     "text": [
      "Downloading files:  99%|█████████▉| 32.7M/32.9M [00:25<00:00, 1.27MB/s]"
     ]
    },
    {
     "name": "stdout",
     "output_type": "stream",
     "text": [
      "Downloaded syn10285021 to d:\\master\\1st_semester\\deep_learning\\project\\deepm\\imagests\\det0010801_avg.nii.gz\n"
     ]
    },
    {
     "name": "stderr",
     "output_type": "stream",
     "text": [
      "Downloading files:  99%|█████████▊| 32.9M/33.4M [00:25<00:00, 1.27MB/s]"
     ]
    },
    {
     "name": "stdout",
     "output_type": "stream",
     "text": [
      "Downloaded syn10284989 to d:\\master\\1st_semester\\deep_learning\\project\\deepm\\imagests\\det0026601_avg.nii.gz\n"
     ]
    },
    {
     "name": "stderr",
     "output_type": "stream",
     "text": [
      "Downloading files:  99%|█████████▊| 33.1M/33.6M [00:26<00:00, 1.26MB/s]"
     ]
    },
    {
     "name": "stdout",
     "output_type": "stream",
     "text": [
      "Downloaded syn10285002 to d:\\master\\1st_semester\\deep_learning\\project\\deepm\\imagests\\det0014701_avg.nii.gz\n"
     ]
    },
    {
     "name": "stderr",
     "output_type": "stream",
     "text": [
      "Downloading files: 100%|█████████▉| 33.6M/33.6M [00:26<00:00, 1.27MB/s]"
     ]
    },
    {
     "name": "stdout",
     "output_type": "stream",
     "text": [
      "Downloaded syn10284992 to d:\\master\\1st_semester\\deep_learning\\project\\deepm\\imagests\\det0026201_avg.nii.gz\n"
     ]
    },
    {
     "name": "stderr",
     "output_type": "stream",
     "text": [
      "Downloading files: 100%|█████████▉| 34.0M/34.0M [00:27<00:00, 1.24MB/s]"
     ]
    },
    {
     "name": "stdout",
     "output_type": "stream",
     "text": [
      "Downloaded syn10285011 to d:\\master\\1st_semester\\deep_learning\\project\\deepm\\imagests\\det0013001_avg.nii.gz\n"
     ]
    },
    {
     "name": "stderr",
     "output_type": "stream",
     "text": [
      "Downloading files: 100%|█████████▉| 34.0M/34.0M [00:27<00:00, 1.24MB/s]"
     ]
    },
    {
     "name": "stdout",
     "output_type": "stream",
     "text": [
      "Dataset JSON file created at D:/master/1st_semester/Deep_Learning/project/DeepM\\dataset_0.json\n"
     ]
    },
    {
     "name": "stderr",
     "output_type": "stream",
     "text": [
      "\n"
     ]
    }
   ],
   "source": [
    "import synapseclient\n",
    "import synapseutils\n",
    "import os\n",
    "import json\n",
    "from monai.data import CacheDataset, DataLoader\n",
    "\n",
    "# Initialize Synapse client and log in\n",
    "syn = synapseclient.Synapse()\n",
    "syn.login(authToken=\"\")\n",
    "\n",
    "# Define the target directories\n",
    "base_directory = 'D:/master/1st_semester/Deep_Learning/project/DeepM'\n",
    "images_directory = os.path.join(base_directory, 'imagesTr')\n",
    "labels_directory = os.path.join(base_directory, 'labelsTr')\n",
    "test_images_directory = os.path.join(base_directory, 'imagesTs')  # New directory for test images\n",
    "json_file_path = os.path.join(base_directory, 'dataset_0.json')\n",
    "\n",
    "# Create directories if they don't exist\n",
    "os.makedirs(images_directory, exist_ok=True)\n",
    "os.makedirs(labels_directory, exist_ok=True)\n",
    "os.makedirs(test_images_directory, exist_ok=True)  # Create the directory for testing images\n",
    "\n",
    "# Sync the images and labels from Synapse using the provided Synapse IDs\n",
    "synapseutils.syncFromSynapse(syn, 'syn10285054', images_directory)  # Averaged training images\n",
    "synapseutils.syncFromSynapse(syn, 'syn10285076', labels_directory)  # Averaged training labels\n",
    "synapseutils.syncFromSynapse(syn, 'syn10284975', test_images_directory)  # Averaged testing images\n",
    "\n",
    "# Prepare the data for the JSON file\n",
    "dataset_info = {\n",
    "    \"description\": \"btcv yucheng\",\n",
    "    \"labels\": {\n",
    "        \"0\": \"background\",\n",
    "        \"1\": \"spleen\",\n",
    "        \"2\": \"rkid\",\n",
    "        \"3\": \"lkid\",\n",
    "        \"4\": \"gall\",\n",
    "        \"5\": \"eso\",\n",
    "        \"6\": \"liver\",\n",
    "        \"7\": \"sto\",\n",
    "        \"8\": \"aorta\",\n",
    "        \"9\": \"IVC\",\n",
    "        \"10\": \"veins\",\n",
    "        \"11\": \"pancreas\",\n",
    "        \"12\": \"rad\",\n",
    "        \"13\": \"lad\"\n",
    "    },\n",
    "    \"licence\": \"yt\",\n",
    "    \"modality\": {\n",
    "        \"0\": \"CT\"\n",
    "    },\n",
    "    \"name\": \"btcv\",\n",
    "    \"numTest\": 20,\n",
    "    \"numTraining\": 80,\n",
    "    \"reference\": \"Vanderbilt University\",\n",
    "    \"release\": \"1.0 06/08/2015\",\n",
    "    \"tensorImageSize\": \"3D\",\n",
    "    \"test\": [],  # Will be populated with test images\n",
    "    \"training\": [],\n",
    "    \"validation\": []\n",
    "}\n",
    "\n",
    "# Now collect training data\n",
    "image_files = sorted([f for f in os.listdir(images_directory) if f.endswith('.nii.gz')])\n",
    "label_files = sorted([f for f in os.listdir(labels_directory) if f.endswith('.nii.gz')])\n",
    "\n",
    "# Ensure that the training image and label files are in sync\n",
    "if len(image_files) != len(label_files):\n",
    "    raise ValueError(\"Number of image files does not match the number of label files\")\n",
    "\n",
    "# Assuming the image and label files are in order, pair them for training\n",
    "for img_file, lbl_file in zip(image_files, label_files):\n",
    "    dataset_info['training'].append({\n",
    "        \"image\": f\"D:/master/1st_semester/Deep_Learning/project/DeepM/imagesTr/{img_file}\",\n",
    "        \"label\": f\"D:/master/1st_semester/Deep_Learning/project/DeepM/labelsTr/{lbl_file}\"\n",
    "    })\n",
    "\n",
    "# Collect validation data (assuming the last few are validation)\n",
    "for img_file, lbl_file in zip(image_files[-6:], label_files[-6:]):\n",
    "    dataset_info['validation'].append({\n",
    "        \"image\": f\"D:/master/1st_semester/Deep_Learning/project/DeepM/imagesTr/{img_file}\",\n",
    "        \"label\": f\"D:/master/1st_semester/Deep_Learning/project/DeepM/labelsTr/{lbl_file}\"\n",
    "    })\n",
    "\n",
    "# Now collect test data from the averaged testing images\n",
    "test_image_files = sorted([f for f in os.listdir(test_images_directory) if f.endswith('.nii.gz')])\n",
    "\n",
    "# Add the test images to the 'test' section in the JSON\n",
    "for test_img_file in test_image_files:\n",
    "    dataset_info['test'].append(f\"D:/master/1st_semester/Deep_Learning/project/DeepM/imagesTs/{test_img_file}\")\n",
    "\n",
    "# Save the JSON file\n",
    "with open(json_file_path, 'w') as json_file:\n",
    "    json.dump(dataset_info, json_file, indent=4)\n",
    "\n",
    "print(f\"Dataset JSON file created at {json_file_path}\")"
   ]
  },
  {
   "cell_type": "code",
   "execution_count": 12,
   "metadata": {},
   "outputs": [
    {
     "name": "stderr",
     "output_type": "stream",
     "text": [
      "Loading dataset:   0%|          | 0/4 [00:00<?, ?it/s]"
     ]
    },
    {
     "name": "stderr",
     "output_type": "stream",
     "text": [
      "Loading dataset: 100%|██████████| 4/4 [00:01<00:00,  2.64it/s]\n"
     ]
    },
    {
     "name": "stdout",
     "output_type": "stream",
     "text": [
      "Processing image with size: (4, 1, 64, 64, 64)\n"
     ]
    },
    {
     "name": "stderr",
     "output_type": "stream",
     "text": [
      "Loading dataset: 100%|██████████| 6/6 [00:01<00:00,  5.73it/s]\n"
     ]
    }
   ],
   "source": [
    "data_dir = \"D:/master/1st_semester/Deep_Learning/project/DeepM/\"\n",
    "split_json = \"dataset_0.json\"\n",
    "\n",
    "datasets = data_dir + split_json\n",
    "datalist = load_decathlon_datalist(datasets, True, \"training\")\n",
    "val_files = load_decathlon_datalist(datasets, True, \"validation\")\n",
    "train_ds = CacheDataset(\n",
    "    data=datalist,\n",
    "    transform=train_transforms,\n",
    "    cache_num=4,\n",
    "    cache_rate=1.0,\n",
    "    num_workers=8,\n",
    ")\n",
    "train_loader = DataLoader(train_ds, batch_size=1, shuffle=True, num_workers=4, pin_memory=True)\n",
    "for batch in train_loader:\n",
    "    image = batch[\"image\"]\n",
    "    image_size = image.shape  # Check if the image is large enough for the crop\n",
    "    # Proceed with processing this batch\n",
    "    print(f\"Processing image with size: {image_size}\")\n",
    "    break  # Only process the first valid batch for now\n",
    "\n",
    "\n",
    "val_ds = CacheDataset(data=val_files, transform=val_transforms, cache_num=6, cache_rate=1.0, num_workers=4)\n",
    "val_loader = DataLoader(val_ds, batch_size=1, shuffle=False, num_workers=4, pin_memory=True)\n",
    "torch.backends.cudnn.benchmark = True  # Optimizing for performance"
   ]
  },
  {
   "cell_type": "markdown",
   "metadata": {},
   "source": [
    "## Check data shape and visualize"
   ]
  },
  {
   "cell_type": "code",
   "execution_count": 7,
   "metadata": {},
   "outputs": [
    {
     "name": "stdout",
     "output_type": "stream",
     "text": [
      "Image path: det0044601_avg.nii.gz\n",
      "Image shape: (1, 240, 203, 31)\n",
      "Label shape: (1, 240, 203, 31)\n",
      "Image is a PyTorch tensor.\n",
      "Label is a PyTorch tensor.\n",
      "Using slice index 5 for image det0044601_avg.nii.gz.\n"
     ]
    },
    {
     "data": {
      "image/png": "[encoded data removed]",
      "text/plain": [
       "<Figure size 1800x600 with 2 Axes>"
      ]
     },
     "metadata": {},
     "output_type": "display_data"
    }
   ],
   "source": [
    "import os\n",
    "import matplotlib.pyplot as plt\n",
    "import torch\n",
    "\n",
    "# Assuming val_ds is your dataset and json_data has been loaded as per your earlier code\n",
    "# Also, assuming the dataset paths are as follows\n",
    "validation_images = [\n",
    "    \"D:/master/1st_semester/Deep_Learning/project/DeepM/imagesTr/DET0042401_avg.nii.gz\",\n",
    "    \"D:/master/1st_semester/Deep_Learning/project/DeepM/imagesTr/DET0042501_avg.nii.gz\",\n",
    "    \"D:/master/1st_semester/Deep_Learning/project/DeepM/imagesTr/DET0042601_avg.nii.gz\",\n",
    "    \"D:/master/1st_semester/Deep_Learning/project/DeepM/imagesTr/DET0043101_avg.nii.gz\",\n",
    "    \"D:/master/1st_semester/Deep_Learning/project/DeepM/imagesTr/DET0043201_avg.nii.gz\",\n",
    "    \"D:/master/1st_semester/Deep_Learning/project/DeepM/imagesTr/DET0044601_avg.nii.gz\",\n",
    "]\n",
    "\n",
    "# Create a map of the image names to slice indices for these files\n",
    "slice_map = {\n",
    "    \"det0042401_avg.nii.gz\": 10,\n",
    "    \"det0042501_avg.nii.gz\": 15,\n",
    "    \"det0042601_avg.nii.gz\": 20,\n",
    "    \"det0043101_avg.nii.gz\": 25,\n",
    "    \"det0043201_avg.nii.gz\": 30,\n",
    "    \"det0044601_avg.nii.gz\": 5,\n",
    "}\n",
    "\n",
    "# Index of the case you want to visualize\n",
    "case_num = 5  # Replace with the desired case number (index)\n",
    "\n",
    "# Get the image and label from the dataset\n",
    "img_name = os.path.split(val_ds[case_num][\"image\"].meta[\"filename_or_obj\"])[1]\n",
    "img_name = img_name.lower()  # Normalize the case of the filename\n",
    "img = val_ds[case_num][\"image\"]\n",
    "label = val_ds[case_num][\"label\"]\n",
    "\n",
    "# Debugging: Print paths and shapes\n",
    "print(f\"Image path: {img_name}\")\n",
    "print(f\"Image shape: {img.shape}\")\n",
    "print(f\"Label shape: {label.shape}\")\n",
    "\n",
    "# Check if img and label are tensors\n",
    "if isinstance(img, torch.Tensor):\n",
    "    print(\"Image is a PyTorch tensor.\")\n",
    "else:\n",
    "    print(\"Image is NOT a PyTorch tensor.\")\n",
    "\n",
    "if isinstance(label, torch.Tensor):\n",
    "    print(\"Label is a PyTorch tensor.\")\n",
    "else:\n",
    "    print(\"Label is NOT a PyTorch tensor.\")\n",
    "\n",
    "# Ensure that the index is within bounds\n",
    "slice_idx = slice_map.get(img_name, None)\n",
    "\n",
    "if slice_idx is None:\n",
    "    print(f\"Image {img_name} not found in slice_map. Please check the slice_map.\")\n",
    "else:\n",
    "    # Ensure slice_idx is valid and within the depth range of the image\n",
    "    if 0 <= slice_idx < img.shape[3]:  # img.shape[3] is the depth (31)\n",
    "        print(f\"Using slice index {slice_idx} for image {img_name}.\")\n",
    "        \n",
    "        # Plot the image and the label\n",
    "        plt.figure(\"image\", (18, 6))\n",
    "\n",
    "        # Plot the image\n",
    "        plt.subplot(1, 2, 1)\n",
    "        plt.title(\"Image\")\n",
    "        # Access the correct slice using the depth dimension (index 3)\n",
    "        plt.imshow(img[0, :, :, slice_idx].detach().cpu(), cmap=\"gray\")\n",
    "\n",
    "        # Plot the label\n",
    "        plt.subplot(1, 2, 2)\n",
    "        plt.title(\"Label\")\n",
    "        # Access the correct slice for the label too\n",
    "        plt.imshow(label[0, :, :, slice_idx].detach().cpu())\n",
    "\n",
    "        plt.show()\n",
    "    else:\n",
    "        print(f\"Slice index {slice_idx} is out of bounds. Valid range: 0 to {img.shape[3] - 1}\")\n"
   ]
  },
  {
   "cell_type": "markdown",
   "metadata": {},
   "source": [
    "## Create Model, Loss, Optimizer"
   ]
  },
  {
   "cell_type": "code",
   "execution_count": 8,
   "metadata": {},
   "outputs": [],
   "source": [
    "import torch\n",
    "import os\n",
    "from monai.networks.nets import UNETR\n",
    "from monai.losses import DiceCELoss\n",
    "\n",
    "# Set CUDA device order and initialize device\n",
    "os.environ[\"CUDA_DEVICE_ORDER\"] = \"PCI_BUS_ID\"\n",
    "#device = torch.device(\"cuda\" if torch.cuda.is_available() else \"cpu\")\n",
    "device = torch.device(\"cpu\")\n",
    "\n",
    "# Define the UNETR model\n",
    "model = UNETR(\n",
    "    in_channels=1,\n",
    "    out_channels=14,\n",
    "    img_size=(64, 64, 64),\n",
    "    feature_size=8,\n",
    "    hidden_size=256,\n",
    "    mlp_dim=1024,\n",
    "    num_heads=8,\n",
    "    norm_name=\"instance\",  # Removed proj_type\n",
    "    res_block=True,\n",
    "    dropout_rate=0.0,\n",
    ").to(device)\n",
    "\n",
    "# Loss function\n",
    "loss_function = DiceCELoss(to_onehot_y=True, softmax=True)\n",
    "\n",
    "# Optimizer\n",
    "torch.backends.cudnn.benchmark = True\n",
    "optimizer = torch.optim.AdamW(model.parameters(), lr=1e-4, weight_decay=1e-5)\n"
   ]
  },
  {
   "cell_type": "markdown",
   "metadata": {},
   "source": [
    "## Execute a typical PyTorch training process"
   ]
  },
  {
   "cell_type": "code",
   "execution_count": 16,
   "metadata": {},
   "outputs": [
    {
     "name": "stderr",
     "output_type": "stream",
     "text": [
      "Training (X / X Steps) (loss=X.X):   0%|          | 0/83 [00:00<?, ?it/s]"
     ]
    },
    {
     "name": "stderr",
     "output_type": "stream",
     "text": [
      "Training (82 / 10000 Steps) (loss=3.80301): 100%|██████████| 83/83 [05:53<00:00,  4.25s/it]\n",
      "Training (165 / 10000 Steps) (loss=3.64615): 100%|██████████| 83/83 [05:29<00:00,  3.97s/it]\n",
      "Training (248 / 10000 Steps) (loss=3.55706): 100%|██████████| 83/83 [05:14<00:00,  3.79s/it]\n",
      "Training (331 / 10000 Steps) (loss=3.50664): 100%|██████████| 83/83 [05:01<00:00,  3.63s/it]\n",
      "Training (414 / 10000 Steps) (loss=3.45403): 100%|██████████| 83/83 [04:53<00:00,  3.54s/it]\n",
      "Training (497 / 10000 Steps) (loss=3.40306): 100%|██████████| 83/83 [04:54<00:00,  3.55s/it]\n",
      "Validate (X / X Steps) (dice=X.X): 100%|██████████| 6/6 [00:33<00:00,  5.55s/it] 10.97s/it]\n",
      "Training (500 / 10000 Steps) (loss=3.38733):   4%|▎         | 3/83 [01:02<30:31, 22.90s/it]"
     ]
    },
    {
     "name": "stdout",
     "output_type": "stream",
     "text": [
      "Model Saved! Best Avg. Dice: 0.03434223681688309 Current Avg. Dice: 0.03434223681688309\n"
     ]
    },
    {
     "name": "stderr",
     "output_type": "stream",
     "text": [
      "Training (580 / 10000 Steps) (loss=3.37381): 100%|██████████| 83/83 [05:28<00:00,  3.96s/it]\n",
      "Training (663 / 10000 Steps) (loss=3.29983): 100%|██████████| 83/83 [05:08<00:00,  3.71s/it]\n",
      "Training (746 / 10000 Steps) (loss=3.25536): 100%|██████████| 83/83 [04:52<00:00,  3.52s/it]\n",
      "Training (829 / 10000 Steps) (loss=3.20757): 100%|██████████| 83/83 [04:58<00:00,  3.60s/it]\n",
      "Training (912 / 10000 Steps) (loss=3.19569): 100%|██████████| 83/83 [04:54<00:00,  3.55s/it]\n",
      "Training (995 / 10000 Steps) (loss=3.14617): 100%|██████████| 83/83 [04:54<00:00,  3.55s/it]\n",
      "Validate (X / X Steps) (dice=X.X): 100%|██████████| 6/6 [00:33<00:00,  5.60s/it],  5.75s/it]\n",
      "Training (1000 / 10000 Steps) (loss=3.15591):   6%|▌         | 5/83 [01:08<22:15, 17.12s/it]"
     ]
    },
    {
     "name": "stdout",
     "output_type": "stream",
     "text": [
      "Model Saved! Best Avg. Dice: 0.44311344623565674 Current Avg. Dice: 0.44311344623565674\n"
     ]
    },
    {
     "name": "stderr",
     "output_type": "stream",
     "text": [
      "Training (1078 / 10000 Steps) (loss=3.09353): 100%|██████████| 83/83 [05:27<00:00,  3.94s/it]\n",
      "Training (1161 / 10000 Steps) (loss=3.13772): 100%|██████████| 83/83 [04:58<00:00,  3.60s/it]\n",
      "Training (1244 / 10000 Steps) (loss=3.06385): 100%|██████████| 83/83 [04:56<00:00,  3.57s/it]\n",
      "Training (1327 / 10000 Steps) (loss=3.01616): 100%|██████████| 83/83 [04:55<00:00,  3.55s/it]\n",
      "Training (1410 / 10000 Steps) (loss=2.98636): 100%|██████████| 83/83 [04:58<00:00,  3.60s/it]\n",
      "Training (1493 / 10000 Steps) (loss=2.96711): 100%|██████████| 83/83 [04:56<00:00,  3.57s/it]\n",
      "Validate (X / X Steps) (dice=X.X): 100%|██████████| 6/6 [00:34<00:00,  5.67s/it],  4.42s/it]\n",
      "Training (1500 / 10000 Steps) (loss=2.96808):   8%|▊         | 7/83 [01:15<19:12, 15.17s/it]"
     ]
    },
    {
     "name": "stdout",
     "output_type": "stream",
     "text": [
      "Model Saved! Best Avg. Dice: 0.487321138381958 Current Avg. Dice: 0.487321138381958\n"
     ]
    },
    {
     "name": "stderr",
     "output_type": "stream",
     "text": [
      "Training (1576 / 10000 Steps) (loss=2.93328): 100%|██████████| 83/83 [05:28<00:00,  3.96s/it]\n",
      "Training (1659 / 10000 Steps) (loss=2.89461): 100%|██████████| 83/83 [04:53<00:00,  3.53s/it]\n",
      "Training (1742 / 10000 Steps) (loss=2.86819): 100%|██████████| 83/83 [04:51<00:00,  3.52s/it]\n",
      "Training (1825 / 10000 Steps) (loss=2.85552): 100%|██████████| 83/83 [04:54<00:00,  3.55s/it]\n",
      "Training (1908 / 10000 Steps) (loss=2.81457): 100%|██████████| 83/83 [04:53<00:00,  3.53s/it]\n",
      "Training (1991 / 10000 Steps) (loss=2.80572): 100%|██████████| 83/83 [04:53<00:00,  3.54s/it]\n",
      "Validate (X / X Steps) (dice=X.X): 100%|██████████| 6/6 [00:33<00:00,  5.51s/it],  3.74s/it]\n",
      "Training (2000 / 10000 Steps) (loss=2.77618):  11%|█         | 9/83 [01:21<17:18, 14.03s/it]"
     ]
    },
    {
     "name": "stdout",
     "output_type": "stream",
     "text": [
      "Model Saved! Best Avg. Dice: 0.4925003945827484 Current Avg. Dice: 0.4925003945827484\n"
     ]
    },
    {
     "name": "stderr",
     "output_type": "stream",
     "text": [
      "Training (2074 / 10000 Steps) (loss=2.76559): 100%|██████████| 83/83 [05:30<00:00,  3.98s/it]\n",
      "Training (2157 / 10000 Steps) (loss=2.70030): 100%|██████████| 83/83 [04:56<00:00,  3.58s/it]\n",
      "Training (2240 / 10000 Steps) (loss=2.71607): 100%|██████████| 83/83 [04:58<00:00,  3.59s/it]\n",
      "Training (2323 / 10000 Steps) (loss=2.66759): 100%|██████████| 83/83 [04:57<00:00,  3.58s/it]\n",
      "Training (2406 / 10000 Steps) (loss=2.69036): 100%|██████████| 83/83 [04:57<00:00,  3.58s/it]\n",
      "Training (2489 / 10000 Steps) (loss=2.63324): 100%|██████████| 83/83 [04:57<00:00,  3.59s/it]\n",
      "Validate (X / X Steps) (dice=X.X): 100%|██████████| 6/6 [00:34<00:00,  5.74s/it]2,  3.59s/it]\n",
      "Training (2500 / 10000 Steps) (loss=2.62747):  13%|█▎        | 11/83 [01:29<16:58, 14.14s/it]"
     ]
    },
    {
     "name": "stdout",
     "output_type": "stream",
     "text": [
      "Model Saved! Best Avg. Dice: 0.4941156804561615 Current Avg. Dice: 0.4941156804561615\n"
     ]
    },
    {
     "name": "stderr",
     "output_type": "stream",
     "text": [
      "Training (2572 / 10000 Steps) (loss=2.60822): 100%|██████████| 83/83 [05:30<00:00,  3.98s/it]\n",
      "Training (2655 / 10000 Steps) (loss=2.58555): 100%|██████████| 83/83 [04:57<00:00,  3.58s/it]\n",
      "Training (2738 / 10000 Steps) (loss=2.51979): 100%|██████████| 83/83 [04:55<00:00,  3.55s/it]\n",
      "Training (2821 / 10000 Steps) (loss=2.52781): 100%|██████████| 83/83 [04:58<00:00,  3.60s/it]\n",
      "Training (2904 / 10000 Steps) (loss=2.50519): 100%|██████████| 83/83 [04:57<00:00,  3.58s/it]\n",
      "Training (2987 / 10000 Steps) (loss=2.48275): 100%|██████████| 83/83 [04:56<00:00,  3.57s/it]\n",
      "Validate (X / X Steps) (dice=X.X): 100%|██████████| 6/6 [00:33<00:00,  5.54s/it]7,  3.49s/it]\n",
      "Training (3000 / 10000 Steps) (loss=2.45795):  16%|█▌        | 13/83 [01:35<15:49, 13.57s/it]"
     ]
    },
    {
     "name": "stdout",
     "output_type": "stream",
     "text": [
      "Model Saved! Best Avg. Dice: 0.4949674904346466 Current Avg. Dice: 0.4949674904346466\n"
     ]
    },
    {
     "name": "stderr",
     "output_type": "stream",
     "text": [
      "Training (3070 / 10000 Steps) (loss=2.43238): 100%|██████████| 83/83 [05:30<00:00,  3.98s/it]\n",
      "Training (3153 / 10000 Steps) (loss=2.43084): 100%|██████████| 83/83 [04:59<00:00,  3.60s/it]\n",
      "Training (3236 / 10000 Steps) (loss=2.37251): 100%|██████████| 83/83 [04:56<00:00,  3.57s/it]\n",
      "Training (3319 / 10000 Steps) (loss=2.37391): 100%|██████████| 83/83 [04:56<00:00,  3.57s/it]\n",
      "Training (3402 / 10000 Steps) (loss=2.35472): 100%|██████████| 83/83 [04:57<00:00,  3.58s/it]\n",
      "Training (3485 / 10000 Steps) (loss=2.29472): 100%|██████████| 83/83 [04:58<00:00,  3.60s/it]\n",
      "Validate (X / X Steps) (dice=X.X): 100%|██████████| 6/6 [00:33<00:00,  5.54s/it]1,  3.35s/it]\n",
      "Training (3500 / 10000 Steps) (loss=2.31723):  18%|█▊        | 15/83 [01:40<15:08, 13.36s/it]"
     ]
    },
    {
     "name": "stdout",
     "output_type": "stream",
     "text": [
      "Model Saved! Best Avg. Dice: 0.49502941966056824 Current Avg. Dice: 0.49502941966056824\n"
     ]
    },
    {
     "name": "stderr",
     "output_type": "stream",
     "text": [
      "Training (3568 / 10000 Steps) (loss=2.29594): 100%|██████████| 83/83 [05:30<00:00,  3.99s/it]\n",
      "Training (3651 / 10000 Steps) (loss=2.27903): 100%|██████████| 83/83 [04:56<00:00,  3.58s/it]\n",
      "Training (3734 / 10000 Steps) (loss=2.25150): 100%|██████████| 83/83 [04:57<00:00,  3.58s/it]\n",
      "Training (3817 / 10000 Steps) (loss=2.22850): 100%|██████████| 83/83 [04:58<00:00,  3.59s/it]\n",
      "Training (3900 / 10000 Steps) (loss=2.20631): 100%|██████████| 83/83 [04:56<00:00,  3.57s/it]\n",
      "Training (3983 / 10000 Steps) (loss=2.21500): 100%|██████████| 83/83 [04:59<00:00,  3.61s/it]\n",
      "Validate (X / X Steps) (dice=X.X): 100%|██████████| 6/6 [00:33<00:00,  5.50s/it]8,  3.41s/it]\n",
      "Training (4000 / 10000 Steps) (loss=2.19853):  20%|██        | 17/83 [01:48<14:41, 13.35s/it]"
     ]
    },
    {
     "name": "stdout",
     "output_type": "stream",
     "text": [
      "Model Saved! Best Avg. Dice: 0.5006895661354065 Current Avg. Dice: 0.5006895661354065\n"
     ]
    },
    {
     "name": "stderr",
     "output_type": "stream",
     "text": [
      "Training (4066 / 10000 Steps) (loss=2.16714): 100%|██████████| 83/83 [05:31<00:00,  4.00s/it]\n",
      "Training (4149 / 10000 Steps) (loss=2.12799): 100%|██████████| 83/83 [04:59<00:00,  3.61s/it]\n",
      "Training (4232 / 10000 Steps) (loss=2.09149): 100%|██████████| 83/83 [04:57<00:00,  3.58s/it]\n",
      "Training (4315 / 10000 Steps) (loss=2.07929): 100%|██████████| 83/83 [04:57<00:00,  3.59s/it]\n",
      "Training (4398 / 10000 Steps) (loss=2.02508): 100%|██████████| 83/83 [04:56<00:00,  3.58s/it]\n",
      "Training (4481 / 10000 Steps) (loss=2.00728): 100%|██████████| 83/83 [04:57<00:00,  3.58s/it]\n",
      "Validate (X / X Steps) (dice=X.X): 100%|██████████| 6/6 [00:33<00:00,  5.53s/it]6,  3.48s/it]\n",
      "Training (4500 / 10000 Steps) (loss=1.98374):  23%|██▎       | 19/83 [01:56<14:19, 13.43s/it]"
     ]
    },
    {
     "name": "stdout",
     "output_type": "stream",
     "text": [
      "Model Saved! Best Avg. Dice: 0.5090838074684143 Current Avg. Dice: 0.5090838074684143\n"
     ]
    },
    {
     "name": "stderr",
     "output_type": "stream",
     "text": [
      "Training (4564 / 10000 Steps) (loss=1.96486): 100%|██████████| 83/83 [06:27<00:00,  4.67s/it]\n",
      "Training (4647 / 10000 Steps) (loss=1.91841): 100%|██████████| 83/83 [05:39<00:00,  4.10s/it]\n",
      "Training (4730 / 10000 Steps) (loss=1.89547): 100%|██████████| 83/83 [05:39<00:00,  4.09s/it]\n",
      "Training (4813 / 10000 Steps) (loss=1.88157): 100%|██████████| 83/83 [05:46<00:00,  4.18s/it]\n",
      "Training (4896 / 10000 Steps) (loss=1.83568): 100%|██████████| 83/83 [06:00<00:00,  4.34s/it]\n",
      "Training (4979 / 10000 Steps) (loss=1.78541): 100%|██████████| 83/83 [05:45<00:00,  4.17s/it]\n",
      "Validate (X / X Steps) (dice=X.X): 100%|██████████| 6/6 [00:32<00:00,  5.50s/it]5,  3.26s/it]\n",
      "Training (5000 / 10000 Steps) (loss=1.79357):  25%|██▌       | 21/83 [01:58<13:35, 13.16s/it]"
     ]
    },
    {
     "name": "stdout",
     "output_type": "stream",
     "text": [
      "Model Not Saved. Best Avg. Dice: 0.5090838074684143 Current Avg. Dice: 0.5068376660346985\n"
     ]
    },
    {
     "name": "stderr",
     "output_type": "stream",
     "text": [
      "Training (5062 / 10000 Steps) (loss=1.75150): 100%|██████████| 83/83 [05:18<00:00,  3.83s/it]\n",
      "Training (5145 / 10000 Steps) (loss=1.72230): 100%|██████████| 83/83 [04:42<00:00,  3.41s/it]\n",
      "Training (5228 / 10000 Steps) (loss=1.69966): 100%|██████████| 83/83 [04:44<00:00,  3.42s/it]\n",
      "Training (5311 / 10000 Steps) (loss=1.66504): 100%|██████████| 83/83 [04:44<00:00,  3.42s/it]\n",
      "Training (5394 / 10000 Steps) (loss=1.64051): 100%|██████████| 83/83 [04:43<00:00,  3.42s/it]\n",
      "Training (5477 / 10000 Steps) (loss=1.62119): 100%|██████████| 83/83 [05:08<00:00,  3.72s/it]\n",
      "Validate (X / X Steps) (dice=X.X): 100%|██████████| 6/6 [00:36<00:00,  6.05s/it]0,  3.62s/it]\n",
      "Training (5500 / 10000 Steps) (loss=1.62154):  28%|██▊       | 23/83 [02:21<14:33, 14.55s/it]"
     ]
    },
    {
     "name": "stdout",
     "output_type": "stream",
     "text": [
      "Model Not Saved. Best Avg. Dice: 0.5090838074684143 Current Avg. Dice: 0.498075395822525\n"
     ]
    },
    {
     "name": "stderr",
     "output_type": "stream",
     "text": [
      "Training (5560 / 10000 Steps) (loss=1.61078): 100%|██████████| 83/83 [06:00<00:00,  4.34s/it]\n",
      "Training (5643 / 10000 Steps) (loss=1.53681): 100%|██████████| 83/83 [05:42<00:00,  4.13s/it]\n",
      "Training (5726 / 10000 Steps) (loss=1.54727): 100%|██████████| 83/83 [05:21<00:00,  3.87s/it]\n",
      "Training (5809 / 10000 Steps) (loss=1.50331): 100%|██████████| 83/83 [05:21<00:00,  3.87s/it]\n",
      "Training (5892 / 10000 Steps) (loss=1.49243): 100%|██████████| 83/83 [04:54<00:00,  3.55s/it]\n",
      "Training (5975 / 10000 Steps) (loss=1.47961): 100%|██████████| 83/83 [04:55<00:00,  3.56s/it]\n",
      "Validate (X / X Steps) (dice=X.X): 100%|██████████| 6/6 [00:33<00:00,  5.60s/it]5,  3.31s/it]\n",
      "Training (6000 / 10000 Steps) (loss=1.45777):  30%|███       | 25/83 [02:15<12:56, 13.39s/it]"
     ]
    },
    {
     "name": "stdout",
     "output_type": "stream",
     "text": [
      "Model Not Saved. Best Avg. Dice: 0.5090838074684143 Current Avg. Dice: 0.49892517924308777\n"
     ]
    },
    {
     "name": "stderr",
     "output_type": "stream",
     "text": [
      "Training (6058 / 10000 Steps) (loss=1.46251): 100%|██████████| 83/83 [05:28<00:00,  3.96s/it]\n",
      "Training (6141 / 10000 Steps) (loss=1.43022): 100%|██████████| 83/83 [04:54<00:00,  3.55s/it]\n",
      "Training (6224 / 10000 Steps) (loss=1.41802): 100%|██████████| 83/83 [04:53<00:00,  3.54s/it]\n",
      "Training (6307 / 10000 Steps) (loss=1.40316): 100%|██████████| 83/83 [04:56<00:00,  3.57s/it]\n",
      "Training (6390 / 10000 Steps) (loss=1.39318): 100%|██████████| 83/83 [04:53<00:00,  3.53s/it]\n",
      "Training (6473 / 10000 Steps) (loss=1.34772): 100%|██████████| 83/83 [04:54<00:00,  3.54s/it]\n",
      "Validate (X / X Steps) (dice=X.X): 100%|██████████| 6/6 [00:33<00:00,  5.51s/it]8,  3.32s/it]\n",
      "Training (6500 / 10000 Steps) (loss=1.37018):  33%|███▎      | 27/83 [02:21<12:20, 13.23s/it]"
     ]
    },
    {
     "name": "stdout",
     "output_type": "stream",
     "text": [
      "Model Not Saved. Best Avg. Dice: 0.5090838074684143 Current Avg. Dice: 0.4971281588077545\n"
     ]
    },
    {
     "name": "stderr",
     "output_type": "stream",
     "text": [
      "Training (6556 / 10000 Steps) (loss=1.33919): 100%|██████████| 83/83 [05:29<00:00,  3.97s/it]\n",
      "Training (6639 / 10000 Steps) (loss=1.31521): 100%|██████████| 83/83 [04:54<00:00,  3.55s/it]\n",
      "Training (6722 / 10000 Steps) (loss=1.28571): 100%|██████████| 83/83 [04:57<00:00,  3.59s/it]\n",
      "Training (6805 / 10000 Steps) (loss=1.26031): 100%|██████████| 83/83 [04:54<00:00,  3.55s/it]\n",
      "Training (6888 / 10000 Steps) (loss=1.26687): 100%|██████████| 83/83 [04:55<00:00,  3.56s/it]\n",
      "Training (6971 / 10000 Steps) (loss=1.23669): 100%|██████████| 83/83 [04:53<00:00,  3.54s/it]\n",
      "Validate (X / X Steps) (dice=X.X): 100%|██████████| 6/6 [00:32<00:00,  5.50s/it]4,  3.35s/it]\n",
      "Training (7000 / 10000 Steps) (loss=1.21101):  35%|███▍      | 29/83 [02:28<11:54, 13.23s/it]"
     ]
    },
    {
     "name": "stdout",
     "output_type": "stream",
     "text": [
      "Model Not Saved. Best Avg. Dice: 0.5090838074684143 Current Avg. Dice: 0.4977746307849884\n"
     ]
    },
    {
     "name": "stderr",
     "output_type": "stream",
     "text": [
      "Training (7054 / 10000 Steps) (loss=1.22327): 100%|██████████| 83/83 [05:29<00:00,  3.97s/it]\n",
      "Training (7137 / 10000 Steps) (loss=1.20504): 100%|██████████| 83/83 [04:55<00:00,  3.57s/it]\n",
      "Training (7220 / 10000 Steps) (loss=1.18606): 100%|██████████| 83/83 [04:57<00:00,  3.58s/it]\n",
      "Training (7303 / 10000 Steps) (loss=1.19234): 100%|██████████| 83/83 [04:57<00:00,  3.58s/it]\n",
      "Training (7386 / 10000 Steps) (loss=1.16029): 100%|██████████| 83/83 [04:56<00:00,  3.57s/it]\n",
      "Training (7469 / 10000 Steps) (loss=1.15609): 100%|██████████| 83/83 [04:58<00:00,  3.60s/it]\n",
      "Validate (X / X Steps) (dice=X.X): 100%|██████████| 6/6 [00:33<00:00,  5.57s/it]3,  3.47s/it]\n",
      "Training (7500 / 10000 Steps) (loss=1.14572):  37%|███▋      | 31/83 [02:37<11:40, 13.47s/it]"
     ]
    },
    {
     "name": "stdout",
     "output_type": "stream",
     "text": [
      "Model Not Saved. Best Avg. Dice: 0.5090838074684143 Current Avg. Dice: 0.4981612265110016\n"
     ]
    },
    {
     "name": "stderr",
     "output_type": "stream",
     "text": [
      "Training (7552 / 10000 Steps) (loss=1.15385): 100%|██████████| 83/83 [05:32<00:00,  4.00s/it]\n",
      "Training (7635 / 10000 Steps) (loss=1.15968): 100%|██████████| 83/83 [04:57<00:00,  3.59s/it]\n",
      "Training (7718 / 10000 Steps) (loss=1.13369): 100%|██████████| 83/83 [04:56<00:00,  3.58s/it]\n",
      "Training (7801 / 10000 Steps) (loss=1.13301): 100%|██████████| 83/83 [05:00<00:00,  3.62s/it]\n",
      "Training (7884 / 10000 Steps) (loss=1.11443): 100%|██████████| 83/83 [04:59<00:00,  3.61s/it]\n",
      "Training (7967 / 10000 Steps) (loss=1.10775): 100%|██████████| 83/83 [04:58<00:00,  3.60s/it]\n",
      "Validate (X / X Steps) (dice=X.X): 100%|██████████| 6/6 [00:33<00:00,  5.64s/it]2,  3.58s/it]\n",
      "Training (8000 / 10000 Steps) (loss=1.13061):  40%|███▉      | 33/83 [02:48<11:25, 13.70s/it]"
     ]
    },
    {
     "name": "stdout",
     "output_type": "stream",
     "text": [
      "Model Not Saved. Best Avg. Dice: 0.5090838074684143 Current Avg. Dice: 0.5010077953338623\n"
     ]
    },
    {
     "name": "stderr",
     "output_type": "stream",
     "text": [
      "Training (8050 / 10000 Steps) (loss=1.11457): 100%|██████████| 83/83 [05:37<00:00,  4.06s/it]\n",
      "Training (8133 / 10000 Steps) (loss=1.08664): 100%|██████████| 83/83 [04:58<00:00,  3.59s/it]\n",
      "Training (8216 / 10000 Steps) (loss=1.08300): 100%|██████████| 83/83 [04:55<00:00,  3.56s/it]\n",
      "Training (8299 / 10000 Steps) (loss=1.07933): 100%|██████████| 83/83 [04:57<00:00,  3.59s/it]\n",
      "Training (8382 / 10000 Steps) (loss=1.07641): 100%|██████████| 83/83 [04:57<00:00,  3.59s/it]\n",
      "Training (8465 / 10000 Steps) (loss=1.07324): 100%|██████████| 83/83 [04:48<00:00,  3.48s/it]\n",
      "Validate (X / X Steps) (dice=X.X): 100%|██████████| 6/6 [00:34<00:00,  5.78s/it]7,  3.62s/it]\n",
      "Training (8500 / 10000 Steps) (loss=1.06634):  42%|████▏     | 35/83 [02:50<11:10, 13.98s/it]"
     ]
    },
    {
     "name": "stdout",
     "output_type": "stream",
     "text": [
      "Model Not Saved. Best Avg. Dice: 0.5090838074684143 Current Avg. Dice: 0.4975155293941498\n"
     ]
    },
    {
     "name": "stderr",
     "output_type": "stream",
     "text": [
      "Training (8548 / 10000 Steps) (loss=1.07110): 100%|██████████| 83/83 [05:30<00:00,  3.98s/it]\n",
      "Training (8631 / 10000 Steps) (loss=1.05860): 100%|██████████| 83/83 [04:49<00:00,  3.48s/it]\n",
      "Training (8714 / 10000 Steps) (loss=1.04477): 100%|██████████| 83/83 [04:50<00:00,  3.50s/it]\n",
      "Training (8797 / 10000 Steps) (loss=1.05225): 100%|██████████| 83/83 [04:47<00:00,  3.46s/it]\n",
      "Training (8880 / 10000 Steps) (loss=1.04057): 100%|██████████| 83/83 [04:47<00:00,  3.46s/it]\n",
      "Training (8963 / 10000 Steps) (loss=1.05251): 100%|██████████| 83/83 [04:48<00:00,  3.47s/it]\n",
      "Validate (X / X Steps) (dice=X.X): 100%|██████████| 6/6 [00:32<00:00,  5.48s/it]0,  3.21s/it]\n",
      "Training (9000 / 10000 Steps) (loss=1.04115):  45%|████▍     | 37/83 [02:50<10:01, 13.08s/it]"
     ]
    },
    {
     "name": "stdout",
     "output_type": "stream",
     "text": [
      "Model Not Saved. Best Avg. Dice: 0.5090838074684143 Current Avg. Dice: 0.4988536834716797\n"
     ]
    },
    {
     "name": "stderr",
     "output_type": "stream",
     "text": [
      "Training (9046 / 10000 Steps) (loss=1.04682): 100%|██████████| 83/83 [05:19<00:00,  3.84s/it]\n",
      "Training (9129 / 10000 Steps) (loss=1.07427): 100%|██████████| 83/83 [04:48<00:00,  3.48s/it]\n",
      "Training (9212 / 10000 Steps) (loss=1.02798): 100%|██████████| 83/83 [04:43<00:00,  3.41s/it]\n",
      "Training (9295 / 10000 Steps) (loss=1.03519): 100%|██████████| 83/83 [04:47<00:00,  3.47s/it]\n",
      "Training (9378 / 10000 Steps) (loss=1.00816): 100%|██████████| 83/83 [04:46<00:00,  3.45s/it]\n",
      "Training (9461 / 10000 Steps) (loss=1.01403): 100%|██████████| 83/83 [04:46<00:00,  3.46s/it]\n",
      "Validate (X / X Steps) (dice=X.X): 100%|██████████| 6/6 [00:33<00:00,  5.53s/it]8,  3.30s/it]\n",
      "Training (9500 / 10000 Steps) (loss=1.00770):  47%|████▋     | 39/83 [02:58<09:42, 13.23s/it]"
     ]
    },
    {
     "name": "stdout",
     "output_type": "stream",
     "text": [
      "Model Not Saved. Best Avg. Dice: 0.5090838074684143 Current Avg. Dice: 0.49895766377449036\n"
     ]
    },
    {
     "name": "stderr",
     "output_type": "stream",
     "text": [
      "Training (9544 / 10000 Steps) (loss=1.01167): 100%|██████████| 83/83 [05:20<00:00,  3.86s/it]\n",
      "Training (9627 / 10000 Steps) (loss=1.03976): 100%|██████████| 83/83 [04:46<00:00,  3.45s/it]\n",
      "Training (9710 / 10000 Steps) (loss=1.01185): 100%|██████████| 83/83 [04:47<00:00,  3.47s/it]\n",
      "Training (9793 / 10000 Steps) (loss=1.00395): 100%|██████████| 83/83 [04:47<00:00,  3.47s/it]\n",
      "Training (9876 / 10000 Steps) (loss=0.98967): 100%|██████████| 83/83 [04:47<00:00,  3.46s/it]\n",
      "Training (9959 / 10000 Steps) (loss=1.00151): 100%|██████████| 83/83 [04:58<00:00,  3.60s/it]\n",
      "Validate (X / X Steps) (dice=X.X): 100%|██████████| 6/6 [00:35<00:00,  5.87s/it]23,  3.33s/it]\n",
      "Training (10000 / 10000 Steps) (loss=0.99876):  49%|████▉     | 41/83 [03:10<09:43, 13.89s/it]"
     ]
    },
    {
     "name": "stdout",
     "output_type": "stream",
     "text": [
      "Model Not Saved. Best Avg. Dice: 0.5090838074684143 Current Avg. Dice: 0.4991593360900879\n"
     ]
    },
    {
     "name": "stderr",
     "output_type": "stream",
     "text": [
      "Training (10042 / 10000 Steps) (loss=0.99142): 100%|██████████| 83/83 [05:41<00:00,  4.12s/it]\n",
      "C:\\Users\\Amin-\\AppData\\Local\\Temp\\ipykernel_21212\\1328456542.py:103: FutureWarning: You are using `torch.load` with `weights_only=False` (the current default value), which uses the default pickle module implicitly. It is possible to construct malicious pickle data which will execute arbitrary code during unpickling (See https://github.com/pytorch/pytorch/blob/main/SECURITY.md#untrusted-models for more details). In a future release, the default value for `weights_only` will be flipped to `True`. This limits the functions that could be executed during unpickling. Arbitrary objects will no longer be allowed to be loaded via this mode unless they are explicitly allowlisted by the user via `torch.serialization.add_safe_globals`. We recommend you start setting `weights_only=True` for any use case where you don't have full control of the loaded file. Please open an issue on GitHub for any issues related to this experimental feature.\n",
      "  model.load_state_dict(torch.load(os.path.join(root_dir, \"best_metric_model.pth\")))\n"
     ]
    },
    {
     "data": {
      "text/plain": [
       "<All keys matched successfully>"
      ]
     },
     "execution_count": 16,
     "metadata": {},
     "output_type": "execute_result"
    }
   ],
   "source": [
    "# Mixed precision setup, only enable if CUDA is available\n",
    "scaler = None\n",
    "if torch.cuda.is_available():\n",
    "    scaler = torch.cuda.amp.GradScaler()\n",
    "\n",
    "# Validation function\n",
    "def validation(epoch_iterator_val):\n",
    "    model.eval()\n",
    "    dice_metric = DiceMetric(include_background=True, reduction=\"mean\", get_not_nans=False)\n",
    "    with torch.no_grad():\n",
    "        for batch in epoch_iterator_val:\n",
    "            val_inputs, val_labels = (batch[\"image\"].to(device), batch[\"label\"].to(device))\n",
    "            val_outputs = sliding_window_inference(val_inputs, (64, 64, 64), 4, model)\n",
    "            val_labels_list = decollate_batch(val_labels)\n",
    "            val_labels_convert = [post_label(val_label_tensor) for val_label_tensor in val_labels_list]\n",
    "            val_outputs_list = decollate_batch(val_outputs)\n",
    "            val_output_convert = [post_pred(val_pred_tensor) for val_pred_tensor in val_outputs_list]\n",
    "            dice_metric(y_pred=val_output_convert, y=val_labels_convert)\n",
    "        mean_dice_val = dice_metric.aggregate().item()\n",
    "        dice_metric.reset()\n",
    "    return mean_dice_val\n",
    "\n",
    "# Training function with gradient accumulation\n",
    "accumulation_steps = 2  # Adjust based on memory constraints\n",
    "\n",
    "def train(global_step, train_loader, dice_val_best, global_step_best):\n",
    "    model.train()\n",
    "    epoch_loss = 0\n",
    "    step = 0\n",
    "    epoch_iterator = tqdm(train_loader, desc=\"Training (X / X Steps) (loss=X.X)\", dynamic_ncols=True)\n",
    "    \n",
    "    for step, batch in enumerate(epoch_iterator):\n",
    "        step += 1\n",
    "        x, y = batch[\"image\"].to(device), batch[\"label\"].to(device)\n",
    "        \n",
    "        # Mixed precision forward pass only if CUDA is available\n",
    "        if torch.cuda.is_available():\n",
    "            with torch.cuda.amp.autocast():  # Mixed precision\n",
    "                logit_map = model(x)\n",
    "                loss = loss_function(logit_map, y)\n",
    "        else:\n",
    "            # Regular forward pass if CUDA is not available\n",
    "            logit_map = model(x)\n",
    "            loss = loss_function(logit_map, y)\n",
    "\n",
    "        # Gradient accumulation\n",
    "        if torch.cuda.is_available():\n",
    "            # Backward pass with scaling for mixed precision\n",
    "            scaler.scale(loss).backward()  \n",
    "        else:\n",
    "            # Regular backward pass if not using mixed precision\n",
    "            loss.backward()\n",
    "\n",
    "        if (step + 1) % accumulation_steps == 0 or (step + 1) == len(epoch_iterator):\n",
    "            if torch.cuda.is_available():\n",
    "                scaler.step(optimizer)  # Optimizer step with scaler\n",
    "                scaler.update()  # Update the scaler\n",
    "            else:\n",
    "                optimizer.step()  # Normal optimizer step for CPU\n",
    "            optimizer.zero_grad()\n",
    "\n",
    "        epoch_loss += loss.item()\n",
    "        epoch_iterator.set_description(f\"Training ({global_step} / {max_iterations} Steps) (loss={loss.item():.5f})\")\n",
    "\n",
    "        # Validation and checkpoint saving\n",
    "        if (global_step % eval_num == 0 and global_step != 0) or global_step == max_iterations:\n",
    "            epoch_iterator_val = tqdm(val_loader, desc=\"Validate (X / X Steps) (dice=X.X)\", dynamic_ncols=True)\n",
    "            dice_val = validation(epoch_iterator_val)\n",
    "            epoch_loss /= step\n",
    "            epoch_loss_values.append(epoch_loss)\n",
    "            metric_values.append(dice_val)\n",
    "\n",
    "            if dice_val > dice_val_best:\n",
    "                dice_val_best = dice_val\n",
    "                global_step_best = global_step\n",
    "                torch.save(model.state_dict(), os.path.join(root_dir, \"best_metric_model.pth\"))\n",
    "                print(f\"Model Saved! Best Avg. Dice: {dice_val_best} Current Avg. Dice: {dice_val}\")\n",
    "            else:\n",
    "                print(f\"Model Not Saved. Best Avg. Dice: {dice_val_best} Current Avg. Dice: {dice_val}\")\n",
    "\n",
    "            # Free GPU memory after validation\n",
    "            torch.cuda.empty_cache()\n",
    "\n",
    "        global_step += 1\n",
    "    return global_step, dice_val_best, global_step_best\n",
    "\n",
    "# Training loop\n",
    "max_iterations = 10000\n",
    "eval_num = 500\n",
    "post_label = AsDiscrete(to_onehot=14)\n",
    "post_pred = AsDiscrete(argmax=True, to_onehot=14)\n",
    "\n",
    "global_step = 0\n",
    "dice_val_best = 0.0\n",
    "global_step_best = 0\n",
    "epoch_loss_values = []\n",
    "metric_values = []\n",
    "\n",
    "while global_step < max_iterations:\n",
    "    global_step, dice_val_best, global_step_best = train(global_step, train_loader, dice_val_best, global_step_best)\n",
    "\n",
    "# Load the best model after training\n",
    "model.load_state_dict(torch.load(os.path.join(root_dir, \"best_metric_model.pth\")))"
   ]
  },
  {
   "cell_type": "markdown",
   "metadata": {},
   "source": [
    "## Plot the loss and metric"
   ]
  },
  {
   "cell_type": "code",
   "execution_count": 17,
   "metadata": {},
   "outputs": [
    {
     "data": {
      "image/png": "[encoded data removed]",
      "text/plain": [
       "<Figure size 1200x600 with 2 Axes>"
      ]
     },
     "metadata": {},
     "output_type": "display_data"
    }
   ],
   "source": [
    "plt.figure(\"train\", (12, 6))\n",
    "plt.subplot(1, 2, 1)\n",
    "plt.title(\"Iteration Average Loss\")\n",
    "x = [eval_num * (i + 1) for i in range(len(epoch_loss_values))]\n",
    "y = epoch_loss_values\n",
    "plt.xlabel(\"Iteration\")\n",
    "plt.plot(x, y)\n",
    "plt.subplot(1, 2, 2)\n",
    "plt.title(\"Val Mean Dice\")\n",
    "x = [eval_num * (i + 1) for i in range(len(metric_values))]\n",
    "y = metric_values\n",
    "plt.xlabel(\"Iteration\")\n",
    "plt.plot(x, y)\n",
    "plt.show()"
   ]
  },
  {
   "cell_type": "markdown",
   "metadata": {},
   "source": [
    "## Check best model output with the input image and label\n",
    "\n",
    "No surprises when you visualize the image and the label as well as the output to be not in a height resolution, as we're working with (64,64,64) image size with the transformation!"
   ]
  },
  {
   "cell_type": "code",
   "execution_count": 13,
   "metadata": {},
   "outputs": [
    {
     "name": "stderr",
     "output_type": "stream",
     "text": [
      "C:\\Users\\Amin-\\AppData\\Local\\Temp\\ipykernel_19508\\2684869101.py:6: FutureWarning: You are using `torch.load` with `weights_only=False` (the current default value), which uses the default pickle module implicitly. It is possible to construct malicious pickle data which will execute arbitrary code during unpickling (See https://github.com/pytorch/pytorch/blob/main/SECURITY.md#untrusted-models for more details). In a future release, the default value for `weights_only` will be flipped to `True`. This limits the functions that could be executed during unpickling. Arbitrary objects will no longer be allowed to be loaded via this mode unless they are explicitly allowlisted by the user via `torch.serialization.add_safe_globals`. We recommend you start setting `weights_only=True` for any use case where you don't have full control of the loaded file. Please open an issue on GitHub for any issues related to this experimental feature.\n",
      "  model.load_state_dict(torch.load(os.path.join(root_dir, \"best_metric_model.pth\")))\n"
     ]
    },
    {
     "data": {
      "image/png": "[encoded data removed]",
      "text/plain": [
       "<Figure size 1800x600 with 3 Axes>"
      ]
     },
     "metadata": {},
     "output_type": "display_data"
    }
   ],
   "source": [
    "import torch\n",
    "\n",
    "device = torch.device('cuda' if torch.cuda.is_available() else 'cpu')\n",
    "\n",
    "case_num = 4\n",
    "model.load_state_dict(torch.load(os.path.join(root_dir, \"best_metric_model.pth\")))\n",
    "model.eval()\n",
    "with torch.no_grad():\n",
    "    img_name = os.path.split(val_ds[case_num][\"image\"].meta[\"filename_or_obj\"])[1]\n",
    "    img = val_ds[case_num][\"image\"]\n",
    "    label = val_ds[case_num][\"label\"]\n",
    "    val_inputs = torch.unsqueeze(img, 1).to(device)\n",
    "    val_labels = torch.unsqueeze(label, 1).to(device)\n",
    "    val_outputs = sliding_window_inference(val_inputs, (64, 64, 64), 4, model, overlap=0.8)\n",
    "    plt.figure(\"check\", (18, 6))\n",
    "    plt.subplot(1, 3, 1)\n",
    "    plt.title(\"image\")\n",
    "    plt.imshow(val_inputs.to(device).numpy()[0, 0, :, :, slice_map[img_name]], cmap=\"gray\")\n",
    "    plt.subplot(1, 3, 2)\n",
    "    plt.title(\"label\")\n",
    "    plt.imshow(val_labels.to(device).numpy()[0, 0, :, :, slice_map[img_name]])\n",
    "    plt.subplot(1, 3, 3)\n",
    "    plt.title(\"output\")\n",
    "    plt.imshow(torch.argmax(val_outputs, dim=1).detach().to(device)[0, :, :, slice_map[img_name]])\n",
    "    plt.show()"
   ]
  },
  {
   "cell_type": "markdown",
   "metadata": {},
   "source": [
    "## Evaluation of The Model"
   ]
  },
  {
   "cell_type": "code",
   "execution_count": 107,
   "metadata": {},
   "outputs": [
    {
     "name": "stdout",
     "output_type": "stream",
     "text": [
      "Overall Recall Score: 0.9763\n",
      "Overall Precision Score: 0.9917\n",
      "Overall F1 Score: 0.9832\n",
      "Average MSE: 0.7382\n",
      "Average RMSE: 0.8562\n",
      "Average IoU Score: 0.0160\n",
      "Confusion Matrix:\n",
      "[[1518326   19153     455     469    8923       1    5639]\n",
      " [   2605   17293       0       0       0       0       0]\n",
      " [      0       0       0       0       0       0       0]\n",
      " [      0       0       0       0       0       0       0]\n",
      " [      0       0       0       0       0       0       0]\n",
      " [      0       0       0       0       0       0       0]\n",
      " [      0       0       0       0       0       0       0]]\n"
     ]
    }
   ],
   "source": [
    "import torch\n",
    "import numpy as np\n",
    "import os\n",
    "from sklearn.metrics import f1_score, mean_squared_error, confusion_matrix, recall_score, precision_score\n",
    "import warnings\n",
    "\n",
    "# Suppress UserWarnings (which includes UndefinedMetricWarning)\n",
    "warnings.simplefilter(\"ignore\", category=UserWarning)\n",
    "\n",
    "# Assuming model is already defined and pretrained\n",
    "device = torch.device('cuda' if torch.cuda.is_available() else 'cpu')\n",
    "model.load_state_dict(torch.load(os.path.join(root_dir, \"best_metric_model.pth\"), weights_only=True))\n",
    "model.eval()\n",
    "\n",
    "# Initialize metric trackers\n",
    "all_labels = []\n",
    "all_preds = []\n",
    "\n",
    "# Variables to accumulate MSE, RMSE, IoU, Recall, and Precision across all batches\n",
    "mse_total = 0\n",
    "rmse_total = 0\n",
    "iou_total = 0\n",
    "recall_total = 0\n",
    "precision_total = 0\n",
    "batch_count = 0\n",
    "\n",
    "# IoU calculation function\n",
    "def iou_score(pred, target):\n",
    "    intersection = torch.sum(pred * target)\n",
    "    union = torch.sum(pred) + torch.sum(target) - intersection\n",
    "    return intersection / (union + 1e-6)  # Add a small value to avoid division by zero\n",
    "\n",
    "# Loop through the validation data loader\n",
    "for val_data in val_loader:\n",
    "    val_inputs, val_labels = val_data[\"image\"].to(device), val_data[\"label\"].to(device)\n",
    "\n",
    "    # Forward pass to get predictions\n",
    "    with torch.no_grad():\n",
    "        val_outputs = model(val_inputs)\n",
    "\n",
    "    # Convert predictions to class labels (for evaluation metrics)\n",
    "    val_preds = torch.argmax(val_outputs, dim=1).cpu().numpy()  # for multi-class\n",
    "    val_labels_np = val_labels.cpu().numpy()\n",
    "\n",
    "    # Collect the ground truth and predicted labels\n",
    "    all_labels.append(val_labels_np)\n",
    "    all_preds.append(val_preds)\n",
    "\n",
    "    # MSE and RMSE (accumulate for the final calculation)\n",
    "    mse = mean_squared_error(val_labels_np.flatten(), val_preds.flatten())\n",
    "    rmse = np.sqrt(mse)\n",
    "    mse_total += mse\n",
    "    rmse_total += rmse\n",
    "\n",
    "    # F1 Score (weighted)\n",
    "    f1 = f1_score(val_labels_np.flatten(), val_preds.flatten(), average=\"weighted\")\n",
    "\n",
    "    # Recall (weighted)\n",
    "    recall = recall_score(val_labels_np.flatten(), val_preds.flatten(), average=\"weighted\", zero_division=0)\n",
    "    recall_total += recall\n",
    "\n",
    "    # Precision (weighted)\n",
    "    precision = precision_score(val_labels_np.flatten(), val_preds.flatten(), average=\"weighted\", zero_division=0)\n",
    "    precision_total += precision\n",
    "\n",
    "    # For IoU (binary segmentation or multi-class segmentation)\n",
    "    # Assuming binary segmentation or we calculate IoU per class in multi-class\n",
    "    if val_labels.size(1) == 1:  # Binary segmentation (single channel output)\n",
    "        pred = torch.sigmoid(val_outputs)  # Apply sigmoid for binary segmentation (logits)\n",
    "        pred = (pred > 0.5).float()  # Threshold at 0.5 for binary prediction\n",
    "        iou = iou_score(pred, val_labels)  # Calculate IoU\n",
    "    else:  # Multi-class case, calculate IoU per class\n",
    "        # Loop through each class\n",
    "        iou = 0\n",
    "        num_classes = val_labels.max().item() + 1  # Get number of classes\n",
    "        for class_id in range(num_classes):\n",
    "            pred_class = (val_preds == class_id).astype(np.float32)\n",
    "            target_class = (val_labels_np == class_id).astype(np.float32)\n",
    "            iou_class = iou_score(torch.tensor(pred_class), torch.tensor(target_class))\n",
    "            iou += iou_class\n",
    "        iou /= num_classes  # Average IoU over all classes\n",
    "\n",
    "    iou_total += iou.item()  # Accumulate IoU for averaging\n",
    "\n",
    "    batch_count += 1  # Count number of batches\n",
    "\n",
    "# After looping through all batches, calculate overall metrics\n",
    "all_labels = np.concatenate(all_labels, axis=0)\n",
    "all_preds = np.concatenate(all_preds, axis=0)\n",
    "\n",
    "# Calculate overall Recall score (weighted)\n",
    "overall_recall = recall_score(all_labels.flatten(), all_preds.flatten(), average=\"weighted\")\n",
    "print(f\"Overall Recall Score: {overall_recall:.4f}\")\n",
    "\n",
    "# Calculate overall Precision score (weighted)\n",
    "overall_precision = precision_score(all_labels.flatten(), all_preds.flatten(), average=\"weighted\", zero_division=0)\n",
    "print(f\"Overall Precision Score: {overall_precision:.4f}\")\n",
    "\n",
    "# Calculate overall F1 score (weighted)\n",
    "overall_f1 = f1_score(all_labels.flatten(), all_preds.flatten(), average=\"weighted\")\n",
    "print(f\"Overall F1 Score: {overall_f1:.4f}\")\n",
    "\n",
    "# Calculate average MSE and RMSE across all batches\n",
    "average_mse = mse_total / batch_count\n",
    "average_rmse = rmse_total / batch_count\n",
    "print(f\"Average MSE: {average_mse:.4f}\")\n",
    "print(f\"Average RMSE: {average_rmse:.4f}\")\n",
    "\n",
    "# Calculate average IoU across all batches\n",
    "average_iou = iou_total / batch_count\n",
    "print(f\"Average IoU Score: {average_iou:.4f}\")\n",
    "\n",
    "# Optionally, print the confusion matrix for the whole validation set\n",
    "cm = confusion_matrix(all_labels.flatten(), all_preds.flatten())\n",
    "print(f\"Confusion Matrix:\\n{cm}\")\n"
   ]
  },
  {
   "cell_type": "markdown",
   "metadata": {},
   "source": [
    "# Section 3: Conclusion"
   ]
  },
  {
   "cell_type": "markdown",
   "metadata": {},
   "source": [
    "Despite the lack of resources to train the model, which led us to reduce the complexity of the network, reduce the image size, as well as the max_iterations during the training, we could achieve a good results interpreted from the Recall, Precision, F1 scores. Adding to that the avg of MSE, RMSE, and the confusion matrix results.\n",
    "\n",
    "Still our model lacks the ability to work with high-dimensional images also the mean dice value is still not that high compared to the baseline model, but as soon as we get the needed computational resources to do the training, we can stick with the setup of the baseline model and we can achieve good results with that."
   ]
  }
 ],
 "metadata": {
  "kernelspec": {
   "display_name": "Python 3",
   "language": "python",
   "name": "python3"
  },
  "language_info": {
   "codemirror_mode": {
    "name": "ipython",
    "version": 3
   },
   "file_extension": ".py",
   "mimetype": "text/x-python",
   "name": "python",
   "nbconvert_exporter": "python",
   "pygments_lexer": "ipython3",
   "version": "3.11.5"
  }
 },
 "nbformat": 4,
 "nbformat_minor": 2
}
