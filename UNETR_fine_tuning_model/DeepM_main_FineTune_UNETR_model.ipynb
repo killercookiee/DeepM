{
 "cells": [
  {
   "cell_type": "code",
   "execution_count": 11,
   "metadata": {},
   "outputs": [],
   "source": [
    "import torch\n",
    "from monai.networks.nets import UNETR"
   ]
  },
  {
   "cell_type": "code",
   "execution_count": 41,
   "metadata": {},
   "outputs": [
    {
     "name": "stdout",
     "output_type": "stream",
     "text": [
      "torch.Size([1, 14, 96, 96, 96])\n"
     ]
    }
   ],
   "source": [
    "import torch\n",
    "\n",
    "# Load the scripted model\n",
    "model = torch.jit.load(\"D:/master/1st_semester/Deep_Learning/project/DeepM/UNETR_model_best_acc.pt\", map_location=torch.device('cpu'))\n",
    "\n",
    "# Example input tensor (adjusted for 3D input size and 1 channel)\n",
    "dummy_input = torch.randn(1, 1, 96, 96, 96)  # Adjusted for 3D input with shape (batch_size, in_channels, depth, height, width)\n",
    "\n",
    "# Perform inference\n",
    "output = model(dummy_input)\n",
    "\n",
    "# Print the output shape\n",
    "print(output.shape)  # The output shape will depend on the model's design, likely (1, 14, 96, 96, 96) if out_channels=14\n"
   ]
  },
  {
   "cell_type": "markdown",
   "metadata": {},
   "source": [
    "## Load the Pretrained model"
   ]
  },
  {
   "cell_type": "code",
   "execution_count": 186,
   "metadata": {},
   "outputs": [
    {
     "name": "stderr",
     "output_type": "stream",
     "text": [
      "C:\\Users\\Amin-\\AppData\\Local\\Temp\\ipykernel_30156\\319760341.py:16: FutureWarning: You are using `torch.load` with `weights_only=False` (the current default value), which uses the default pickle module implicitly. It is possible to construct malicious pickle data which will execute arbitrary code during unpickling (See https://github.com/pytorch/pytorch/blob/main/SECURITY.md#untrusted-models for more details). In a future release, the default value for `weights_only` will be flipped to `True`. This limits the functions that could be executed during unpickling. Arbitrary objects will no longer be allowed to be loaded via this mode unless they are explicitly allowlisted by the user via `torch.serialization.add_safe_globals`. We recommend you start setting `weights_only=True` for any use case where you don't have full control of the loaded file. Please open an issue on GitHub for any issues related to this experimental feature.\n",
      "  model.load_state_dict(torch.load(os.path.join(\"D:/master/1st_semester/Deep_Learning/project/DeepM/\", \"best_metric_model.pth\")))\n"
     ]
    },
    {
     "data": {
      "text/plain": [
       "<All keys matched successfully>"
      ]
     },
     "execution_count": 186,
     "metadata": {},
     "output_type": "execute_result"
    }
   ],
   "source": [
    "import os\n",
    "\n",
    "model = UNETR(\n",
    "    in_channels=1,\n",
    "    out_channels=14,\n",
    "    img_size=(64, 64, 64),\n",
    "    feature_size=8,\n",
    "    hidden_size=256,\n",
    "    mlp_dim=1024,\n",
    "    num_heads=8,\n",
    "    norm_name=\"instance\",  # Removed proj_type\n",
    "    res_block=True,\n",
    "    dropout_rate=0.0,\n",
    ")\n",
    "\n",
    "model.load_state_dict(torch.load(os.path.join(\"D:/master/1st_semester/Deep_Learning/project/DeepM/\", \"best_metric_model.pth\")))"
   ]
  },
  {
   "cell_type": "code",
   "execution_count": null,
   "metadata": {},
   "outputs": [],
   "source": [
    "model = model.cuda()  # Ensure the model is on the correct device (GPU/CPU)\n"
   ]
  },
  {
   "cell_type": "markdown",
   "metadata": {},
   "source": [
    "## Create Conf File for Training and Validation"
   ]
  },
  {
   "cell_type": "code",
   "execution_count": 171,
   "metadata": {},
   "outputs": [
    {
     "name": "stdout",
     "output_type": "stream",
     "text": [
      "JSON configuration file created at dataset_config.json\n"
     ]
    }
   ],
   "source": [
    "import os\n",
    "import json\n",
    "\n",
    "def create_json(dataset_dir, json_output_path):\n",
    "    # Initialize dictionary for the dataset configuration\n",
    "    dataset_config = {\n",
    "        \"training\": [],\n",
    "        \"testing\": []\n",
    "    }\n",
    "\n",
    "    # Iterate over the \"training\" and \"testing\" directories\n",
    "    for phase in ['training', 'testing']:\n",
    "        phase_dir = os.path.join(dataset_dir, phase)\n",
    "        \n",
    "        # Iterate over each patient directory in the phase\n",
    "        for patient_dir in os.listdir(phase_dir):\n",
    "            patient_path = os.path.join(phase_dir, patient_dir)\n",
    "            \n",
    "            # Make sure it's a directory\n",
    "            if os.path.isdir(patient_path):\n",
    "                # Collect image-label pairs for each frame in the patient's directory\n",
    "                for file in os.listdir(patient_path):\n",
    "                    # Only consider .nii.gz files\n",
    "                    if file.endswith('.nii.gz'):\n",
    "                        # Assuming files are named like 'patient_frame01.nii.gz' and 'patient_frame01_gt.nii.gz'\n",
    "                        frame_name = file.replace('.nii.gz', '')\n",
    "                        if '_gt' in file:\n",
    "                            # This is the ground truth (label)\n",
    "                            label_path = os.path.join(patient_path, file)\n",
    "                            image_path = label_path.replace('_gt', '')  # Get the corresponding image path\n",
    "                            \n",
    "                            # Add to the list of image-label pairs\n",
    "                            dataset_config[phase].append({\n",
    "                                \"image\": image_path,\n",
    "                                \"label\": label_path\n",
    "                            })\n",
    "    \n",
    "    # Write the dictionary to a JSON file\n",
    "    with open(json_output_path, 'w') as json_file:\n",
    "        json.dump(dataset_config, json_file, indent=4)\n",
    "\n",
    "# Set dataset directory and output path\n",
    "dataset_dir = 'D:/master/1st_semester/Deep_Learning/project/DeepM/MIS-working-database'  # Replace with the path to your dataset folder\n",
    "json_output_path = 'dataset_config.json'  # Path where the JSON file will be saved\n",
    "\n",
    "# Create the JSON file\n",
    "create_json(dataset_dir, json_output_path)\n",
    "print(f\"JSON configuration file created at {json_output_path}\")\n"
   ]
  },
  {
   "cell_type": "markdown",
   "metadata": {},
   "source": [
    "## Setup transforms for training and validation"
   ]
  },
  {
   "cell_type": "code",
   "execution_count": 187,
   "metadata": {},
   "outputs": [
    {
     "name": "stderr",
     "output_type": "stream",
     "text": [
      "Loading dataset: 100%|██████████| 4/4 [00:00<00:00,  9.92it/s]\n",
      "Loading dataset: 100%|██████████| 6/6 [00:00<00:00,  8.88it/s]\n"
     ]
    }
   ],
   "source": [
    "import json\n",
    "from monai.data import CacheDataset, DataLoader, load_decathlon_datalist\n",
    "from monai.transforms import Compose, LoadImaged, EnsureChannelFirstd, Orientationd, Spacingd, ScaleIntensityRanged, CropForegroundd, Resized\n",
    "\n",
    "# Define the transformation pipelines (same as before)\n",
    "train_transforms = Compose(\n",
    "    [\n",
    "        LoadImaged(keys=[\"image\", \"label\"]),\n",
    "        EnsureChannelFirstd(keys=[\"image\", \"label\"]),\n",
    "        Orientationd(keys=[\"image\", \"label\"], axcodes=\"RAS\"),\n",
    "        Spacingd(\n",
    "            keys=[\"image\", \"label\"],\n",
    "            pixdim=(1.5, 1.5, 2.0),\n",
    "            mode=(\"bilinear\", \"nearest\"),\n",
    "        ),\n",
    "        ScaleIntensityRanged(\n",
    "            keys=[\"image\"],\n",
    "            a_min=-175,\n",
    "            a_max=250,\n",
    "            b_min=0.0,\n",
    "            b_max=1.0,\n",
    "            clip=True,\n",
    "        ),\n",
    "        CropForegroundd(keys=[\"image\", \"label\"], source_key=\"image\"),\n",
    "        Resized(keys=[\"image\", \"label\"], spatial_size=(64, 64, 64), mode=\"nearest\"),\n",
    "    ]\n",
    ")\n",
    "\n",
    "val_transforms = Compose(\n",
    "    [\n",
    "        LoadImaged(keys=[\"image\", \"label\"]),\n",
    "        EnsureChannelFirstd(keys=[\"image\", \"label\"]),\n",
    "        Orientationd(keys=[\"image\", \"label\"], axcodes=\"RAS\"),\n",
    "        Spacingd(\n",
    "            keys=[\"image\", \"label\"],\n",
    "            pixdim=(1.5, 1.5, 2.0),\n",
    "            mode=(\"bilinear\", \"nearest\"),\n",
    "        ),\n",
    "        ScaleIntensityRanged(keys=[\"image\"], a_min=-175, a_max=250, b_min=0.0, b_max=1.0, clip=True),\n",
    "        CropForegroundd(keys=[\"image\", \"label\"], source_key=\"image\"),\n",
    "        Resized(keys=[\"image\", \"label\"], spatial_size=(64, 64, 64), mode=\"nearest\"),\n",
    "    ]\n",
    ")\n",
    "\n",
    "# Load the dataset\n",
    "base_directory = 'D:/master/1st_semester/Deep_Learning/project/DeepM'\n",
    "split_json = \"dataset_config.json\"\n",
    "datasets = os.path.join(base_directory, split_json)\n",
    "datalist = load_decathlon_datalist(datasets, True, \"training\")\n",
    "val_files = load_decathlon_datalist(datasets, True, \"validation\")\n",
    "\n",
    "# Create datasets\n",
    "train_ds = CacheDataset(\n",
    "    data=datalist,\n",
    "    transform=train_transforms,\n",
    "    cache_num=4,\n",
    "    cache_rate=1.0,\n",
    "    num_workers=8,\n",
    ")\n",
    "\n",
    "val_ds = CacheDataset(\n",
    "    data=val_files,\n",
    "    transform=val_transforms,\n",
    "    cache_num=6,\n",
    "    cache_rate=1.0,\n",
    "    num_workers=4,\n",
    ")\n",
    "\n",
    "# Create DataLoaders\n",
    "train_loader = DataLoader(train_ds, batch_size=1, shuffle=True, num_workers=4, pin_memory=True)\n",
    "val_loader = DataLoader(val_ds, batch_size=1, shuffle=False, num_workers=4, pin_memory=True)\n"
   ]
  },
  {
   "cell_type": "code",
   "execution_count": 181,
   "metadata": {},
   "outputs": [],
   "source": [
    "import torch.optim as optim\n",
    "\n",
    "# Loss function: CrossEntropyLoss for multi-class segmentation\n",
    "criterion = torch.nn.CrossEntropyLoss()\n",
    "\n",
    "# Optimizer: Adam (you can also use AdamW for better weight decay)\n",
    "optimizer = optim.Adam(model.parameters(), lr=1e-4)\n",
    "\n",
    "# Optionally, adjust learning rate scheduler\n",
    "scheduler = optim.lr_scheduler.StepLR(optimizer, step_size=10, gamma=0.1)\n"
   ]
  },
  {
   "cell_type": "code",
   "execution_count": null,
   "metadata": {},
   "outputs": [],
   "source": [
    "import os\n",
    "import matplotlib.pyplot as plt\n",
    "from tqdm import tqdm\n",
    "from monai.losses import DiceCELoss\n",
    "from monai.inferers import sliding_window_inference\n",
    "from monai.transforms import (\n",
    "    AsDiscrete,\n",
    ")\n",
    "from monai.config import print_config\n",
    "from monai.metrics import DiceMetric\n",
    "from monai.networks.nets import UNETR\n",
    "from monai.data import (\n",
    "    decollate_batch,\n",
    ")\n",
    "import torch\n",
    "print_config()"
   ]
  },
  {
   "cell_type": "markdown",
   "metadata": {},
   "source": [
    "## Execute the Training"
   ]
  },
  {
   "cell_type": "code",
   "execution_count": 189,
   "metadata": {},
   "outputs": [],
   "source": [
    "# Loss function\n",
    "loss_function = DiceCELoss(to_onehot_y=True, softmax=True)\n",
    "\n",
    "# Optimizer\n",
    "torch.backends.cudnn.benchmark = True\n",
    "optimizer = torch.optim.AdamW(model.parameters(), lr=1e-4, weight_decay=1e-5)"
   ]
  },
  {
   "cell_type": "code",
   "execution_count": 191,
   "metadata": {},
   "outputs": [
    {
     "name": "stderr",
     "output_type": "stream",
     "text": [
      "Training (189 / 10000 Steps) (loss=1.98656): 100%|██████████| 190/190 [04:27<00:00,  1.41s/it]\n",
      "Training (379 / 10000 Steps) (loss=1.88468): 100%|██████████| 190/190 [04:19<00:00,  1.37s/it]\n",
      "Validate (X / X Steps) (dice=X.X): 100%|██████████| 100/100 [00:57<00:00,  1.74it/s] 1.14s/it]\n",
      "Training (500 / 10000 Steps) (loss=1.85499):  64%|██████▎   | 121/190 [03:35<21:16, 18.50s/it]"
     ]
    },
    {
     "name": "stdout",
     "output_type": "stream",
     "text": [
      "Model Saved! Best Avg. Dice: 0.39822182059288025 Current Avg. Dice: 0.39822182059288025\n"
     ]
    },
    {
     "name": "stderr",
     "output_type": "stream",
     "text": [
      "Training (569 / 10000 Steps) (loss=1.80531): 100%|██████████| 190/190 [04:55<00:00,  1.55s/it]\n",
      "Training (759 / 10000 Steps) (loss=1.73565): 100%|██████████| 190/190 [03:55<00:00,  1.24s/it]\n",
      "Training (949 / 10000 Steps) (loss=1.67951): 100%|██████████| 190/190 [03:55<00:00,  1.24s/it]\n",
      "Validate (X / X Steps) (dice=X.X): 100%|██████████| 100/100 [00:57<00:00,  1.75it/s] 1.14s/it]\n",
      "Training (1000 / 10000 Steps) (loss=1.65501):  27%|██▋       | 51/190 [02:12<42:29, 18.34s/it]"
     ]
    },
    {
     "name": "stdout",
     "output_type": "stream",
     "text": [
      "Model Saved! Best Avg. Dice: 0.4261191487312317 Current Avg. Dice: 0.4261191487312317\n"
     ]
    },
    {
     "name": "stderr",
     "output_type": "stream",
     "text": [
      "Training (1139 / 10000 Steps) (loss=1.60812): 100%|██████████| 190/190 [04:52<00:00,  1.54s/it]\n",
      "Training (1329 / 10000 Steps) (loss=1.52086): 100%|██████████| 190/190 [03:54<00:00,  1.24s/it]\n",
      "Validate (X / X Steps) (dice=X.X): 100%|██████████| 100/100 [00:56<00:00,  1.77it/s]  1.11s/it]\n",
      "Training (1500 / 10000 Steps) (loss=1.45314):  90%|█████████ | 171/190 [04:29<05:44, 18.11s/it]"
     ]
    },
    {
     "name": "stdout",
     "output_type": "stream",
     "text": [
      "Model Saved! Best Avg. Dice: 0.5385987758636475 Current Avg. Dice: 0.5385987758636475\n"
     ]
    },
    {
     "name": "stderr",
     "output_type": "stream",
     "text": [
      "Training (1519 / 10000 Steps) (loss=1.45433): 100%|██████████| 190/190 [04:52<00:00,  1.54s/it]\n",
      "Training (1709 / 10000 Steps) (loss=1.41698): 100%|██████████| 190/190 [03:55<00:00,  1.24s/it]\n",
      "Training (1899 / 10000 Steps) (loss=1.34752): 100%|██████████| 190/190 [03:57<00:00,  1.25s/it]\n",
      "Validate (X / X Steps) (dice=X.X): 100%|██████████| 100/100 [00:57<00:00,  1.74it/s]  1.12s/it]\n",
      "Training (2000 / 10000 Steps) (loss=1.32170):  53%|█████▎    | 101/190 [03:10<27:15, 18.38s/it]"
     ]
    },
    {
     "name": "stdout",
     "output_type": "stream",
     "text": [
      "Model Saved! Best Avg. Dice: 0.5809350609779358 Current Avg. Dice: 0.5809350609779358\n"
     ]
    },
    {
     "name": "stderr",
     "output_type": "stream",
     "text": [
      "Training (2089 / 10000 Steps) (loss=1.28309): 100%|██████████| 190/190 [05:06<00:00,  1.61s/it]\n",
      "Training (2279 / 10000 Steps) (loss=1.30312): 100%|██████████| 190/190 [03:53<00:00,  1.23s/it]\n",
      "Training (2469 / 10000 Steps) (loss=1.26302): 100%|██████████| 190/190 [03:52<00:00,  1.22s/it]\n",
      "Validate (X / X Steps) (dice=X.X): 100%|██████████| 100/100 [00:57<00:00,  1.74it/s] 1.14s/it]\n",
      "Training (2500 / 10000 Steps) (loss=1.22979):  16%|█▋        | 31/190 [01:50<48:52, 18.44s/it]"
     ]
    },
    {
     "name": "stdout",
     "output_type": "stream",
     "text": [
      "Model Saved! Best Avg. Dice: 0.5811004638671875 Current Avg. Dice: 0.5811004638671875\n"
     ]
    },
    {
     "name": "stderr",
     "output_type": "stream",
     "text": [
      "Training (2659 / 10000 Steps) (loss=1.21605): 100%|██████████| 190/190 [04:51<00:00,  1.54s/it]\n",
      "Training (2849 / 10000 Steps) (loss=1.18194): 100%|██████████| 190/190 [03:51<00:00,  1.22s/it]\n",
      "Validate (X / X Steps) (dice=X.X): 100%|██████████| 100/100 [01:02<00:00,  1.61it/s]  1.21s/it]\n",
      "Training (3000 / 10000 Steps) (loss=1.15259):  79%|███████▉  | 151/190 [04:35<12:56, 19.90s/it]"
     ]
    },
    {
     "name": "stdout",
     "output_type": "stream",
     "text": [
      "Model Saved! Best Avg. Dice: 0.6027911305427551 Current Avg. Dice: 0.6027911305427551\n"
     ]
    },
    {
     "name": "stderr",
     "output_type": "stream",
     "text": [
      "Training (3039 / 10000 Steps) (loss=1.13369): 100%|██████████| 190/190 [05:23<00:00,  1.70s/it]\n",
      "Training (3229 / 10000 Steps) (loss=1.11794): 100%|██████████| 190/190 [04:06<00:00,  1.30s/it]\n",
      "Training (3419 / 10000 Steps) (loss=1.11125): 100%|██████████| 190/190 [04:08<00:00,  1.31s/it]\n",
      "Validate (X / X Steps) (dice=X.X): 100%|██████████| 100/100 [01:00<00:00,  1.65it/s] 1.20s/it]\n",
      "Training (3500 / 10000 Steps) (loss=1.08897):  43%|████▎     | 81/190 [02:55<35:12, 19.38s/it]"
     ]
    },
    {
     "name": "stdout",
     "output_type": "stream",
     "text": [
      "Model Saved! Best Avg. Dice: 0.6179898977279663 Current Avg. Dice: 0.6179898977279663\n"
     ]
    },
    {
     "name": "stderr",
     "output_type": "stream",
     "text": [
      "Training (3609 / 10000 Steps) (loss=1.07604): 100%|██████████| 190/190 [05:09<00:00,  1.63s/it]\n",
      "Training (3799 / 10000 Steps) (loss=1.08530): 100%|██████████| 190/190 [03:51<00:00,  1.22s/it]\n",
      "Training (3989 / 10000 Steps) (loss=1.05728): 100%|██████████| 190/190 [03:51<00:00,  1.22s/it]\n",
      "Validate (X / X Steps) (dice=X.X): 100%|██████████| 100/100 [00:55<00:00,  1.81it/s] 1.28s/it]\n",
      "Training (4000 / 10000 Steps) (loss=1.05815):   6%|▌         | 11/190 [01:24<54:13, 18.18s/it]"
     ]
    },
    {
     "name": "stdout",
     "output_type": "stream",
     "text": [
      "Model Not Saved. Best Avg. Dice: 0.6179898977279663 Current Avg. Dice: 0.5989806652069092\n"
     ]
    },
    {
     "name": "stderr",
     "output_type": "stream",
     "text": [
      "Training (4179 / 10000 Steps) (loss=1.03746): 100%|██████████| 190/190 [04:45<00:00,  1.50s/it]\n",
      "Training (4369 / 10000 Steps) (loss=1.02164): 100%|██████████| 190/190 [03:49<00:00,  1.21s/it]\n",
      "Validate (X / X Steps) (dice=X.X): 100%|██████████| 100/100 [00:58<00:00,  1.71it/s]  1.15s/it]\n",
      "Training (4500 / 10000 Steps) (loss=1.01458):  69%|██████▉   | 131/190 [03:40<18:23, 18.71s/it]"
     ]
    },
    {
     "name": "stdout",
     "output_type": "stream",
     "text": [
      "Model Saved! Best Avg. Dice: 0.636605978012085 Current Avg. Dice: 0.636605978012085\n"
     ]
    },
    {
     "name": "stderr",
     "output_type": "stream",
     "text": [
      "Training (4559 / 10000 Steps) (loss=1.07014): 100%|██████████| 190/190 [04:47<00:00,  1.51s/it]\n",
      "Training (4749 / 10000 Steps) (loss=0.98756): 100%|██████████| 190/190 [03:47<00:00,  1.20s/it]\n",
      "Training (4939 / 10000 Steps) (loss=1.00340): 100%|██████████| 190/190 [03:50<00:00,  1.21s/it]\n",
      "Validate (X / X Steps) (dice=X.X): 100%|██████████| 100/100 [00:57<00:00,  1.74it/s] 1.07s/it]\n",
      "Training (5000 / 10000 Steps) (loss=0.99929):  32%|███▏      | 61/190 [02:21<39:31, 18.39s/it]"
     ]
    },
    {
     "name": "stdout",
     "output_type": "stream",
     "text": [
      "Model Saved! Best Avg. Dice: 0.642977774143219 Current Avg. Dice: 0.642977774143219\n"
     ]
    },
    {
     "name": "stderr",
     "output_type": "stream",
     "text": [
      "Training (5129 / 10000 Steps) (loss=0.96308): 100%|██████████| 190/190 [04:48<00:00,  1.52s/it]\n",
      "Training (5319 / 10000 Steps) (loss=0.99489): 100%|██████████| 190/190 [03:49<00:00,  1.21s/it]\n",
      "Validate (X / X Steps) (dice=X.X): 100%|██████████| 100/100 [00:58<00:00,  1.71it/s]  1.11s/it]\n",
      "Training (5500 / 10000 Steps) (loss=0.94052):  95%|█████████▌| 181/190 [04:37<02:48, 18.68s/it]"
     ]
    },
    {
     "name": "stdout",
     "output_type": "stream",
     "text": [
      "Model Saved! Best Avg. Dice: 0.6448101997375488 Current Avg. Dice: 0.6448101997375488\n"
     ]
    },
    {
     "name": "stderr",
     "output_type": "stream",
     "text": [
      "Training (5509 / 10000 Steps) (loss=0.96052): 100%|██████████| 190/190 [04:48<00:00,  1.52s/it]\n",
      "Training (5699 / 10000 Steps) (loss=0.95285): 100%|██████████| 190/190 [04:14<00:00,  1.34s/it]\n",
      "Training (5889 / 10000 Steps) (loss=0.97315): 100%|██████████| 190/190 [03:56<00:00,  1.24s/it]\n",
      "Validate (X / X Steps) (dice=X.X): 100%|██████████| 100/100 [00:57<00:00,  1.74it/s]  1.12s/it]\n",
      "Training (6000 / 10000 Steps) (loss=0.93737):  58%|█████▊    | 111/190 [03:17<24:15, 18.42s/it]"
     ]
    },
    {
     "name": "stdout",
     "output_type": "stream",
     "text": [
      "Model Not Saved. Best Avg. Dice: 0.6448101997375488 Current Avg. Dice: 0.6342686414718628\n"
     ]
    },
    {
     "name": "stderr",
     "output_type": "stream",
     "text": [
      "Training (6079 / 10000 Steps) (loss=0.93118): 100%|██████████| 190/190 [04:46<00:00,  1.51s/it]\n",
      "Training (6269 / 10000 Steps) (loss=0.91808): 100%|██████████| 190/190 [03:50<00:00,  1.22s/it]\n",
      "Training (6459 / 10000 Steps) (loss=0.94097): 100%|██████████| 190/190 [03:51<00:00,  1.22s/it]\n",
      "Validate (X / X Steps) (dice=X.X): 100%|██████████| 100/100 [00:56<00:00,  1.78it/s] 1.14s/it]\n",
      "Training (6500 / 10000 Steps) (loss=0.91923):  22%|██▏       | 41/190 [02:00<44:42, 18.00s/it]"
     ]
    },
    {
     "name": "stdout",
     "output_type": "stream",
     "text": [
      "Model Saved! Best Avg. Dice: 0.6499131917953491 Current Avg. Dice: 0.6499131917953491\n"
     ]
    },
    {
     "name": "stderr",
     "output_type": "stream",
     "text": [
      "Training (6649 / 10000 Steps) (loss=0.93874): 100%|██████████| 190/190 [04:49<00:00,  1.52s/it]\n",
      "Training (6839 / 10000 Steps) (loss=0.92530): 100%|██████████| 190/190 [03:53<00:00,  1.23s/it]\n",
      "Validate (X / X Steps) (dice=X.X): 100%|██████████| 100/100 [00:58<00:00,  1.70it/s]  1.10s/it]\n",
      "Training (7000 / 10000 Steps) (loss=0.89856):  85%|████████▍ | 161/190 [04:15<09:03, 18.75s/it]"
     ]
    },
    {
     "name": "stdout",
     "output_type": "stream",
     "text": [
      "Model Not Saved. Best Avg. Dice: 0.6499131917953491 Current Avg. Dice: 0.6439799666404724\n"
     ]
    },
    {
     "name": "stderr",
     "output_type": "stream",
     "text": [
      "Training (7029 / 10000 Steps) (loss=0.90069): 100%|██████████| 190/190 [04:49<00:00,  1.52s/it]\n",
      "Training (7219 / 10000 Steps) (loss=0.88118): 100%|██████████| 190/190 [04:14<00:00,  1.34s/it]\n",
      "Training (7409 / 10000 Steps) (loss=0.87549): 100%|██████████| 190/190 [04:08<00:00,  1.31s/it]\n",
      "Validate (X / X Steps) (dice=X.X): 100%|██████████| 100/100 [01:01<00:00,  1.63it/s] 1.20s/it]\n",
      "Training (7500 / 10000 Steps) (loss=0.87305):  48%|████▊     | 91/190 [03:09<32:22, 19.62s/it]"
     ]
    },
    {
     "name": "stdout",
     "output_type": "stream",
     "text": [
      "Model Saved! Best Avg. Dice: 0.659526526927948 Current Avg. Dice: 0.659526526927948\n"
     ]
    },
    {
     "name": "stderr",
     "output_type": "stream",
     "text": [
      "Training (7599 / 10000 Steps) (loss=0.87603): 100%|██████████| 190/190 [05:08<00:00,  1.63s/it]\n",
      "Training (7789 / 10000 Steps) (loss=0.89085): 100%|██████████| 190/190 [04:10<00:00,  1.32s/it]\n",
      "Training (7979 / 10000 Steps) (loss=0.86354): 100%|██████████| 190/190 [04:27<00:00,  1.41s/it]\n",
      "Validate (X / X Steps) (dice=X.X): 100%|██████████| 100/100 [01:02<00:00,  1.60it/s] 1.21s/it]\n",
      "Training (8000 / 10000 Steps) (loss=0.86267):  11%|█         | 21/190 [01:45<56:30, 20.06s/it]"
     ]
    },
    {
     "name": "stdout",
     "output_type": "stream",
     "text": [
      "Model Not Saved. Best Avg. Dice: 0.659526526927948 Current Avg. Dice: 0.654489278793335\n"
     ]
    },
    {
     "name": "stderr",
     "output_type": "stream",
     "text": [
      "Training (8169 / 10000 Steps) (loss=0.85462): 100%|██████████| 190/190 [05:14<00:00,  1.65s/it]\n",
      "Training (8359 / 10000 Steps) (loss=0.87223): 100%|██████████| 190/190 [04:07<00:00,  1.30s/it]\n",
      "Validate (X / X Steps) (dice=X.X): 100%|██████████| 100/100 [01:02<00:00,  1.59it/s]  1.19s/it]\n",
      "Training (8500 / 10000 Steps) (loss=0.85229):  74%|███████▍  | 141/190 [04:10<16:22, 20.04s/it]"
     ]
    },
    {
     "name": "stdout",
     "output_type": "stream",
     "text": [
      "Model Not Saved. Best Avg. Dice: 0.659526526927948 Current Avg. Dice: 0.6577951908111572\n"
     ]
    },
    {
     "name": "stderr",
     "output_type": "stream",
     "text": [
      "Training (8549 / 10000 Steps) (loss=0.95478): 100%|██████████| 190/190 [05:10<00:00,  1.63s/it]\n",
      "Training (8739 / 10000 Steps) (loss=0.86905): 100%|██████████| 190/190 [04:09<00:00,  1.31s/it]\n",
      "Training (8929 / 10000 Steps) (loss=0.86720): 100%|██████████| 190/190 [04:08<00:00,  1.31s/it]\n",
      "Validate (X / X Steps) (dice=X.X): 100%|██████████| 100/100 [01:04<00:00,  1.55it/s] 1.16s/it] \n",
      "Training (9000 / 10000 Steps) (loss=0.85550):  37%|███▋      | 71/190 [02:53<40:43, 20.53s/it]"
     ]
    },
    {
     "name": "stdout",
     "output_type": "stream",
     "text": [
      "Model Not Saved. Best Avg. Dice: 0.659526526927948 Current Avg. Dice: 0.6528152227401733\n"
     ]
    },
    {
     "name": "stderr",
     "output_type": "stream",
     "text": [
      "Training (9119 / 10000 Steps) (loss=0.84090): 100%|██████████| 190/190 [05:26<00:00,  1.72s/it]\n",
      "Training (9309 / 10000 Steps) (loss=0.82802): 100%|██████████| 190/190 [04:23<00:00,  1.39s/it]\n",
      "Training (9499 / 10000 Steps) (loss=0.84510): 100%|██████████| 190/190 [04:12<00:00,  1.33s/it]\n",
      "Validate (X / X Steps) (dice=X.X): 100%|██████████| 100/100 [01:02<00:00,  1.61it/s]]\n",
      "Training (9500 / 10000 Steps) (loss=0.83488):   1%|          | 1/190 [01:21<4:15:41, 81.17s/it]"
     ]
    },
    {
     "name": "stdout",
     "output_type": "stream",
     "text": [
      "Model Not Saved. Best Avg. Dice: 0.659526526927948 Current Avg. Dice: 0.6552780270576477\n"
     ]
    },
    {
     "name": "stderr",
     "output_type": "stream",
     "text": [
      "Training (9689 / 10000 Steps) (loss=0.81924): 100%|██████████| 190/190 [05:07<00:00,  1.62s/it]\n",
      "Training (9879 / 10000 Steps) (loss=0.80995): 100%|██████████| 190/190 [03:58<00:00,  1.25s/it]\n",
      "Validate (X / X Steps) (dice=X.X): 100%|██████████| 100/100 [01:18<00:00,  1.27it/s],  1.23s/it]\n",
      "Training (10000 / 10000 Steps) (loss=0.83232):  64%|██████▎   | 121/190 [04:07<28:35, 24.86s/it]"
     ]
    },
    {
     "name": "stdout",
     "output_type": "stream",
     "text": [
      "Model Not Saved. Best Avg. Dice: 0.659526526927948 Current Avg. Dice: 0.6492674350738525\n"
     ]
    },
    {
     "name": "stderr",
     "output_type": "stream",
     "text": [
      "Training (10069 / 10000 Steps) (loss=0.81856): 100%|██████████| 190/190 [05:44<00:00,  1.81s/it]\n",
      "C:\\Users\\Amin-\\AppData\\Local\\Temp\\ipykernel_30156\\4194693992.py:104: FutureWarning: You are using `torch.load` with `weights_only=False` (the current default value), which uses the default pickle module implicitly. It is possible to construct malicious pickle data which will execute arbitrary code during unpickling (See https://github.com/pytorch/pytorch/blob/main/SECURITY.md#untrusted-models for more details). In a future release, the default value for `weights_only` will be flipped to `True`. This limits the functions that could be executed during unpickling. Arbitrary objects will no longer be allowed to be loaded via this mode unless they are explicitly allowlisted by the user via `torch.serialization.add_safe_globals`. We recommend you start setting `weights_only=True` for any use case where you don't have full control of the loaded file. Please open an issue on GitHub for any issues related to this experimental feature.\n",
      "  model.load_state_dict(torch.load(os.path.join(root_dir, \"finetune_best_metric_model.pth\")))\n"
     ]
    },
    {
     "data": {
      "text/plain": [
       "<All keys matched successfully>"
      ]
     },
     "execution_count": 191,
     "metadata": {},
     "output_type": "execute_result"
    }
   ],
   "source": [
    "root_dir = 'D:/master/1st_semester/Deep_Learning/project/DeepM'\n",
    "# Mixed precision setup, only enable if CUDA is available\n",
    "scaler = None\n",
    "if torch.cuda.is_available():\n",
    "    scaler = torch.cuda.amp.GradScaler()\n",
    "\n",
    "# Validation function\n",
    "def validation(epoch_iterator_val):\n",
    "    model.eval()\n",
    "    dice_metric = DiceMetric(include_background=True, reduction=\"mean\", get_not_nans=False)\n",
    "    with torch.no_grad():\n",
    "        for batch in epoch_iterator_val:\n",
    "            val_inputs, val_labels = (batch[\"image\"].to(device), batch[\"label\"].to(device))\n",
    "            val_outputs = sliding_window_inference(val_inputs, (64, 64, 64), 4, model)\n",
    "            val_labels_list = decollate_batch(val_labels)\n",
    "            val_labels_convert = [post_label(val_label_tensor) for val_label_tensor in val_labels_list]\n",
    "            val_outputs_list = decollate_batch(val_outputs)\n",
    "            val_output_convert = [post_pred(val_pred_tensor) for val_pred_tensor in val_outputs_list]\n",
    "            dice_metric(y_pred=val_output_convert, y=val_labels_convert)\n",
    "        mean_dice_val = dice_metric.aggregate().item()\n",
    "        dice_metric.reset()\n",
    "    return mean_dice_val\n",
    "\n",
    "# Training function with gradient accumulation\n",
    "accumulation_steps = 2  # Adjust based on memory constraints\n",
    "\n",
    "def train(global_step, train_loader, dice_val_best, global_step_best):\n",
    "    model.train()\n",
    "    epoch_loss = 0\n",
    "    step = 0\n",
    "    epoch_iterator = tqdm(train_loader, desc=\"Training (X / X Steps) (loss=X.X)\", dynamic_ncols=True)\n",
    "    \n",
    "    for step, batch in enumerate(epoch_iterator):\n",
    "        step += 1\n",
    "        x, y = batch[\"image\"].to(device), batch[\"label\"].to(device)\n",
    "        \n",
    "        # Mixed precision forward pass only if CUDA is available\n",
    "        if torch.cuda.is_available():\n",
    "            with torch.cuda.amp.autocast():  # Mixed precision\n",
    "                logit_map = model(x)\n",
    "                loss = loss_function(logit_map, y)\n",
    "        else:\n",
    "            # Regular forward pass if CUDA is not available\n",
    "            logit_map = model(x)\n",
    "            loss = loss_function(logit_map, y)\n",
    "\n",
    "        # Gradient accumulation\n",
    "        if torch.cuda.is_available():\n",
    "            # Backward pass with scaling for mixed precision\n",
    "            scaler.scale(loss).backward()  \n",
    "        else:\n",
    "            # Regular backward pass if not using mixed precision\n",
    "            loss.backward()\n",
    "\n",
    "        if (step + 1) % accumulation_steps == 0 or (step + 1) == len(epoch_iterator):\n",
    "            if torch.cuda.is_available():\n",
    "                scaler.step(optimizer)  # Optimizer step with scaler\n",
    "                scaler.update()  # Update the scaler\n",
    "            else:\n",
    "                optimizer.step()  # Normal optimizer step for CPU\n",
    "            optimizer.zero_grad()\n",
    "\n",
    "        epoch_loss += loss.item()\n",
    "        epoch_iterator.set_description(f\"Training ({global_step} / {max_iterations} Steps) (loss={loss.item():.5f})\")\n",
    "\n",
    "        # Validation and checkpoint saving\n",
    "        if (global_step % eval_num == 0 and global_step != 0) or global_step == max_iterations:\n",
    "            epoch_iterator_val = tqdm(val_loader, desc=\"Validate (X / X Steps) (dice=X.X)\", dynamic_ncols=True)\n",
    "            dice_val = validation(epoch_iterator_val)\n",
    "            epoch_loss /= step\n",
    "            epoch_loss_values.append(epoch_loss)\n",
    "            metric_values.append(dice_val)\n",
    "\n",
    "            if dice_val > dice_val_best:\n",
    "                dice_val_best = dice_val\n",
    "                global_step_best = global_step\n",
    "                torch.save(model.state_dict(), os.path.join(root_dir, \"finetune_best_metric_model.pth\"))\n",
    "                print(f\"Model Saved! Best Avg. Dice: {dice_val_best} Current Avg. Dice: {dice_val}\")\n",
    "            else:\n",
    "                print(f\"Model Not Saved. Best Avg. Dice: {dice_val_best} Current Avg. Dice: {dice_val}\")\n",
    "\n",
    "            # Free GPU memory after validation\n",
    "            torch.cuda.empty_cache()\n",
    "\n",
    "        global_step += 1\n",
    "    return global_step, dice_val_best, global_step_best\n",
    "\n",
    "# Training loop\n",
    "max_iterations = 10000\n",
    "eval_num = 500\n",
    "post_label = AsDiscrete(to_onehot=14)\n",
    "post_pred = AsDiscrete(argmax=True, to_onehot=14)\n",
    "\n",
    "global_step = 0\n",
    "dice_val_best = 0.0\n",
    "global_step_best = 0\n",
    "epoch_loss_values = []\n",
    "metric_values = []\n",
    "\n",
    "while global_step < max_iterations:\n",
    "    global_step, dice_val_best, global_step_best = train(global_step, train_loader, dice_val_best, global_step_best)\n",
    "\n",
    "# Load the best model after training\n",
    "model.load_state_dict(torch.load(os.path.join(root_dir, \"finetune_best_metric_model.pth\")))"
   ]
  },
  {
   "cell_type": "markdown",
   "metadata": {},
   "source": [
    "## Plot the loss and Dice metric"
   ]
  },
  {
   "cell_type": "code",
   "execution_count": 192,
   "metadata": {},
   "outputs": [
    {
     "data": {
      "image/png": "[encoded data removed]",
      "text/plain": [
       "<Figure size 1200x600 with 2 Axes>"
      ]
     },
     "metadata": {},
     "output_type": "display_data"
    }
   ],
   "source": [
    "plt.figure(\"train\", (12, 6))\n",
    "plt.subplot(1, 2, 1)\n",
    "plt.title(\"Iteration Average Loss\")\n",
    "x = [eval_num * (i + 1) for i in range(len(epoch_loss_values))]\n",
    "y = epoch_loss_values\n",
    "plt.xlabel(\"Iteration\")\n",
    "plt.plot(x, y)\n",
    "plt.subplot(1, 2, 2)\n",
    "plt.title(\"Val Mean Dice\")\n",
    "x = [eval_num * (i + 1) for i in range(len(metric_values))]\n",
    "y = metric_values\n",
    "plt.xlabel(\"Iteration\")\n",
    "plt.plot(x, y)\n",
    "plt.show()"
   ]
  },
  {
   "cell_type": "markdown",
   "metadata": {},
   "source": [
    "## Evaluation of The Best Fine Tuned Model"
   ]
  },
  {
   "cell_type": "code",
   "execution_count": 193,
   "metadata": {},
   "outputs": [
    {
     "name": "stdout",
     "output_type": "stream",
     "text": [
      "Overall Recall Score: 0.9762\n",
      "Overall Precision Score: 0.9758\n",
      "Overall F1 Score: 0.9759\n",
      "Average MSE: 0.0710\n",
      "Average RMSE: 0.2599\n",
      "Average IoU Score: 0.2082\n",
      "Confusion Matrix:\n",
      "[[25078350    83752   101618    31561]\n",
      " [  126303   155492    12624    14977]\n",
      " [  113052    15156   158044    16459]\n",
      " [   32361    12220    63047   199384]]\n"
     ]
    }
   ],
   "source": [
    "import torch\n",
    "import numpy as np\n",
    "import os\n",
    "from sklearn.metrics import f1_score, mean_squared_error, confusion_matrix, recall_score, precision_score\n",
    "import warnings\n",
    "\n",
    "# Suppress UserWarnings (which includes UndefinedMetricWarning)\n",
    "warnings.simplefilter(\"ignore\", category=UserWarning)\n",
    "\n",
    "# Assuming model is already defined and pretrained\n",
    "device = torch.device('cuda' if torch.cuda.is_available() else 'cpu')\n",
    "model.load_state_dict(torch.load(os.path.join(root_dir, \"finetune_best_metric_model.pth\"), weights_only=True))\n",
    "model.eval()\n",
    "\n",
    "# Initialize metric trackers\n",
    "all_labels = []\n",
    "all_preds = []\n",
    "\n",
    "# Variables to accumulate MSE, RMSE, IoU, Recall, and Precision across all batches\n",
    "mse_total = 0\n",
    "rmse_total = 0\n",
    "iou_total = 0\n",
    "recall_total = 0\n",
    "precision_total = 0\n",
    "batch_count = 0\n",
    "\n",
    "# IoU calculation function\n",
    "def iou_score(pred, target):\n",
    "    intersection = torch.sum(pred * target)\n",
    "    union = torch.sum(pred) + torch.sum(target) - intersection\n",
    "    return intersection / (union + 1e-6)  # Add a small value to avoid division by zero\n",
    "\n",
    "# Loop through the validation data loader\n",
    "for val_data in val_loader:\n",
    "    val_inputs, val_labels = val_data[\"image\"].to(device), val_data[\"label\"].to(device)\n",
    "\n",
    "    # Forward pass to get predictions\n",
    "    with torch.no_grad():\n",
    "        val_outputs = model(val_inputs)\n",
    "\n",
    "    # Convert predictions to class labels (for evaluation metrics)\n",
    "    val_preds = torch.argmax(val_outputs, dim=1).cpu().numpy()  # for multi-class\n",
    "    val_labels_np = val_labels.cpu().numpy()\n",
    "\n",
    "    # Collect the ground truth and predicted labels\n",
    "    all_labels.append(val_labels_np)\n",
    "    all_preds.append(val_preds)\n",
    "\n",
    "    # MSE and RMSE (accumulate for the final calculation)\n",
    "    mse = mean_squared_error(val_labels_np.flatten(), val_preds.flatten())\n",
    "    rmse = np.sqrt(mse)\n",
    "    mse_total += mse\n",
    "    rmse_total += rmse\n",
    "\n",
    "    # F1 Score (weighted)\n",
    "    f1 = f1_score(val_labels_np.flatten(), val_preds.flatten(), average=\"weighted\")\n",
    "\n",
    "    # Recall (weighted)\n",
    "    recall = recall_score(val_labels_np.flatten(), val_preds.flatten(), average=\"weighted\", zero_division=0)\n",
    "    recall_total += recall\n",
    "\n",
    "    # Precision (weighted)\n",
    "    precision = precision_score(val_labels_np.flatten(), val_preds.flatten(), average=\"weighted\", zero_division=0)\n",
    "    precision_total += precision\n",
    "\n",
    "    # For IoU (binary segmentation or multi-class segmentation)\n",
    "    # Assuming binary segmentation or we calculate IoU per class in multi-class\n",
    "    if val_labels.size(1) == 1:  # Binary segmentation (single channel output)\n",
    "        pred = torch.sigmoid(val_outputs)  # Apply sigmoid for binary segmentation (logits)\n",
    "        pred = (pred > 0.5).float()  # Threshold at 0.5 for binary prediction\n",
    "        iou = iou_score(pred, val_labels)  # Calculate IoU\n",
    "    else:  # Multi-class case, calculate IoU per class\n",
    "        # Loop through each class\n",
    "        iou = 0\n",
    "        num_classes = val_labels.max().item() + 1  # Get number of classes\n",
    "        for class_id in range(num_classes):\n",
    "            pred_class = (val_preds == class_id).astype(np.float32)\n",
    "            target_class = (val_labels_np == class_id).astype(np.float32)\n",
    "            iou_class = iou_score(torch.tensor(pred_class), torch.tensor(target_class))\n",
    "            iou += iou_class\n",
    "        iou /= num_classes  # Average IoU over all classes\n",
    "\n",
    "    iou_total += iou.item()  # Accumulate IoU for averaging\n",
    "\n",
    "    batch_count += 1  # Count number of batches\n",
    "\n",
    "# After looping through all batches, calculate overall metrics\n",
    "all_labels = np.concatenate(all_labels, axis=0)\n",
    "all_preds = np.concatenate(all_preds, axis=0)\n",
    "\n",
    "# Calculate overall Recall score (weighted)\n",
    "overall_recall = recall_score(all_labels.flatten(), all_preds.flatten(), average=\"weighted\")\n",
    "print(f\"Overall Recall Score: {overall_recall:.4f}\")\n",
    "\n",
    "# Calculate overall Precision score (weighted)\n",
    "overall_precision = precision_score(all_labels.flatten(), all_preds.flatten(), average=\"weighted\", zero_division=0)\n",
    "print(f\"Overall Precision Score: {overall_precision:.4f}\")\n",
    "\n",
    "# Calculate overall F1 score (weighted)\n",
    "overall_f1 = f1_score(all_labels.flatten(), all_preds.flatten(), average=\"weighted\")\n",
    "print(f\"Overall F1 Score: {overall_f1:.4f}\")\n",
    "\n",
    "# Calculate average MSE and RMSE across all batches\n",
    "average_mse = mse_total / batch_count\n",
    "average_rmse = rmse_total / batch_count\n",
    "print(f\"Average MSE: {average_mse:.4f}\")\n",
    "print(f\"Average RMSE: {average_rmse:.4f}\")\n",
    "\n",
    "# Calculate average IoU across all batches\n",
    "average_iou = iou_total / batch_count\n",
    "print(f\"Average IoU Score: {average_iou:.4f}\")\n",
    "\n",
    "# Optionally, print the confusion matrix for the whole validation set\n",
    "cm = confusion_matrix(all_labels.flatten(), all_preds.flatten())\n",
    "print(f\"Confusion Matrix:\\n{cm}\")\n"
   ]
  }
 ],
 "metadata": {
  "kernelspec": {
   "display_name": ".venv",
   "language": "python",
   "name": "python3"
  },
  "language_info": {
   "codemirror_mode": {
    "name": "ipython",
    "version": 3
   },
   "file_extension": ".py",
   "mimetype": "text/x-python",
   "name": "python",
   "nbconvert_exporter": "python",
   "pygments_lexer": "ipython3",
   "version": "3.10.5"
  }
 },
 "nbformat": 4,
 "nbformat_minor": 2
}
